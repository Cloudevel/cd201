{
 "cells": [
  {
   "cell_type": "markdown",
   "metadata": {},
   "source": [
    "[![imagenes/pythonista.png](imagenes/pythonista.png)](https://pythonista.io)"
   ]
  },
  {
   "cell_type": "code",
   "execution_count": null,
   "metadata": {},
   "outputs": [],
   "source": [
    "console.log(eval('Hola'));"
   ]
  },
  {
   "cell_type": "markdown",
   "metadata": {},
   "source": [
    "## Gestión de errores con try.. catch."
   ]
  },
  {
   "cell_type": "code",
   "execution_count": null,
   "metadata": {},
   "outputs": [],
   "source": [
    "try \n",
    "{\n",
    "   console.log(eval('Hola')); \n",
    "}\n",
    "catch(error)\n",
    "{\n",
    "    console.log('Aquí no pasó nada.');\n",
    "}\n",
    "console.log('Buen día.');"
   ]
  },
  {
   "cell_type": "code",
   "execution_count": null,
   "metadata": {},
   "outputs": [],
   "source": [
    "try \n",
    "{\n",
    "   console.log(eval('Hola')); \n",
    "}\n",
    "catch(error)\n",
    "{\n",
    "    console.log('Ocurrió el siguiente error:', error);\n",
    "}\n",
    "console.log('Buen día.');"
   ]
  },
  {
   "cell_type": "markdown",
   "metadata": {},
   "source": [
    " ## Cierre obligatorio con finally."
   ]
  },
  {
   "cell_type": "code",
   "execution_count": null,
   "metadata": {},
   "outputs": [],
   "source": [
    "function evalua(cadena)\n",
    "{\n",
    "    let bandera = true;\n",
    "    try \n",
    "    {\n",
    "       console.log(eval(cadena)); \n",
    "    }\n",
    "    catch(error)\n",
    "    {\n",
    "        console.log('Ocurrió el siguiente error:', error);\n",
    "        bandera = false;\n",
    "    }\n",
    "    finally\n",
    "    {\n",
    "        if (bandera)\n",
    "        {\n",
    "            console.log('Todo salió bien.')\n",
    "        }\n",
    "        else\n",
    "        {\n",
    "            console.log('Ocurrió un error.')\n",
    "        }\n",
    "    }\n",
    "}"
   ]
  },
  {
   "cell_type": "code",
   "execution_count": null,
   "metadata": {},
   "outputs": [],
   "source": [
    "evalua('2 * 3')"
   ]
  },
  {
   "cell_type": "markdown",
   "metadata": {},
   "source": [
    "## Creación de excepción con thow."
   ]
  },
  {
   "cell_type": "code",
   "execution_count": null,
   "metadata": {},
   "outputs": [],
   "source": [
    "function evalua(cadena)\n",
    "{\n",
    "    let bandera = true;\n",
    "    try \n",
    "    {  \n",
    "        if (cadena == 1)\n",
    "        {\n",
    "            throw('error previsto')\n",
    "        }\n",
    "        console.log(eval(cadena)); \n",
    "    }\n",
    "    catch(error)\n",
    "    {\n",
    "        console.log('Ocurrió el siguiente error:', error);\n",
    "        bandera = false;\n",
    "    }\n",
    "    finally\n",
    "    {\n",
    "        if (bandera)\n",
    "        {\n",
    "            console.log('Todo salió bien.')\n",
    "        }\n",
    "        else\n",
    "        {\n",
    "            console.log('Ocurrió un error.')\n",
    "        }\n",
    "    }\n",
    "}"
   ]
  },
  {
   "cell_type": "code",
   "execution_count": null,
   "metadata": {},
   "outputs": [],
   "source": [
    "evalua(1);"
   ]
  },
  {
   "cell_type": "markdown",
   "metadata": {},
   "source": [
    "<p style=\"text-align: center\"><a rel=\"license\" href=\"http://creativecommons.org/licenses/by/4.0/\"><img alt=\"Licencia Creative Commons\" style=\"border-width:0\" src=\"https://i.creativecommons.org/l/by/4.0/80x15.png\" /></a><br />Esta obra está bajo una <a rel=\"license\" href=\"http://creativecommons.org/licenses/by/4.0/\">Licencia Creative Commons Atribución 4.0 Internacional</a>.</p>\n",
    "<p style=\"text-align: center\">&copy; José Luis Chiquete Valdivieso. 2018.</p>"
   ]
  }
 ],
 "metadata": {
  "kernelspec": {
   "display_name": "Javascript (Node.js)",
   "language": "javascript",
   "name": "javascript"
  },
  "language_info": {
   "file_extension": ".js",
   "mimetype": "application/javascript",
   "name": "javascript",
   "version": "6.14.3"
  }
 },
 "nbformat": 4,
 "nbformat_minor": 2
}
