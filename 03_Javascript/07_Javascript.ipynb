{
 "cells": [
  {
   "cell_type": "markdown",
   "metadata": {},
   "source": [
    "# Ciclos\n",
    "## Ciclo *while ()*\n",
    "En este ciclo se evalúa una expresión y de ser verdadera, se ejecuta el código que contiene."
   ]
  },
  {
   "cell_type": "code",
   "execution_count": null,
   "metadata": {},
   "outputs": [],
   "source": [
    "var contador = 0;\n",
    "var bandera = true;\n",
    "while ((contador < 5) && bandera) {\n",
    "    console.log(contador);\n",
    "    contador ++\n",
    "}"
   ]
  },
  {
   "cell_type": "code",
   "execution_count": null,
   "metadata": {},
   "outputs": [],
   "source": [
    "var contador = 0;\n",
    "var bandera = false;\n",
    "while ((contador < 5) && bandera) {\n",
    "    console.log(contador);\n",
    "    contador ++\n",
    "}"
   ]
  },
  {
   "cell_type": "markdown",
   "metadata": {},
   "source": [
    "Es de tomarse en cuenta que al final del *while()*, la ejecución regresa el último valor computado en vez de *undefined*."
   ]
  },
  {
   "cell_type": "markdown",
   "metadata": {},
   "source": [
    "## Ciclo *do ... while()* \n",
    "En este ciclo se ejecuta el código que contiene la estructura y en caso de ser verdadero, se repite."
   ]
  },
  {
   "cell_type": "code",
   "execution_count": null,
   "metadata": {},
   "outputs": [],
   "source": [
    "var contador = 0;\n",
    "var bandera = true;\n",
    "do {\n",
    "    console.log(contador);\n",
    "    contador ++\n",
    "} while ((contador < 5) && bandera);"
   ]
  },
  {
   "cell_type": "code",
   "execution_count": null,
   "metadata": {},
   "outputs": [],
   "source": [
    "var contador = 0;\n",
    "var bandera = false;\n",
    "do {\n",
    "    console.log(contador);\n",
    "    contador ++\n",
    "} while ((contador < 5) && bandera);"
   ]
  },
  {
   "cell_type": "markdown",
   "metadata": {},
   "source": [
    "# Iteraciones con *for()*\n",
    "Es posible iterar con una condición numérica mediante el usos de *for()*.\n",
    "Para eso se requiere una variable con valor de inicio, una condición y una razón de cambio, cada una separado poe el símbolo de punto y coma (*;*)."
   ]
  },
  {
   "cell_type": "code",
   "execution_count": null,
   "metadata": {},
   "outputs": [],
   "source": [
    "var objetivo = 5;\n",
    "for (i = 0; i < objetivo; i++){\n",
    "    console.log(i);\n",
    "}"
   ]
  },
  {
   "cell_type": "markdown",
   "metadata": {},
   "source": [
    "En el caso anterior, se hace una iteración de i con valor inicial de 0 mientras sea menor que el valor de la variable *objetivo*, en incrementos de a 1. \n",
    "\n",
    "Tanbién es posible hacer la iteración en decrementos."
   ]
  },
  {
   "cell_type": "code",
   "execution_count": null,
   "metadata": {},
   "outputs": [],
   "source": [
    "var objetivo = 0;\n",
    "for (i = 5; i >= objetivo; --i){\n",
    "    console.log(i);\n",
    "}"
   ]
  },
  {
   "cell_type": "markdown",
   "metadata": {},
   "source": [
    "## La estructura *for(... in ...)*\n",
    "Como se había mencionado con anterioridad, el operador *in* regresa el índice de un elemento iterable como un arreglo. Es así que al utilizarlo en un *for"
   ]
  },
  {
   "cell_type": "code",
   "execution_count": null,
   "metadata": {},
   "outputs": [],
   "source": [
    "var elemento = [1, \"dos\", true];\n",
    "for (i in elemento) {\n",
    "    console.log(i);\n",
    "}"
   ]
  },
  {
   "cell_type": "code",
   "execution_count": null,
   "metadata": {
    "collapsed": true
   },
   "outputs": [],
   "source": []
  }
 ],
 "metadata": {
  "kernelspec": {
   "display_name": "NodeJS",
   "language": "javascript",
   "name": "nodejs"
  },
  "language_info": {
   "codemirror_mode": "javascript",
   "file_extension": ".js",
   "mimetype": "text/javascript",
   "name": "nodejs",
   "pygments_lexer": "javascript",
   "version": "0.10"
  }
 },
 "nbformat": 4,
 "nbformat_minor": 1
}
