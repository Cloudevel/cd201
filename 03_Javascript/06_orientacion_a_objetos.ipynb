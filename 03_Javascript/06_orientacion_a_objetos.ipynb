{
 "cells": [
  {
   "cell_type": "markdown",
   "metadata": {},
   "source": [
    "# Orientación a objetos en Javascript\n",
    "Se ha discutido mucho si Javascript es un lenguaje que se apega correctamente a los preceptos básicos del paradigma de la Programación Orientada a Objetos, pero el hecho es que sin importar qué tan apegado esté a dicho paradigma, Javascript utiliza el modelo de uso de atributos y métodos para ciertos elementos.\n",
    "\n",
    "## DOM\n",
    "\n",
    "Cuando Javascript es utilizado en un navegador web, este tiene acceso a un objeto llamado *Document* con el cual puede modificar y controlar el contenido de una página. A esta interfaz se le llama *DOM* por Document Object Model y es una de las base para el desarrollo de aplicaciones web dinámicas.\n",
    "\n",
    "## console\n",
    "Del mismo modo, Javascript cuenta con un objeto llamado console, el cual corresponde a un shell que permite interactuar con la consola. Por ejemplo, es posible desplegar un mensaje mediante el método *log()* introduciendo el texto a desplegar como argumento.\n",
    "Al invocar al método se desplegará el mensaje y a continuación el valor *undefined*."
   ]
  },
  {
   "cell_type": "code",
   "execution_count": null,
   "metadata": {},
   "outputs": [],
   "source": [
    "console.log(\"Hola, Mundo.\")"
   ]
  },
  {
   "cell_type": "markdown",
   "metadata": {},
   "source": [
    "## JSON\n",
    "Javascript cuenta con una notación para definir objetos llamada JSON por las siglas en inglés de \"Javascript Object Notation\" a cual es tan práctica y fácil de usar que ha sido adoptada por muchos programadores de aplicaciones como el formato preferido para intercambio de da."
   ]
  }
 ],
 "metadata": {
  "kernelspec": {
   "display_name": "NodeJS",
   "language": "javascript",
   "name": "nodejs"
  },
  "language_info": {
   "codemirror_mode": "javascript",
   "file_extension": ".js",
   "mimetype": "text/javascript",
   "name": "nodejs",
   "pygments_lexer": "javascript",
   "version": "0.10"
  }
 },
 "nbformat": 4,
 "nbformat_minor": 2
}
