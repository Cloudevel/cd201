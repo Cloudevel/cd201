{
 "cells": [
  {
   "cell_type": "markdown",
   "metadata": {},
   "source": [
    "# Evaluación en Javascript\n",
    "\n",
    "Para que una expresión lógica de un resultado verdadero (*true*) o falso (*false*) es necesario comparar un elemento con otro.\n",
    "\n",
    "## Operadores de comparación\n",
    "Para lograr este fin, Javascript cuenta con los siguientes operadores lógicos:\n",
    "\n",
    "|Operador|Evalúa          |\n",
    "|:------:|:---------------|\n",
    "|*==*    |*a == b* ¿a igual a b?|\n",
    "|*!=* \t |*a != b* ¿a distinta de b?|\n",
    "|*>*     |*a > b* ¿a mayor que b?|\n",
    "|*<* \t |*a < b* ¿a menor que b?|\n",
    "|*>=*    |*a >= b* ¿a mayor o igual que b?|\n",
    "|*<=*    |*a <= b* ¿a menor o igual que b?|\n",
    "|*===*   |* a === b* ¿a es igual y del mismo tipo que b?|\n",
    "\n",
    "**Nota:** Es un error extremadamente común confundir el operador de asignación \"=\" con el operador de igualdad \"==\", porque es necesario ser ciudadoso y evitar errores de sintaxis.\n",
    "\n",
    "Debido a que Javascript no es un lenguaje de tipado estricto, es posible hacer comparaciones entre números y cadenas de caracteres con resultados contradictorios."
   ]
  },
  {
   "cell_type": "code",
   "execution_count": null,
   "metadata": {},
   "outputs": [],
   "source": [
    "2 == \"2\";"
   ]
  },
  {
   "cell_type": "code",
   "execution_count": null,
   "metadata": {},
   "outputs": [],
   "source": [
    "0 != true;"
   ]
  },
  {
   "cell_type": "code",
   "execution_count": null,
   "metadata": {},
   "outputs": [],
   "source": [
    "1 == true;"
   ]
  },
  {
   "cell_type": "code",
   "execution_count": null,
   "metadata": {},
   "outputs": [],
   "source": [
    "2 === \"2\";"
   ]
  },
  {
   "cell_type": "code",
   "execution_count": null,
   "metadata": {},
   "outputs": [],
   "source": [
    "0 === true;"
   ]
  },
  {
   "cell_type": "code",
   "execution_count": null,
   "metadata": {},
   "outputs": [],
   "source": [
    "5 > \"Hola\";"
   ]
  },
  {
   "cell_type": "code",
   "execution_count": null,
   "metadata": {},
   "outputs": [],
   "source": [
    "\"1000\" >= \"a12\";"
   ]
  },
  {
   "cell_type": "code",
   "execution_count": null,
   "metadata": {
    "collapsed": true
   },
   "outputs": [],
   "source": []
  },
  {
   "cell_type": "markdown",
   "metadata": {},
   "source": [
    "## El operador *in*\n",
    "El operador *in* permite saber si el índice de un elemento está dentro de una colección de datos. "
   ]
  },
  {
   "cell_type": "code",
   "execution_count": null,
   "metadata": {},
   "outputs": [],
   "source": [
    "0 in [\"delantero\", \"defensa\", \"portero\", \"árbitro\"];"
   ]
  },
  {
   "cell_type": "markdown",
   "metadata": {},
   "source": [
    "# Operadores lógicos\n",
    "Los operadores lógicos permiten evaluar varias condiciones dentro de una expresión.\n",
    "\n",
    "|Operador|Evalúa|\n",
    "|:------:|:----:|\n",
    "|  &#124;&#124;|*a &#124;&#124; b* ¿Se cumplen a o b?|\n",
    "|&& \t |*a && b* ¿Se comple a y b?|\n",
    "|*!*   |* !x* Complemento de x|"
   ]
  },
  {
   "cell_type": "code",
   "execution_count": null,
   "metadata": {},
   "outputs": [],
   "source": [
    "true && false;"
   ]
  },
  {
   "cell_type": "code",
   "execution_count": null,
   "metadata": {},
   "outputs": [],
   "source": [
    "true || false;"
   ]
  },
  {
   "cell_type": "code",
   "execution_count": null,
   "metadata": {},
   "outputs": [],
   "source": [
    "!true;"
   ]
  },
  {
   "cell_type": "markdown",
   "metadata": {},
   "source": [
    "En estos ejemplos se evaluara si el valor dentro de una variable se encuentra en un rango."
   ]
  },
  {
   "cell_type": "code",
   "execution_count": null,
   "metadata": {},
   "outputs": [],
   "source": [
    "var numero = 12;"
   ]
  },
  {
   "cell_type": "code",
   "execution_count": null,
   "metadata": {},
   "outputs": [],
   "source": [
    "numero > 5 && numero < 43;"
   ]
  },
  {
   "cell_type": "code",
   "execution_count": null,
   "metadata": {},
   "outputs": [],
   "source": [
    "numero > 12 && numero < 43;"
   ]
  },
  {
   "cell_type": "code",
   "execution_count": null,
   "metadata": {},
   "outputs": [],
   "source": [
    "numero >= 12 && numero < 43;"
   ]
  },
  {
   "cell_type": "markdown",
   "metadata": {},
   "source": [
    "## Precedencia de los operadores y los paréntesis\n",
    "Los operadores lógicos se evalúan de izquierda a derecha, pero a los componentes encerrados dentro del paréntesos se les evalúa primero."
   ]
  },
  {
   "cell_type": "code",
   "execution_count": null,
   "metadata": {},
   "outputs": [],
   "source": [
    "!false && true || true"
   ]
  },
  {
   "cell_type": "code",
   "execution_count": null,
   "metadata": {},
   "outputs": [],
   "source": [
    "!(false && true || true)"
   ]
  },
  {
   "cell_type": "markdown",
   "metadata": {},
   "source": [
    "# Delimitación de bloques de código.\n",
    "En Javasacript un bloque de código se delimita mediante llaves ( *{}* ).\n",
    "\n",
    "La indentación (espacios en blanco al iniciar una línea) se utiliza sólo como buena práctica para identificar los bloques de código de mejor manera.\n",
    "# Condicional *if()*\n",
    "Un condicional permite ejecutar cierto bloque de código delimitado dentro de éste en caso de que una condición dada sea verdadera.\n",
    "El el caso de Javascript es obligatorio que las condiciones lógicas estén encerradas en paréntesis."
   ]
  },
  {
   "cell_type": "code",
   "execution_count": null,
   "metadata": {},
   "outputs": [],
   "source": [
    "var animal = \"gato\";\n",
    "console.log(\"El animal es un\", animal + \".\");\n",
    "if (animal == \"gato\") {\n",
    "    console.log(\"Los gatos maullan.\");\n",
    "}\n",
    "console.log(\"Tenga un buen día.\");"
   ]
  },
  {
   "cell_type": "markdown",
   "metadata": {},
   "source": [
    "Ahora bien. Si en lugar de *\"gato\"* el valor de la variable *animal* es *\"perro\"*,entonces el código indentado no se ejecuta:"
   ]
  },
  {
   "cell_type": "code",
   "execution_count": null,
   "metadata": {},
   "outputs": [],
   "source": [
    "var animal = \"perro\";\n",
    "console.log(\"El animal es un\", animal + \".\");\n",
    "if (animal == \"gato\") {\n",
    "    console.log(\"Los gatos maullan.\");\n",
    "}\n",
    "console.log(\"Tenga un buen día.\");"
   ]
  },
  {
   "cell_type": "markdown",
   "metadata": {},
   "source": [
    "Javascript es sensible a las mayúsculas."
   ]
  },
  {
   "cell_type": "code",
   "execution_count": null,
   "metadata": {},
   "outputs": [],
   "source": [
    "var animal = \"Gato\";\n",
    "console.log(\"El animal es un\", animal + \".\");\n",
    "if (animal == \"gato\") {\n",
    "    console.log(\"Los gatos maullan.\");\n",
    "}\n",
    "console.log(\"Tenga un buen día.\");"
   ]
  },
  {
   "cell_type": "markdown",
   "metadata": {},
   "source": [
    "## Estructura *if ()... else*\n",
    "En esta estructura, el bloque de código delimitado por else se ejecuta en caso de que la condición no sea verdadera."
   ]
  },
  {
   "cell_type": "code",
   "execution_count": null,
   "metadata": {},
   "outputs": [],
   "source": [
    "var animal = \"perro\";\n",
    "console.log(\"El animal es un\", animal + \".\");\n",
    "if (animal == \"gato\") {\n",
    "    console.log(\"Los gatos maullan.\");\n",
    "}\n",
    "else {\n",
    "    console.log(\"No identifico al animal.\")\n",
    "}\n",
    "console.log(\"Tenga un buen día.\");"
   ]
  },
  {
   "cell_type": "markdown",
   "metadata": {},
   "source": [
    "## Estructura *if ()... else if().. else*\n",
    "Existen casos en los que se deben evaluar diversas condiciones. Javascript permite evaluar más de una condición con la combonación *else* *if*. Tan pronto como una condición sea verdadera, esta se ejecutará y el flujo de código continúa con el bloque de mayor jerarquía."
   ]
  },
  {
   "cell_type": "code",
   "execution_count": null,
   "metadata": {},
   "outputs": [],
   "source": [
    "var numero = 12.3;\n",
    "console.log(\"El número es\", numero);\n",
    "if (numero > 0) {\n",
    "    console.log(\"El número es positivo.\");\n",
    "}\n",
    "else if (numero < 0) {\n",
    "    console.log(\"El número es negativo.\");\n",
    "}\n",
    "else {\n",
    "    console.log(\"El número es cero.\");\n",
    "}\n",
    "console.log(\"Buen día.\");"
   ]
  },
  {
   "cell_type": "code",
   "execution_count": null,
   "metadata": {},
   "outputs": [],
   "source": [
    "var numero = 0;\n",
    "console.log(\"El número es\", numero)\n",
    "if (Math.trunc(numero) == numero) {\n",
    "    console.log(\"El número es entero.\")\n",
    "}\n",
    "else if (numero > 0) {\n",
    "    console.log(\"El número es positivo.\")\n",
    "}\n",
    "console.log(\"Buen día.\")   "
   ]
  },
  {
   "cell_type": "markdown",
   "metadata": {
    "collapsed": true
   },
   "source": [
    "## Bloques \"anidados\"\n",
    "Es posible colocar bloques dentro de otros y cada bloque está delimitado por loas llaves ( *{}* ), tal como se ejemplifica a continuación. \n",
    "Estos bloques anidados pueden ser de diversos tipos, pero en este caso se usarán los condicionales conocidos:"
   ]
  },
  {
   "cell_type": "code",
   "execution_count": null,
   "metadata": {},
   "outputs": [],
   "source": [
    "var variable = \"12\";\n",
    "console.log(\"La variable es\", variable + \".\");\n",
    "if (variable == Number(variable)){\n",
    "    console.log(\"La variable representa a un número.\");\n",
    "    if (variable === Number(variable)){\n",
    "        console.log(\"La variable es de tipo numérico.\");  \n",
    "    }\n",
    "    else {\n",
    "        console.log(\"La variable no es de tipo numérico.\"); \n",
    "    }\n",
    "}\n",
    "else {\n",
    "    console.log(\"La variable no representa a un número.\");\n",
    "}"
   ]
  },
  {
   "cell_type": "code",
   "execution_count": null,
   "metadata": {},
   "outputs": [],
   "source": [
    "var variable = \"Hola\";\n",
    "console.log(\"La variable es\", variable + \".\");\n",
    "if (variable == Number(variable)){\n",
    "    console.log(\"La variable representa a un número.\");\n",
    "    if (variable === Number(variable)){\n",
    "        console.log(\"La variable es de tipo numérico.\");  \n",
    "    }\n",
    "    else {\n",
    "        console.log(\"La variable no es de tipo numérico.\"); \n",
    "    }\n",
    "}\n",
    "else {\n",
    "    console.log(\"La variable no representa a un número.\");\n",
    "}"
   ]
  },
  {
   "cell_type": "code",
   "execution_count": null,
   "metadata": {
    "collapsed": true
   },
   "outputs": [],
   "source": []
  }
 ],
 "metadata": {
  "kernelspec": {
   "display_name": "NodeJS",
   "language": "javascript",
   "name": "nodejs"
  },
  "language_info": {
   "codemirror_mode": "javascript",
   "file_extension": ".js",
   "mimetype": "text/javascript",
   "name": "nodejs",
   "pygments_lexer": "javascript",
   "version": "0.10"
  }
 },
 "nbformat": 4,
 "nbformat_minor": 1
}
