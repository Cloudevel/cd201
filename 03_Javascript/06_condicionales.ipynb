{
 "cells": [
  {
   "cell_type": "markdown",
   "metadata": {},
   "source": [
    "# Evaluación en Javascript\n",
    "\n",
    "Para que una expresión lógica de un resultado verdadero (*true*) o falso (*false*) es necesario comparar un elemento con otro.\n",
    "\n",
    "## Operadores de evaluación lógica\n",
    "Para lograr este fin, Javascript cuenta con los siguientes operadores lógicos:\n",
    "\n",
    "|Operador|Evalúa          |\n",
    "|:------:|:---------------|\n",
    "|*==*    |*a == b* ¿a igual a b?|\n",
    "|*!=* \t |*a != b* ¿a distinta de b?|\n",
    "|*>*     |*a > b* ¿a mayor que b?|\n",
    "|*<* \t |*a < b* ¿a menor que b?|\n",
    "|*>=*    |*a >= b* ¿a mayor o igual que b?|\n",
    "|*<=*    |*a <= b* ¿a menor o igual que b?|\n",
    "|*===*   |* a === b* ¿a es igual y del mismo tipo que b?|\n",
    "|*!==*   |* a !== b* ¿a es de distinto tipo que b?|\n",
    "\n",
    "**Nota:** Es un error extremadamente común confundir el operador de asignación \"=\" con el operador de igualdad \"==\", porque es necesario ser ciudadoso y evitar errores de sintaxis.\n",
    "\n",
    "Debido a que Javascript no es un lenguaje de tipado estricto, es posible hacer comparaciones entre números y cadenas de caracteres con resultados contradictorios."
   ]
  },
  {
   "cell_type": "code",
   "execution_count": 1,
   "metadata": {},
   "outputs": [
    {
     "data": {
      "text/plain": [
       "true"
      ]
     },
     "execution_count": 1,
     "metadata": {},
     "output_type": "execute_result"
    }
   ],
   "source": [
    "2 == \"2\";"
   ]
  },
  {
   "cell_type": "code",
   "execution_count": 2,
   "metadata": {},
   "outputs": [
    {
     "data": {
      "text/plain": [
       "true"
      ]
     },
     "execution_count": 2,
     "metadata": {},
     "output_type": "execute_result"
    }
   ],
   "source": [
    "0 != true;"
   ]
  },
  {
   "cell_type": "code",
   "execution_count": 6,
   "metadata": {},
   "outputs": [
    {
     "data": {
      "text/plain": [
       "true"
      ]
     },
     "execution_count": 6,
     "metadata": {},
     "output_type": "execute_result"
    }
   ],
   "source": [
    "1 == true;"
   ]
  },
  {
   "cell_type": "code",
   "execution_count": 4,
   "metadata": {},
   "outputs": [
    {
     "data": {
      "text/plain": [
       "true"
      ]
     },
     "execution_count": 4,
     "metadata": {},
     "output_type": "execute_result"
    }
   ],
   "source": [
    "0 == false;"
   ]
  },
  {
   "cell_type": "code",
   "execution_count": 7,
   "metadata": {},
   "outputs": [
    {
     "data": {
      "text/plain": [
       "false"
      ]
     },
     "execution_count": 7,
     "metadata": {},
     "output_type": "execute_result"
    }
   ],
   "source": [
    "2 === \"2\";"
   ]
  },
  {
   "cell_type": "code",
   "execution_count": 8,
   "metadata": {},
   "outputs": [
    {
     "data": {
      "text/plain": [
       "false"
      ]
     },
     "execution_count": 8,
     "metadata": {},
     "output_type": "execute_result"
    }
   ],
   "source": [
    "0 === true;"
   ]
  },
  {
   "cell_type": "code",
   "execution_count": 9,
   "metadata": {},
   "outputs": [
    {
     "data": {
      "text/plain": [
       "false"
      ]
     },
     "execution_count": 9,
     "metadata": {},
     "output_type": "execute_result"
    }
   ],
   "source": [
    "5 > \"Hola\";"
   ]
  },
  {
   "cell_type": "code",
   "execution_count": 10,
   "metadata": {},
   "outputs": [
    {
     "data": {
      "text/plain": [
       "false"
      ]
     },
     "execution_count": 10,
     "metadata": {},
     "output_type": "execute_result"
    }
   ],
   "source": [
    "\"1000\" >= \"a12\";"
   ]
  },
  {
   "cell_type": "code",
   "execution_count": 12,
   "metadata": {},
   "outputs": [
    {
     "data": {
      "text/plain": [
       "false"
      ]
     },
     "execution_count": 12,
     "metadata": {},
     "output_type": "execute_result"
    }
   ],
   "source": [
    "null == 0;"
   ]
  },
  {
   "cell_type": "code",
   "execution_count": 15,
   "metadata": {},
   "outputs": [
    {
     "data": {
      "text/plain": [
       "true"
      ]
     },
     "execution_count": 15,
     "metadata": {},
     "output_type": "execute_result"
    }
   ],
   "source": [
    "[] == 0;"
   ]
  },
  {
   "cell_type": "code",
   "execution_count": 17,
   "metadata": {},
   "outputs": [
    {
     "data": {
      "text/plain": [
       "true"
      ]
     },
     "execution_count": 17,
     "metadata": {},
     "output_type": "execute_result"
    }
   ],
   "source": [
    "[] == false;"
   ]
  },
  {
   "cell_type": "code",
   "execution_count": 18,
   "metadata": {},
   "outputs": [
    {
     "data": {
      "text/plain": [
       "false"
      ]
     },
     "execution_count": 18,
     "metadata": {},
     "output_type": "execute_result"
    }
   ],
   "source": [
    "undefined == 0;"
   ]
  },
  {
   "cell_type": "code",
   "execution_count": 19,
   "metadata": {},
   "outputs": [
    {
     "data": {
      "text/plain": [
       "false"
      ]
     },
     "execution_count": 19,
     "metadata": {},
     "output_type": "execute_result"
    }
   ],
   "source": [
    "[] === 0;"
   ]
  },
  {
   "cell_type": "code",
   "execution_count": 21,
   "metadata": {},
   "outputs": [
    {
     "data": {
      "text/plain": [
       "false"
      ]
     },
     "execution_count": 21,
     "metadata": {},
     "output_type": "execute_result"
    }
   ],
   "source": [
    "[] !== 0;"
   ]
  },
  {
   "cell_type": "code",
   "execution_count": 25,
   "metadata": {},
   "outputs": [
    {
     "data": {
      "text/plain": [
       "true"
      ]
     },
     "execution_count": 25,
     "metadata": {},
     "output_type": "execute_result"
    }
   ],
   "source": [
    "25.43 >= 17;"
   ]
  },
  {
   "cell_type": "code",
   "execution_count": 32,
   "metadata": {},
   "outputs": [
    {
     "data": {
      "text/plain": [
       "'HoLa'"
      ]
     },
     "execution_count": 32,
     "metadata": {},
     "output_type": "execute_result"
    }
   ],
   "source": [
    "let saludo = \"HoLa\";"
   ]
  },
  {
   "cell_type": "code",
   "execution_count": 33,
   "metadata": {},
   "outputs": [
    {
     "data": {
      "text/plain": [
       "false"
      ]
     },
     "execution_count": 33,
     "metadata": {},
     "output_type": "execute_result"
    }
   ],
   "source": [
    "saludo == 'hola';"
   ]
  },
  {
   "cell_type": "code",
   "execution_count": 34,
   "metadata": {},
   "outputs": [
    {
     "data": {
      "text/plain": [
       "'hola'"
      ]
     },
     "execution_count": 34,
     "metadata": {},
     "output_type": "execute_result"
    }
   ],
   "source": [
    "saludo.toLowerCase();"
   ]
  },
  {
   "cell_type": "code",
   "execution_count": 35,
   "metadata": {},
   "outputs": [
    {
     "data": {
      "text/plain": [
       "'HoLa'"
      ]
     },
     "execution_count": 35,
     "metadata": {},
     "output_type": "execute_result"
    }
   ],
   "source": [
    "saludo;"
   ]
  },
  {
   "cell_type": "code",
   "execution_count": 37,
   "metadata": {},
   "outputs": [
    {
     "data": {
      "text/plain": [
       "true"
      ]
     },
     "execution_count": 37,
     "metadata": {},
     "output_type": "execute_result"
    }
   ],
   "source": [
    "saludo.toLowerCase() == 'hola';"
   ]
  },
  {
   "cell_type": "markdown",
   "metadata": {},
   "source": [
    "## El operador *in*\n",
    "El operador *in* permite saber si el índice de un elemento está dentro de una colección de datos. "
   ]
  },
  {
   "cell_type": "code",
   "execution_count": 22,
   "metadata": {
    "scrolled": true
   },
   "outputs": [
    {
     "data": {
      "text/plain": [
       "true"
      ]
     },
     "execution_count": 22,
     "metadata": {},
     "output_type": "execute_result"
    }
   ],
   "source": [
    "0 in [\"delantero\", \"defensa\", \"portero\", \"árbitro\"];"
   ]
  },
  {
   "cell_type": "code",
   "execution_count": 23,
   "metadata": {
    "scrolled": true
   },
   "outputs": [
    {
     "data": {
      "text/plain": [
       "false"
      ]
     },
     "execution_count": 23,
     "metadata": {},
     "output_type": "execute_result"
    }
   ],
   "source": [
    "7 in [\"delantero\", \"defensa\", \"portero\", \"árbitro\"];"
   ]
  },
  {
   "cell_type": "markdown",
   "metadata": {},
   "source": [
    "# Operadores lógicos\n",
    "Los operadores lógicos permiten evaluar varias condiciones dentro de una expresión.\n",
    "\n",
    "|Operación|Operador|Evalúa|\n",
    "|:----:|:------:|:----:|\n",
    "|OR|  &#124;&#124;|*a &#124;&#124; b* ¿Se cumplen a o b?|\n",
    "|AND|&& \t |*a && b* ¿Se comple a y b?|\n",
    "|NOT|*!*   |* !x* Complemento de x|\n",
    "\n",
    "\n",
    "\n",
    "|OR| true|false|\n",
    "|---|---|---|\n",
    "|true|true|true|\n",
    "|false|true|false|\n",
    "\n",
    "\n",
    "|AND| true|false|\n",
    "|---|---|---|\n",
    "|true|true|false|\n",
    "|false|false|false|"
   ]
  },
  {
   "cell_type": "code",
   "execution_count": 38,
   "metadata": {},
   "outputs": [
    {
     "data": {
      "text/plain": [
       "false"
      ]
     },
     "execution_count": 38,
     "metadata": {},
     "output_type": "execute_result"
    }
   ],
   "source": [
    "true && false;"
   ]
  },
  {
   "cell_type": "markdown",
   "metadata": {},
   "source": [
    "**Ejemplo:**"
   ]
  },
  {
   "cell_type": "code",
   "execution_count": 39,
   "metadata": {},
   "outputs": [
    {
     "data": {
      "text/plain": [
       "false"
      ]
     },
     "execution_count": 39,
     "metadata": {},
     "output_type": "execute_result"
    }
   ],
   "source": [
    "(12 / 3) + 2 - 1 == 1;"
   ]
  },
  {
   "cell_type": "code",
   "execution_count": 40,
   "metadata": {},
   "outputs": [
    {
     "data": {
      "text/plain": [
       "true"
      ]
     },
     "execution_count": 40,
     "metadata": {},
     "output_type": "execute_result"
    }
   ],
   "source": [
    "15 >= 6;"
   ]
  },
  {
   "cell_type": "code",
   "execution_count": 43,
   "metadata": {},
   "outputs": [
    {
     "data": {
      "text/plain": [
       "false"
      ]
     },
     "execution_count": 43,
     "metadata": {},
     "output_type": "execute_result"
    }
   ],
   "source": [
    "(12 / 3) + 2 - 1 == 1 && 15 >= 6;"
   ]
  },
  {
   "cell_type": "code",
   "execution_count": 44,
   "metadata": {},
   "outputs": [
    {
     "data": {
      "text/plain": [
       "true"
      ]
     },
     "execution_count": 44,
     "metadata": {},
     "output_type": "execute_result"
    }
   ],
   "source": [
    "(12 / 3) + 2 - 1 == 1 || 15 >= 6;"
   ]
  },
  {
   "cell_type": "code",
   "execution_count": 46,
   "metadata": {},
   "outputs": [
    {
     "data": {
      "text/plain": [
       "true"
      ]
     },
     "execution_count": 46,
     "metadata": {},
     "output_type": "execute_result"
    }
   ],
   "source": [
    "!((12 / 3) + 2 - 1 == 1);"
   ]
  },
  {
   "cell_type": "code",
   "execution_count": 47,
   "metadata": {},
   "outputs": [
    {
     "data": {
      "text/plain": [
       "false"
      ]
     },
     "execution_count": 47,
     "metadata": {},
     "output_type": "execute_result"
    }
   ],
   "source": [
    "(12 / 3) + 2 - 1 == 1 && 15 >= 6 || 12 == 5;"
   ]
  },
  {
   "cell_type": "code",
   "execution_count": 49,
   "metadata": {},
   "outputs": [
    {
     "data": {
      "text/plain": [
       "true"
      ]
     },
     "execution_count": 49,
     "metadata": {},
     "output_type": "execute_result"
    }
   ],
   "source": [
    "(12 / 3) + 2 - 1 == 1 || 15 >= 6 || 12 == 5;"
   ]
  },
  {
   "cell_type": "code",
   "execution_count": 51,
   "metadata": {},
   "outputs": [
    {
     "data": {
      "text/plain": [
       "true"
      ]
     },
     "execution_count": 51,
     "metadata": {},
     "output_type": "execute_result"
    }
   ],
   "source": [
    "(12 / 3) + 2 - 1 == 1 || (15 >= 6 || 12 == 5);"
   ]
  },
  {
   "cell_type": "code",
   "execution_count": 52,
   "metadata": {},
   "outputs": [
    {
     "data": {
      "text/plain": [
       "true"
      ]
     },
     "execution_count": 52,
     "metadata": {},
     "output_type": "execute_result"
    }
   ],
   "source": [
    "((12 / 3) + 2 - 1 == 1 || 15 >= 6) || 12 == 5;"
   ]
  },
  {
   "cell_type": "code",
   "execution_count": 53,
   "metadata": {},
   "outputs": [
    {
     "data": {
      "text/plain": [
       "false"
      ]
     },
     "execution_count": 53,
     "metadata": {},
     "output_type": "execute_result"
    }
   ],
   "source": [
    "typeof(Hola) == String;"
   ]
  },
  {
   "cell_type": "code",
   "execution_count": 57,
   "metadata": {},
   "outputs": [
    {
     "data": {
      "text/plain": [
       "true"
      ]
     },
     "execution_count": 57,
     "metadata": {},
     "output_type": "execute_result"
    }
   ],
   "source": [
    "typeof(\"Hola\") == 'string';"
   ]
  },
  {
   "cell_type": "code",
   "execution_count": 55,
   "metadata": {},
   "outputs": [
    {
     "data": {
      "text/plain": [
       "'string'"
      ]
     },
     "execution_count": 55,
     "metadata": {},
     "output_type": "execute_result"
    }
   ],
   "source": [
    "typeof(\"Hola\")"
   ]
  },
  {
   "cell_type": "code",
   "execution_count": 59,
   "metadata": {},
   "outputs": [
    {
     "data": {
      "text/plain": [
       "true"
      ]
     },
     "execution_count": 59,
     "metadata": {},
     "output_type": "execute_result"
    }
   ],
   "source": [
    "true || false;"
   ]
  },
  {
   "cell_type": "code",
   "execution_count": 60,
   "metadata": {},
   "outputs": [
    {
     "data": {
      "text/plain": [
       "false"
      ]
     },
     "execution_count": 60,
     "metadata": {},
     "output_type": "execute_result"
    }
   ],
   "source": [
    "!true;"
   ]
  },
  {
   "cell_type": "markdown",
   "metadata": {},
   "source": [
    "En estos ejemplos se evaluara si el valor dentro de una variable se encuentra en un rango."
   ]
  },
  {
   "cell_type": "code",
   "execution_count": 61,
   "metadata": {},
   "outputs": [],
   "source": [
    "let numero = 12;"
   ]
  },
  {
   "cell_type": "code",
   "execution_count": 62,
   "metadata": {},
   "outputs": [
    {
     "data": {
      "text/plain": [
       "true"
      ]
     },
     "execution_count": 62,
     "metadata": {},
     "output_type": "execute_result"
    }
   ],
   "source": [
    "numero > 5 && numero < 43;"
   ]
  },
  {
   "cell_type": "code",
   "execution_count": 63,
   "metadata": {},
   "outputs": [
    {
     "data": {
      "text/plain": [
       "false"
      ]
     },
     "execution_count": 63,
     "metadata": {},
     "output_type": "execute_result"
    }
   ],
   "source": [
    "numero > 12 && numero < 43;"
   ]
  },
  {
   "cell_type": "code",
   "execution_count": 64,
   "metadata": {},
   "outputs": [
    {
     "data": {
      "text/plain": [
       "true"
      ]
     },
     "execution_count": 64,
     "metadata": {},
     "output_type": "execute_result"
    }
   ],
   "source": [
    "numero >= 12 && numero < 43;"
   ]
  },
  {
   "cell_type": "markdown",
   "metadata": {},
   "source": [
    "## Precedencia de los operadores y los paréntesis\n",
    "Los operadores lógicos se evalúan de izquierda a derecha, pero a los componentes encerrados dentro del paréntesis se les evalúa primero."
   ]
  },
  {
   "cell_type": "code",
   "execution_count": 65,
   "metadata": {},
   "outputs": [
    {
     "data": {
      "text/plain": [
       "true"
      ]
     },
     "execution_count": 65,
     "metadata": {},
     "output_type": "execute_result"
    }
   ],
   "source": [
    "!false && true || true;"
   ]
  },
  {
   "cell_type": "code",
   "execution_count": 66,
   "metadata": {},
   "outputs": [
    {
     "data": {
      "text/plain": [
       "false"
      ]
     },
     "execution_count": 66,
     "metadata": {},
     "output_type": "execute_result"
    }
   ],
   "source": [
    "!(false && true || true);"
   ]
  },
  {
   "cell_type": "code",
   "execution_count": 67,
   "metadata": {},
   "outputs": [
    {
     "data": {
      "text/plain": [
       "true"
      ]
     },
     "execution_count": 67,
     "metadata": {},
     "output_type": "execute_result"
    }
   ],
   "source": [
    "!false && (true || true);"
   ]
  },
  {
   "cell_type": "code",
   "execution_count": 68,
   "metadata": {
    "scrolled": true
   },
   "outputs": [
    {
     "data": {
      "text/plain": [
       "true"
      ]
     },
     "execution_count": 68,
     "metadata": {},
     "output_type": "execute_result"
    }
   ],
   "source": [
    "!(false && true) || true;"
   ]
  },
  {
   "cell_type": "markdown",
   "metadata": {},
   "source": [
    "## Declaraciones."
   ]
  },
  {
   "cell_type": "markdown",
   "metadata": {},
   "source": [
    "# Delimitación de bloques de código.\n",
    "En Javasacript un bloque de código se delimita mediante llaves ( *{}* ).\n",
    "\n",
    "La indentación (espacios en blanco al iniciar una línea) se utiliza sólo como buena práctica para identificar los bloques de código de mejor manera.\n",
    "# Condicional *if()*\n",
    "Un condicional permite ejecutar cierto bloque de código delimitado dentro de éste en caso de que una condición dada sea verdadera.\n",
    "El el caso de Javascript es obligatorio que las condiciones lógicas estén encerradas en paréntesis."
   ]
  },
  {
   "cell_type": "code",
   "execution_count": 69,
   "metadata": {},
   "outputs": [
    {
     "name": "stdout",
     "output_type": "stream",
     "text": [
      "El animal es un gato.\n",
      "Los gatos maullan.\n",
      "Tenga un buen día.\n"
     ]
    }
   ],
   "source": [
    "let animal = \"gato\";\n",
    "\n",
    "/* despliega un mensaje indicando el valor de animal. */\n",
    "console.log(\"El animal es un\", animal + \".\");\n",
    "\n",
    "/* evalúa el valor de la variable animal. */\n",
    "if (animal == \"gato\") {\n",
    "    console.log(\"Los gatos maullan.\");\n",
    "}\n",
    "\n",
    "/* despliega un mensaje final. */\n",
    "console.log(\"Tenga un buen día.\");"
   ]
  },
  {
   "cell_type": "markdown",
   "metadata": {},
   "source": [
    "Ahora bien. Si en lugar de *\"gato\"* el valor de la variable *animal* es *\"perro\"*,entonces el código indentado no se ejecuta:"
   ]
  },
  {
   "cell_type": "code",
   "execution_count": 70,
   "metadata": {},
   "outputs": [
    {
     "name": "stdout",
     "output_type": "stream",
     "text": [
      "El animal es un perro.\n",
      "Tenga un buen día.\n"
     ]
    }
   ],
   "source": [
    "animal = \"perro\";\n",
    "\n",
    "/* despliega un mensaje indicando el valor de animal. */\n",
    "console.log(\"El animal es un\", animal + \".\");\n",
    "\n",
    "/* evalúa el valor de la variable animal. */\n",
    "if (animal == \"gato\") {\n",
    "    console.log(\"Los gatos maullan.\");\n",
    "}\n",
    "\n",
    "/* despliega un mensaje final. */\n",
    "console.log(\"Tenga un buen día.\");"
   ]
  },
  {
   "cell_type": "markdown",
   "metadata": {},
   "source": [
    "Javascript es sensible a las mayúsculas."
   ]
  },
  {
   "cell_type": "code",
   "execution_count": 74,
   "metadata": {},
   "outputs": [
    {
     "name": "stdout",
     "output_type": "stream",
     "text": [
      "El animal es un Gato.\n",
      "Tenga un buen día.\n"
     ]
    }
   ],
   "source": [
    "animal = \"Gato\";\n",
    "\n",
    "/* despliega un mensaje indicando el valor de animal. */\n",
    "console.log(\"El animal es un\", animal + \".\");\n",
    "\n",
    "/* evalúa el valor de la variable animal. */\n",
    "if (animal == \"gato\") {\n",
    "    console.log(\"Los gatos maullan.\");\n",
    "}\n",
    "\n",
    "/* despliega un mensaje final. */\n",
    "console.log(\"Tenga un buen día.\");"
   ]
  },
  {
   "cell_type": "markdown",
   "metadata": {},
   "source": [
    "## Estructura *if ()... else*...\n",
    "En esta estructura, el bloque de código delimitado por else se ejecuta en caso de que la condición no sea verdadera."
   ]
  },
  {
   "cell_type": "code",
   "execution_count": 73,
   "metadata": {},
   "outputs": [
    {
     "name": "stdout",
     "output_type": "stream",
     "text": [
      "El animal es un Gato.\n",
      "No identifico al animal.\n",
      "Tenga un buen día.\n"
     ]
    }
   ],
   "source": [
    "animal = \"Gato\";\n",
    "\n",
    "/* despliega un mensaje indicando el valor de animal. */\n",
    "console.log(\"El animal es un\", animal + \".\");\n",
    "\n",
    "/* evalúa el valor de la variable animal. */\n",
    "if (animal == \"gato\") {\n",
    "    console.log(\"Los gatos maullan.\");\n",
    "}\n",
    "/* si el resultado de la evaluación es false */\n",
    "else {\n",
    "    console.log(\"No identifico al animal.\")\n",
    "}\n",
    "console.log(\"Tenga un buen día.\");"
   ]
  },
  {
   "cell_type": "markdown",
   "metadata": {},
   "source": [
    "## Estructura *if ()... else if().. else*\n",
    "Existen casos en los que se deben evaluar diversas condiciones. Javascript permite evaluar más de una condición con la combonación *else* *if*. Tan pronto como una condición sea verdadera, esta se ejecutará y el flujo de código continúa con el bloque de mayor jerarquía."
   ]
  },
  {
   "cell_type": "code",
   "execution_count": 76,
   "metadata": {},
   "outputs": [
    {
     "name": "stdout",
     "output_type": "stream",
     "text": [
      "El número es 12\n",
      "El número es positivo.\n",
      "Buen día.\n"
     ]
    }
   ],
   "source": [
    "let variable = 12.3;\n",
    "console.log(\"El número es\", variable);\n",
    "\n",
    "/* evalúa si el valor es mayor que cero. */\n",
    "if (variable > 0) {\n",
    "    console.log(\"El número es positivo.\");\n",
    "}\n",
    "\n",
    "/* evalúa si el valor es menor que cero. */\n",
    "else if (variable < 0) {\n",
    "    console.log(\"El número es negativo.\");    \n",
    "}\n",
    "\n",
    "/* si ninguna de las condiciones es true, se ejecuta lo siguiente*/\n",
    "else {\n",
    "    console.log(\"El número es cero.\");\n",
    "}\n",
    "console.log(\"Buen día.\");"
   ]
  },
  {
   "cell_type": "code",
   "execution_count": 80,
   "metadata": {},
   "outputs": [
    {
     "name": "stdout",
     "output_type": "stream",
     "text": [
      "El número es -1e-11\n",
      "El número es negativo.\n",
      "Buen día.\n"
     ]
    }
   ],
   "source": [
    "variable = -0.00000000001;\n",
    "console.log(\"El número es\", variable);\n",
    "\n",
    "/* evalúa si el valor es mayor que cero. */\n",
    "if (variable > 0) {\n",
    "    console.log(\"El número es positivo.\");\n",
    "}\n",
    "\n",
    "/* evalúa si el valor es menor que cero. */\n",
    "else if (variable < 0) {\n",
    "    console.log(\"El número es negativo.\");    \n",
    "}\n",
    "\n",
    "/* si ninguna de las condiciones es true, se ejecuta lo siguiente*/\n",
    "else {\n",
    "    console.log(\"El número es cero.\");\n",
    "}\n",
    "console.log(\"Buen día.\");"
   ]
  },
  {
   "cell_type": "code",
   "execution_count": 81,
   "metadata": {},
   "outputs": [
    {
     "name": "stdout",
     "output_type": "stream",
     "text": [
      "El número es 0\n",
      "El número es cero.\n",
      "Buen día.\n"
     ]
    }
   ],
   "source": [
    "variable = 0;\n",
    "console.log(\"El número es\", variable);\n",
    "\n",
    "/* evalúa si el valor es mayor que cero. */\n",
    "if (variable > 0) {\n",
    "    console.log(\"El número es positivo.\");\n",
    "}\n",
    "\n",
    "/* evalúa si el valor es menor que cero. */\n",
    "else if (variable < 0) {\n",
    "    console.log(\"El número es negativo.\");    \n",
    "}\n",
    "\n",
    "/* si ninguna de las condiciones es true, se ejecuta lo siguiente*/\n",
    "else {\n",
    "    console.log(\"El número es cero.\");\n",
    "}\n",
    "console.log(\"Buen día.\");"
   ]
  },
  {
   "cell_type": "markdown",
   "metadata": {
    "collapsed": true
   },
   "source": [
    "## Bloques \"anidados\"\n",
    "Es posible colocar bloques dentro de otros y cada bloque está delimitado por loas llaves ( *{}* ), tal como se ejemplifica a continuación. \n",
    "Estos bloques anidados pueden ser de diversos tipos, pero en este caso se usarán los condicionales conocidos:"
   ]
  },
  {
   "cell_type": "code",
   "execution_count": 85,
   "metadata": {},
   "outputs": [
    {
     "name": "stdout",
     "output_type": "stream",
     "text": [
      "La variable es 12.\n",
      "El valor representa a un número.\n",
      "La variable es de tipo numérico.\n"
     ]
    }
   ],
   "source": [
    "cantidad = 12;\n",
    "console.log(\"La variable es\", cantidad + \".\");\n",
    "\n",
    "/* evalua si es una representación de un número*/\n",
    "if (cantidad == Number(cantidad))\n",
    "{\n",
    "    console.log(\"El valor representa a un número.\");\n",
    "    \n",
    "    /* evalua si es de tipo numérico*/\n",
    "    if (typeof(cantidad) == 'number')\n",
    "    {\n",
    "        console.log(\"La variable es de tipo numérico.\");  \n",
    "    }\n",
    "    else \n",
    "    {\n",
    "        console.log(\"La variable no es de tipo numérico.\"); \n",
    "    }\n",
    "}\n",
    "else {\n",
    "    console.log(\"La variable no representa a un número.\");\n",
    "}"
   ]
  },
  {
   "cell_type": "code",
   "execution_count": 86,
   "metadata": {},
   "outputs": [
    {
     "name": "stdout",
     "output_type": "stream",
     "text": [
      "La variable es Hola.\n",
      "La variable no representa a un número.\n"
     ]
    }
   ],
   "source": [
    "cantidad = \"Hola\";\n",
    "console.log(\"La variable es\", cantidad + \".\");\n",
    "\n",
    "/* evalua si es una representación de un número*/\n",
    "if (cantidad == Number(cantidad))\n",
    "{\n",
    "    console.log(\"El valor representa a un número.\");\n",
    "    \n",
    "    /* evalua si es de tipo numérico*/\n",
    "    if (typeof(cantidad) == 'number')\n",
    "    {\n",
    "        console.log(\"La variable es de tipo numérico.\");  \n",
    "    }\n",
    "    else \n",
    "    {\n",
    "        console.log(\"La variable no es de tipo numérico.\"); \n",
    "    }\n",
    "}\n",
    "else {\n",
    "    console.log(\"La variable no representa a un número.\");\n",
    "}"
   ]
  },
  {
   "cell_type": "code",
   "execution_count": null,
   "metadata": {
    "collapsed": true
   },
   "outputs": [],
   "source": []
  }
 ],
 "metadata": {
  "kernelspec": {
   "display_name": "Javascript (Node.js)",
   "language": "javascript",
   "name": "javascript"
  },
  "language_info": {
   "file_extension": ".js",
   "mimetype": "application/javascript",
   "name": "javascript",
   "version": "6.14.3"
  }
 },
 "nbformat": 4,
 "nbformat_minor": 1
}
