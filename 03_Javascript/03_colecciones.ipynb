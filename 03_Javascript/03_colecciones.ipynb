{
 "cells": [
  {
   "cell_type": "markdown",
   "metadata": {},
   "source": [
    "# Colecciones de elementos en Javascript\n",
    "Javascript cuenta con dos recursos para la colección de datos.\n",
    "* Arreglos\n",
    "* JSON\n",
    "\n",
    "## Arreglos (arrays)\n",
    "Los arreglos son una lista ordenada de elementos separados por comas y encerrados entre corchetes ( *[ ]* ).\n",
    "\n",
    "Estos elementos pueden estar vacíos i contener cualquier cantidad de componentes."
   ]
  },
  {
   "cell_type": "code",
   "execution_count": null,
   "metadata": {},
   "outputs": [],
   "source": [
    "const arreglo = [1, true, 3.25, \"aletorio\"];"
   ]
  },
  {
   "cell_type": "code",
   "execution_count": null,
   "metadata": {},
   "outputs": [],
   "source": [
    "arreglo;"
   ]
  },
  {
   "cell_type": "code",
   "execution_count": null,
   "metadata": {},
   "outputs": [],
   "source": [
    "const vacio = []; "
   ]
  },
  {
   "cell_type": "code",
   "execution_count": null,
   "metadata": {},
   "outputs": [],
   "source": [
    "vacio;"
   ]
  },
  {
   "cell_type": "markdown",
   "metadata": {},
   "source": [
    "### Indexado\n",
    "Cada componente de un elemento de este tipo es indexado con un número entero que se enumera consecutivamente de izquierda a derecha a partir de 0 y hasta el tamaño del arreglo menos uno.\n",
    "\n",
    "Si el índice queda fuera de rango, se producirá un error."
   ]
  },
  {
   "cell_type": "code",
   "execution_count": null,
   "metadata": {},
   "outputs": [],
   "source": [
    "arreglo[1];componente"
   ]
  },
  {
   "cell_type": "code",
   "execution_count": null,
   "metadata": {},
   "outputs": [],
   "source": [
    "arreglo[1] = false;"
   ]
  },
  {
   "cell_type": "code",
   "execution_count": null,
   "metadata": {},
   "outputs": [],
   "source": [
    "arreglo;"
   ]
  },
  {
   "cell_type": "markdown",
   "metadata": {},
   "source": [
    "### Obtención del tamaño de una arreglo con el aributo *length*.\n",
    "Los objetos de tipo Array cuentan con varios atributos y métodos. Entre ellos el atributo *length*, el cual regresa el tamaño de un arreglo. \n"
   ]
  },
  {
   "cell_type": "code",
   "execution_count": null,
   "metadata": {},
   "outputs": [],
   "source": [
    "arreglo.length"
   ]
  },
  {
   "cell_type": "markdown",
   "metadata": {},
   "source": [
    "### Rebanado de una arreglo con el método *slice()*\n",
    "Del mismo modo, es posible obtener una porción de un arreglo mediante el método *slice()* en donde se utilizan como argumentos al índice inicial y al índice final separados por una coma."
   ]
  },
  {
   "cell_type": "code",
   "execution_count": null,
   "metadata": {},
   "outputs": [],
   "source": [
    "const original = [false, \"Perico\", \"Spam\", 23, -14.211];"
   ]
  },
  {
   "cell_type": "code",
   "execution_count": null,
   "metadata": {},
   "outputs": [],
   "source": [
    "original.slice(0,3);"
   ]
  },
  {
   "cell_type": "code",
   "execution_count": null,
   "metadata": {},
   "outputs": [],
   "source": [
    "original.slice(2)"
   ]
  },
  {
   "cell_type": "markdown",
   "metadata": {},
   "source": [
    "### Tarea extra: \n",
    "Investiguar sobre el resto de los métodos y atributos del tipo Array en esta [liga](https://developer.mozilla.org/en-US/docs/Web/JavaScript/Reference/Global_Objects/Array). "
   ]
  },
  {
   "cell_type": "markdown",
   "metadata": {
    "collapsed": true
   },
   "source": [
    "# JSON \n",
    "JSON es la notación que utiliza Javascript para definir objetos y ha trascendido al lenguaje de programación para ser adoptdo como un formato confiable de intercambio de datos.\n",
    "El uso de JSON se explorará más adelante."
   ]
  }
 ],
 "metadata": {
  "kernelspec": {
   "display_name": "Javascript (Node.js)",
   "language": "javascript",
   "name": "javascript"
  },
  "language_info": {
   "file_extension": ".js",
   "mimetype": "application/javascript",
   "name": "javascript",
   "version": "6.9.4"
  }
 },
 "nbformat": 4,
 "nbformat_minor": 2
}
