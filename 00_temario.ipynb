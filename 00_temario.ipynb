{
 "cells": [
  {
   "cell_type": "markdown",
   "metadata": {},
   "source": [
    "[![imagenes/pythonista.png](imagenes/pythonista.png)](https://pythonista.io)"
   ]
  },
  {
   "cell_type": "markdown",
   "metadata": {},
   "source": [
    "# (pycd101) .\n",
    "\n",
    "## Temario \n",
    "\n",
    "### HTML5\n",
    "\n",
    "1. Conceptos básicos sobre la web, HTTP y HTML\n",
    "* Uso de etiquetas y atributos\n",
    "* Estructura básica de un documento HTML5\n",
    "* Elementos de texto\n",
    "* Listas\n",
    "* Tablas\n",
    "* Atributos *id* y *class*\n",
    "* Delimitadores &lt;div&gt; y &lt;span&gt;\n",
    "* Hipervínculos\n",
    "* Imágenes\n",
    "* Multimedia\n",
    "* Formas\n",
    "* Elementos de estructura de una página web\n",
    "* Firefox como herramienta de desarrollo (práctico)\n",
    "\n",
    "### CSS3\n",
    "\n",
    "1. Hojas de estilo\n",
    "* Modelo de caja\n",
    "* Selectores\n",
    "* Unidades, colores y estilos\n",
    "* Atributos de texto, listas y tablas\n",
    "* Imágenes de fondo\n",
    "* Despliegue, visibilidad y posición de elementos\n",
    "* Diseño estático y diseño líquido\n",
    "* Diseño responsivo\n",
    "\n",
    "### Javascript\n",
    "\n",
    "1. Javascript y ECMAScript\n",
    "* Tipos de datos y operadores\n",
    "* Colecciones de datos\n",
    "* Variables\n",
    "* Condicionales\n",
    "* Ciclos e iteraciones\n",
    "* Funciones\n",
    "* Programación orientada a objetos\n",
    "* Funciones y métodos globales\n",
    "* Objetos de texto\n",
    "* Objetos numéricos \n",
    "* Objetos de tipo Array\n",
    "* Fechas\n",
    "* Matemáticas\n",
    "* Gestión de excepciones\n",
    "* Javascript en documentos HTML\n",
    "* Eventos\n",
    "* El DOM\n",
    "* El BOM"
   ]
  },
  {
   "cell_type": "markdown",
   "metadata": {},
   "source": [
    "<p style=\"text-align: center\"><a rel=\"license\" href=\"http://creativecommons.org/licenses/by/4.0/\"><img alt=\"Licencia Creative Commons\" style=\"border-width:0\" src=\"https://i.creativecommons.org/l/by/4.0/80x15.png\" /></a><br />Esta obra está bajo una <a rel=\"license\" href=\"http://creativecommons.org/licenses/by/4.0/\">Licencia Creative Commons Atribución 4.0 Internacional</a>.</p>\n",
    "<p style=\"text-align: center\">&copy; José Luis Chiquete Valdivieso. 2018.</p>"
   ]
  }
 ],
 "metadata": {
  "kernelspec": {
   "display_name": "Python 3",
   "language": "python",
   "name": "python3"
  },
  "language_info": {
   "codemirror_mode": {
    "name": "ipython",
    "version": 3
   },
   "file_extension": ".py",
   "mimetype": "text/x-python",
   "name": "python",
   "nbconvert_exporter": "python",
   "pygments_lexer": "ipython3",
   "version": "3.6.6"
  }
 },
 "nbformat": 4,
 "nbformat_minor": 2
}
