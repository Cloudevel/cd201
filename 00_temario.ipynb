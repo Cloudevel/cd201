{
 "cells": [
  {
   "cell_type": "markdown",
   "metadata": {},
   "source": [
    "[![imagenes/pythonista.png](imagenes/pythonista.png)](https://pythonista.io)"
   ]
  },
  {
   "cell_type": "markdown",
   "metadata": {},
   "source": [
    "# (pycd101) .\n",
    "\n",
    "## Temario \n",
    "\n",
    "### HTML5\n",
    "\n",
    "1. Conceptos básicos sobre la web, HTTP y HTML\n",
    "* Uso de etiquetas y atributos\n",
    "* Estructura básica de un documento HTML5\n",
    "* Elementos de texto\n",
    "* Listas\n",
    "* Tablas\n",
    "* Enlaces\n",
    "* Imágenes\n",
    "* Elementos de audio y video\n",
    "* Formas\n",
    "* Delimitadores &lt;div&gt; y &lt;span&gt;\n",
    "* Atributos de id y de class\n",
    "* Elementos de estructura de una página web\n",
    "* Firefox como herramienta de desarrollo\n",
    "\n",
    "### CSS3\n",
    "\n",
    "1. Hojas de estilo\n",
    "* Selectores\n",
    "* Unidades y colores\n",
    "* Modelo de caja\n",
    "* Atributos de texto\n",
    "* Artibutos de imágenes\n",
    "* Despliegue de elementos\n",
    "* Visiblildad de elementos\n",
    "* Posicion de elementos\n",
    "* Gestión de eventos\n",
    "* Diseño estático\n",
    "* Diseño líquido\n",
    "* Diseño responsivo\n",
    "\n",
    "### Javascript\n",
    "\n",
    "1. Javascript y ECMAScript\n",
    "* Tipos de datos y operadores\n",
    "* Colecciones de datos\n",
    "* Los objetos en Javascript\n",
    "* Variables y ámbitos\n",
    "* Condicionales\n",
    "* Ciclos\n",
    "* Funciones y programación funcional\n",
    "* Creación de objetos\n",
    "* JSON\n",
    "* Gestión de excepciones\n",
    "* Expresiones regulares\n",
    "* Fechas\n",
    "* Matemáticas\n",
    "* Eventos\n",
    "* El DOM\n",
    "* El BOM\n"
   ]
  },
  {
   "cell_type": "markdown",
   "metadata": {},
   "source": [
    "<p style=\"text-align: center\"><a rel=\"license\" href=\"http://creativecommons.org/licenses/by/4.0/\"><img alt=\"Licencia Creative Commons\" style=\"border-width:0\" src=\"https://i.creativecommons.org/l/by/4.0/80x15.png\" /></a><br />Esta obra está bajo una <a rel=\"license\" href=\"http://creativecommons.org/licenses/by/4.0/\">Licencia Creative Commons Atribución 4.0 Internacional</a>.</p>\n",
    "<p style=\"text-align: center\">&copy; José Luis Chiquete Valdivieso. 2018.</p>"
   ]
  }
 ],
 "metadata": {
  "kernelspec": {
   "display_name": "Python 3",
   "language": "python",
   "name": "python3"
  },
  "language_info": {
   "codemirror_mode": {
    "name": "ipython",
    "version": 3
   },
   "file_extension": ".py",
   "mimetype": "text/x-python",
   "name": "python",
   "nbconvert_exporter": "python",
   "pygments_lexer": "ipython3",
   "version": "3.6.5"
  }
 },
 "nbformat": 4,
 "nbformat_minor": 2
}
