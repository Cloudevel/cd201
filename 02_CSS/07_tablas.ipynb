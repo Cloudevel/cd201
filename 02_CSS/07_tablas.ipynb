{
 "cells": [
  {
   "cell_type": "markdown",
   "metadata": {},
   "source": [
    "[![imagenes/pythonista.png](imagenes/pythonista.png)](https://pythonista.io)"
   ]
  },
  {
   "cell_type": "markdown",
   "metadata": {},
   "source": [
    "# Tablas."
   ]
  },
  {
   "cell_type": "markdown",
   "metadata": {},
   "source": [
    "## Propiedades de las tablas.\n",
    "\n",
    "Todos los elementos de las tablas siguen el modelo de caja y las propiedades de texto anteriormente discutidas. Sin embargo poseen las siguientes propiedades adicionales:\n",
    "\n",
    "### Mostrar bordes en celdas vacías.\n",
    "\n",
    "Para definir si las celdas vacías presentan bordes se utiliza la propiedad *empty-cells* con los siguientes valores:\n",
    "\n",
    "* *show* que permite que se vean los bordes.\n",
    "* *hide* que esconde los bordes.\n",
    "\n",
    "### Espaciamiento entre los bordes de una tabla.\n",
    "\n",
    "Siempre hay un pequeño espacio que separa los bordes de una celda con respecto a otra y para definir el espaciamiento o si debe haberlo se utilizan:\n",
    "\n",
    "* La propiedad *border-spacing*, la cual define el espaciado de los bordes.\n",
    "* La propiedad *border-colapse* la cual indica si existe o no la separación entre los bordes mediante los siguientes valores.\n",
    "    * *collapse*, indicando que no hay espacios entre bordes.\n",
    "    * *separate*, indicando que sí hay espacios entre bordes.\n"
   ]
  },
  {
   "cell_type": "markdown",
   "metadata": {},
   "source": [
    "<p style=\"text-align: center\"><a rel=\"license\" href=\"http://creativecommons.org/licenses/by/4.0/\"><img alt=\"Licencia Creative Commons\" style=\"border-width:0\" src=\"https://i.creativecommons.org/l/by/4.0/80x15.png\" /></a><br />Esta obra está bajo una <a rel=\"license\" href=\"http://creativecommons.org/licenses/by/4.0/\">Licencia Creative Commons Atribución 4.0 Internacional</a>.</p>\n",
    "<p style=\"text-align: center\">&copy; José Luis Chiquete Valdivieso. 2019.</p>"
   ]
  }
 ],
 "metadata": {
  "kernelspec": {
   "display_name": "Python 3",
   "language": "python",
   "name": "python3"
  },
  "language_info": {
   "codemirror_mode": {
    "name": "ipython",
    "version": 3
   },
   "file_extension": ".py",
   "mimetype": "text/x-python",
   "name": "python",
   "nbconvert_exporter": "python",
   "pygments_lexer": "ipython3",
   "version": "3.6.3"
  }
 },
 "nbformat": 4,
 "nbformat_minor": 2
}
