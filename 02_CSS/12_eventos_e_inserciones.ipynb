{
 "cells": [
  {
   "cell_type": "markdown",
   "metadata": {},
   "source": [
    "[![imagenes/pythonista.png](imagenes/pythonista.png)](https://pythonista.io)"
   ]
  },
  {
   "cell_type": "markdown",
   "metadata": {},
   "source": [
    "# Eventos e inserciones.\n",
    "\n",
    "Los eventos representan interacciones que se realizan sobre cierto elemento dentro de la ventana de un navegadro, genrealmente mediante un dispositivo como el ratón o las pantallas táctiles."
   ]
  },
  {
   "cell_type": "markdown",
   "metadata": {},
   "source": [
    "## El selector ```:hover ```.\n",
    "\n",
    "Este selector se activa cuando el puntero se coloca encima de un elemento.\n",
    "\n",
    "* ```:hover```."
   ]
  },
  {
   "cell_type": "markdown",
   "metadata": {},
   "source": [
    "## Selectores para enlaces.\n",
    "\n",
    "* ```:link``` para las ligas que no han sido seleccionadas.\n",
    "* ```:visited``` para las ligas visitadas."
   ]
  },
  {
   "cell_type": "markdown",
   "metadata": {},
   "source": [
    "## El selector ```:target```.\n",
    "\n",
    "Este selector se utiliza para un elemento que es seleccionado mediante ```<a>``` usando como referencia su identificador."
   ]
  },
  {
   "cell_type": "markdown",
   "metadata": {},
   "source": [
    "## Selectores de inserción de contenido.\n",
    "\n",
    "* ```::before```\n",
    "* ```::after```\n",
    "\n",
    "### La propiedad ```content```.\n",
    "\n",
    "Para añadir contenido se utiliza la propiedad ```content```."
   ]
  },
  {
   "cell_type": "markdown",
   "metadata": {},
   "source": [
    "## La propiedad ```pointer-events```.\n",
    "\n",
    "Esta propiedad activa o desactiva los eventos del apuntador.\n",
    "* ```auto```.\n",
    "* ```none```."
   ]
  },
  {
   "cell_type": "markdown",
   "metadata": {},
   "source": [
    "## La propiedad ```user-select```.\n",
    "\n",
    "Esta propiedad permite que \n",
    "\n",
    "* ```auto```\n",
    "* ```text```\n",
    "* ```all```\n",
    "* ```none```"
   ]
  },
  {
   "cell_type": "markdown",
   "metadata": {},
   "source": [
    "## La propiedad ```cursor```.\n",
    "\n",
    "Esta propiedqad permite definir el tipo de cursor que se despliega cuando el apuntador se coloca sobre el elemento.\n",
    "\n",
    "https://www.w3schools.com/cssref/pr_class_cursor.asp"
   ]
  },
  {
   "cell_type": "markdown",
   "metadata": {},
   "source": [
    "<p style=\"text-align: center\"><a rel=\"license\" href=\"http://creativecommons.org/licenses/by/4.0/\"><img alt=\"Licencia Creative Commons\" style=\"border-width:0\" src=\"https://i.creativecommons.org/l/by/4.0/80x15.png\" /></a><br />Esta obra está bajo una <a rel=\"license\" href=\"http://creativecommons.org/licenses/by/4.0/\">Licencia Creative Commons Atribución 4.0 Internacional</a>.</p>\n",
    "<p style=\"text-align: center\">&copy; José Luis Chiquete Valdivieso. 2019.</p>"
   ]
  }
 ],
 "metadata": {
  "kernelspec": {
   "display_name": "Python 3",
   "language": "python",
   "name": "python3"
  },
  "language_info": {
   "codemirror_mode": {
    "name": "ipython",
    "version": 3
   },
   "file_extension": ".py",
   "mimetype": "text/x-python",
   "name": "python",
   "nbconvert_exporter": "python",
   "pygments_lexer": "ipython3",
   "version": "3.7.3"
  }
 },
 "nbformat": 4,
 "nbformat_minor": 2
}
