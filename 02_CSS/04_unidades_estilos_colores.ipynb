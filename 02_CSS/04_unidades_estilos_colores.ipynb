{
 "cells": [
  {
   "cell_type": "markdown",
   "metadata": {},
   "source": [
    "[![imagenes/pythonista.png](imagenes/pythonista.png)](https://pythonista.io)"
   ]
  },
  {
   "cell_type": "markdown",
   "metadata": {},
   "source": [
    "Medidas y propiedades:\n",
    "Unidades de medida:\n",
    "\n",
    "* Pixeles. La medida por defecto (*px*).\n",
    "* Porcentajes con respecto al ancho o alto del elemento que contiene al elemento en cuestión.\n",
    "* em el porcentaje con respecto al tamaño de caracter \"m\" con la tipografía por defecto.\n"
   ]
  },
  {
   "cell_type": "markdown",
   "metadata": {},
   "source": [
    "Colores\n",
    "\n",
    "La propiedad del color en las hojas de estilo merece un espacio aparte en vista de su importancia para crear sitios visualmente atractivos.\n",
    "Propiedades principales:\n",
    "\n",
    "    Color del frente (color)\n",
    "    Color de fondo (background-color)\n",
    "\n",
    "Modos de definir colores:\n",
    "\n",
    " \n",
    "\n",
    "CSS permite definir colores de distintas maneras:\n",
    "Por nombre.\n",
    "\n",
    " La especificación HTML5 identifica 140 colores por nombre.  La lista de éstos puede ser consultada desde aquí.\n",
    "Valores RGB.\n",
    "\n",
    "Estos valores corresponden a la mezcla de los colores Rojo, Verde y Azul en una escala del 0 al 255.\n",
    "\n",
    "Por ejemplo, el color negro (Black), corresponde a rgb(0,0,0) y el color blanco (White), corresponde a rgb(255,255,255).\n",
    "Por código hexadecimal.\n",
    "\n",
    " El código hexadecimal no es otra cosa que la combinación de los números RGB, pero en pares hexadecimales.\n",
    "\n",
    "Por ejemplo, el color negro (Black), corresponde a #000000 y el color blanco (White), corresponde a #FFFFFF \n",
    "HSL (para CSS3).\n",
    "\n",
    "En el caso de CSS los colores también pueden ser definidos por la combinación HUE, Saturación, Luminosidad (HSL) en el que H va del 0 a 360, y la saturación y luminosidad se mide en porcentaje.\n",
    "\n",
    "Por ejemplo: hsl (80,0%,0%) corresponde a Green.\n",
    "Mejores prácticas y teoría del color.\n",
    "\n",
    "\n",
    "https://www.w3schools.com/tags/ref_colornames.asp\n"
   ]
  },
  {
   "cell_type": "code",
   "execution_count": null,
   "metadata": {},
   "outputs": [],
   "source": [
    "Propiedades de líneas:\n",
    "\n",
    "    Ancho (width): Además de las medidas en pixeles y em se pueden utilizar.\n",
    "        thin\n",
    "        medium \n",
    "        thick\n",
    "    Estilo (style):\n",
    "        solid\n",
    "        dotted\n",
    "        dashed\n",
    "        double\n",
    "        groove\n",
    "        ridge\n",
    "        inset\n",
    "        outset\n",
    "        hidden / none"
   ]
  },
  {
   "cell_type": "markdown",
   "metadata": {},
   "source": [
    "<p style=\"text-align: center\"><a rel=\"license\" href=\"http://creativecommons.org/licenses/by/4.0/\"><img alt=\"Licencia Creative Commons\" style=\"border-width:0\" src=\"https://i.creativecommons.org/l/by/4.0/80x15.png\" /></a><br />Esta obra está bajo una <a rel=\"license\" href=\"http://creativecommons.org/licenses/by/4.0/\">Licencia Creative Commons Atribución 4.0 Internacional</a>.</p>\n",
    "<p style=\"text-align: center\">&copy; José Luis Chiquete Valdivieso. 2018.</p>"
   ]
  }
 ],
 "metadata": {
  "kernelspec": {
   "display_name": "Python 3",
   "language": "python",
   "name": "python3"
  },
  "language_info": {
   "codemirror_mode": {
    "name": "ipython",
    "version": 3
   },
   "file_extension": ".py",
   "mimetype": "text/x-python",
   "name": "python",
   "nbconvert_exporter": "python",
   "pygments_lexer": "ipython3",
   "version": "3.6.5"
  }
 },
 "nbformat": 4,
 "nbformat_minor": 2
}
