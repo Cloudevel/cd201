{
 "cells": [
  {
   "cell_type": "markdown",
   "metadata": {},
   "source": [
    "[![imagenes/cloudevel.png](imagenes/cloudevel.png)](https://cloudevel.com)"
   ]
  },
  {
   "cell_type": "markdown",
   "metadata": {},
   "source": [
    "# El modelo grid.\n",
    "\n",
    "*CSS* Permite distribuir la ventana de un navegador distinta en una plantilla de \"rejilla\", mediante la propiedad ```display```."
   ]
  },
  {
   "cell_type": "markdown",
   "metadata": {},
   "source": [
    "## El elemento contenedor.\n",
    "\n",
    "```\n",
    "display: grid;\n",
    "```"
   ]
  },
  {
   "cell_type": "markdown",
   "metadata": {},
   "source": [
    "## Espaciado entre elementos de la rejilla.\n",
    "\n",
    "* ```grid-column-gap```\n",
    "* ```grid-row-gap```\n",
    "* ```grid-gap``` "
   ]
  },
  {
   "cell_type": "code",
   "execution_count": null,
   "metadata": {},
   "outputs": [],
   "source": [
    "%%html\n",
    "<div class=\"wrapper\">\n",
    "    <div class=\"uno\">uno</div>\n",
    "    <div class=\"dos\">dos</div>\n",
    "    <div class=\"tres\">tres</div>\n",
    "    <div class=\"cuatro\">cuatro</div>\n",
    "    <div class=\"cinco\">cinco</div>\n",
    "    <div class=\"seis\">seis/div>\n",
    "</div>"
   ]
  },
  {
   "cell_type": "code",
   "execution_count": null,
   "metadata": {},
   "outputs": [],
   "source": [
    "%%html\n",
    "<style>\n",
    ".wrapper {\n",
    "    display: grid;\n",
    "    grid-template-columns: repeat(3, 1fr);\n",
    "    grid-gap: 10px;\n",
    "    grid-auto-rows: minmax(100px, auto);\n",
    "  }\n",
    "  .uno {\n",
    "    grid-column: 1 / 3;\n",
    "    grid-row: 1;\n",
    "    border-style: solid;\n",
    "    border-color: red;\n",
    "  }\n",
    "  .dos {\n",
    "    border-style: solid;\n",
    "    border-color: blue;\n",
    "    grid-column: 2 / 4;\n",
    "    grid-row: 1 / 3;\n",
    "  }\n",
    "  .tres {\n",
    "    border-style: solid;\n",
    "    border-color: green;\n",
    "    grid-column: 1;\n",
    "    grid-row: 2 / 5;\n",
    "  }\n",
    "  .cuatro {\n",
    "    border-style: solid;\n",
    "    border-color: black;\n",
    "    grid-column: 3;\n",
    "    grid-row: 3;\n",
    "  }\n",
    "  .cinco {\n",
    "    border-style: solid;\n",
    "    border-color: black;\n",
    "    grid-column: 2;\n",
    "    grid-row: 4;\n",
    "  }\n",
    "  .seis {\n",
    "    border-style: solid;\n",
    "    border-color: black;\n",
    "    grid-column: 3;\n",
    "    grid-row: 4;\n",
    "  }"
   ]
  },
  {
   "cell_type": "markdown",
   "metadata": {},
   "source": [
    "El documento HTML [```ejemplos/grid.html```](ejemplos/grid.html) hace referencia a [```ejemplos/grid.css```](ejemplos/grid.css)."
   ]
  },
  {
   "cell_type": "markdown",
   "metadata": {},
   "source": [
    "<p style=\"text-align: center\"><a rel=\"license\" href=\"http://creativecommons.org/licenses/by/4.0/\"><img alt=\"Licencia Creative Commons\" style=\"border-width:0\" src=\"https://i.creativecommons.org/l/by/4.0/80x15.png\" /></a><br />Esta obra está bajo una <a rel=\"license\" href=\"http://creativecommons.org/licenses/by/4.0/\">Licencia Creative Commons Atribución 4.0 Internacional</a>.</p>\n",
    "<p style=\"text-align: center\">&copy; José Luis Chiquete Valdivieso. 2020.</p>"
   ]
  }
 ],
 "metadata": {
  "kernelspec": {
   "display_name": "Python 3",
   "language": "python",
   "name": "python3"
  },
  "language_info": {
   "codemirror_mode": {
    "name": "ipython",
    "version": 3
   },
   "file_extension": ".py",
   "mimetype": "text/x-python",
   "name": "python",
   "nbconvert_exporter": "python",
   "pygments_lexer": "ipython3",
   "version": "3.6.9"
  }
 },
 "nbformat": 4,
 "nbformat_minor": 2
}
