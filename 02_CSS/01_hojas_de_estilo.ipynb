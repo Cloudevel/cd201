{
 "cells": [
  {
   "cell_type": "markdown",
   "metadata": {},
   "source": [
    "[![imagenes/pythonista.png](imagenes/pythonista.png)](https://pythonista.io)"
   ]
  },
  {
   "cell_type": "markdown",
   "metadata": {},
   "source": [
    "Desde las primeras versiones de HTML era posible modificar la forma en la que un atributo podía verse o comportar mediante la asignación de ciertos atributos. De tal forma que su tamaño, color, o posición podía ser modificado. A esto se le conoce como estilo."
   ]
  },
  {
   "cell_type": "markdown",
   "metadata": {},
   "source": [
    "## Las hojas de estilo en cascada o CSS.\n",
    "\n",
    "Conforme el uso de la web se ha ido generalizando y la forma en la que la información de un documento HTML puede ser despelgada en dispositivos de diversas indoles, la W3C ha plublicado la especificación de las hojas de estilo en cascada(CSS).\n",
    "\n",
    "El objetivo de las hojas de estilo es el de separar el contenido (HTML) de su presnteción (CSS), permitiendo crear diveras fornas de presentar el mismo contenido tanto para mejora la experiencia d elos suuarios como para adaptar el contenido a dispositivos, navegadores y medios específicos.\n",
    "\n",
    "El sitio de la CS3 pasa CSS se encuntra en https://www.w3.org/Style/CSS/.\n",
    "\n",
    "Las hojas de estilo en cascada son una serie de reglas aplicables a un \"selector\" las cuales modifican ciertos atributos de los elementos que corresponde a dicho selector.\n",
    "\n",
    "Si no existiera una regla que indicara otra cosa, todos los elementos contenidos en el elemento identificado por el selector heredrían las reglas de estilo definidas.\n",
    "\n",
    "La sintaxis es la siguiente.\n",
    "\n",
    "```\n",
    "(selector) {\n",
    "(atributo_1): (valores separados por espacio);\n",
    "(atributo_2): (valores separados por espacio);\n",
    "...\n",
    "...\n",
    "(atributo_1): (valores separados por espacio);\n",
    "}\n",
    "```\n",
    "\n",
    "En caso de que sólo sea una regla de CSS se puedce usar la siguente sintaxis:\n",
    "\n",
    "```\n",
    "(selector) {(atributo): (valores separados por espacio)}\n",
    "```\n",
    "\n",
    "**Nota: el uso de los paréntesis indica que nos estamos refiriendo a un término genérico que debe de ser sutituito por un literal válido.** \n",
    "\n",
    "Por lo general, un atributo contiene un valor. Pero existen casos en los que un atributo puede aceptar más de un valor.\n"
   ]
  },
  {
   "cell_type": "markdown",
   "metadata": {},
   "source": [
    "**Ejemplo:**\n",
    "\n",
    "Las siguientes reglas de estilo definen el tamaño de la fuente de todos los elementos *&lt;p&gt;* de un documento HTML.\n",
    "\n",
    "``` HTML\n",
    "p {\n",
    "     font-size: 2em;\n",
    "   }\n",
    "```\n",
    "\n",
    "o\n",
    "\n",
    "``` HTML\n",
    "p {font-size: 2em}\n",
    "```"
   ]
  },
  {
   "cell_type": "markdown",
   "metadata": {},
   "source": [
    "### El sitio CSS Zen Garden.\n",
    "\n",
    "Este sito fomenta la participación de diseñadores para mostrar el modo  en el que se puede mostrar un documento HTML básico, logrando presentaciones y aspectos espectaculares."
   ]
  },
  {
   "cell_type": "markdown",
   "metadata": {},
   "source": [
    "## Inclusión de hojas de estilo  en un documento HTML.\n",
    "\n",
    "Hay dos formas principales de aplicar las reglas de estilo en un documento HTML."
   ]
  },
  {
   "cell_type": "markdown",
   "metadata": {},
   "source": [
    "### El elemento *&lt;style&gt;*.\n",
    "\n",
    "Es posible incluir un elemento *&lt;style&gt;* en un documento HTML (generalmente dentro del elemento *&lt;head&gt;*), de tal forma que las reglas se apliquen al propio documento."
   ]
  },
  {
   "cell_type": "markdown",
   "metadata": {},
   "source": [
    "**Ejemplo:**\n",
    "\n",
    "El documento [*ejemplos/hola_mundo.html*](ejemplos/hola_mundo.html) contiene el siguiente código el cual modifica el color de los elementos *&lt;p&gt;*:\n",
    "\n",
    "``` html\n",
    "<!DOCTYPE html>\n",
    "<html>\n",
    "    <head>\n",
    "        <title>Hola, mundo</title>\n",
    "        <style>\n",
    "            p {color: blue}\n",
    "        </style>\n",
    "    </head>\n",
    "    <body>\n",
    "        <p>Hola, mundo.</p>\n",
    "    </body>\n",
    "</html>\n",
    "```"
   ]
  },
  {
   "cell_type": "markdown",
   "metadata": {},
   "source": [
    "### Referencia a un documento con extensión *.css*.\n",
    "\n",
    "Incrustar las reglas de estilo en cada documento HTML  tiene la gran desventaja de que en el caso de sitios con múltiples documentos, sería necesario modificar a todos los documentos si se quisiera cambiar una regla.\n",
    "\n",
    "Por tal motivo se puede optar por crear un documento con extensión *.css*, l cual incluya las reglas de estilo de  mútliples documentos HTML y hacer una referncia en cada uno de dichos documentos mediante un elemento *&lt;link&gt;* de la siguiente forma:\n",
    "\n",
    "``` html\n",
    "<link rel=\"stylesheet\" type=\"text/css\" href=\"(documento con extensión .css)\">\n",
    "```"
   ]
  },
  {
   "cell_type": "markdown",
   "metadata": {},
   "source": [
    "**Ejemplo:*\n",
    "\n",
    "El documento [*ejemplos/hola_mundo_link.html*](ejemplos/hola_mundo_link.html) contienbe el siguiente código:\n",
    "\n",
    "``` html\n",
    "<!DOCTYPE html>\n",
    "<html>\n",
    "    <head>\n",
    "        <title>Hola, mundo</title>\n",
    "        <link rel=\"stylesheet\" type=\"text/css\" href=\"hola_mundo.css\">\n",
    "\n",
    "    </head>\n",
    "    <body>\n",
    "        <p>Hola, mundo.</p>\n",
    "    </body>\n",
    "</html>\n",
    "```\n",
    "El cual hace refrencia al archivo [*ejemplos/hola_mundo.css*](ejemplos/hola_mundo.css), el cual contiene el siguiente código:\n",
    "\n",
    "```html\n",
    "p {color: blue}\n",
    "```\n",
    "\n",
    "EL efecto es idéntico al del documento  [*ejemplos/hola_mundo.html*](ejemplos/hola_mundo.html)."
   ]
  },
  {
   "cell_type": "markdown",
   "metadata": {},
   "source": [
    "<p style=\"text-align: center\"><a rel=\"license\" href=\"http://creativecommons.org/licenses/by/4.0/\"><img alt=\"Licencia Creative Commons\" style=\"border-width:0\" src=\"https://i.creativecommons.org/l/by/4.0/80x15.png\" /></a><br />Esta obra está bajo una <a rel=\"license\" href=\"http://creativecommons.org/licenses/by/4.0/\">Licencia Creative Commons Atribución 4.0 Internacional</a>.</p>\n",
    "<p style=\"text-align: center\">&copy; José Luis Chiquete Valdivieso. 2018.</p>"
   ]
  }
 ],
 "metadata": {
  "kernelspec": {
   "display_name": "Python 3",
   "language": "python",
   "name": "python3"
  },
  "language_info": {
   "codemirror_mode": {
    "name": "ipython",
    "version": 3
   },
   "file_extension": ".py",
   "mimetype": "text/x-python",
   "name": "python",
   "nbconvert_exporter": "python",
   "pygments_lexer": "ipython3",
   "version": "3.6.5"
  }
 },
 "nbformat": 4,
 "nbformat_minor": 2
}
