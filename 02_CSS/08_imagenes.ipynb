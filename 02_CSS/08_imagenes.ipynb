{
 "cells": [
  {
   "cell_type": "markdown",
   "metadata": {},
   "source": [
    "[![imagenes/cloudevel.png](imagenes/cloudevel.png)](https://cloudevel.com)"
   ]
  },
  {
   "cell_type": "markdown",
   "metadata": {},
   "source": [
    "# Imágenes ```<img>```. "
   ]
  },
  {
   "cell_type": "markdown",
   "metadata": {},
   "source": [
    "Las imágenes, al igual que todos los elementos de *HTML* se basan en el modelo de caja, por lo que todas las propiedades de tamaño, posición y alineación aplican de igual manera.\n"
   ]
  },
  {
   "cell_type": "code",
   "execution_count": null,
   "metadata": {},
   "outputs": [],
   "source": [
    "%%html\n",
    "<img src=\"imagenes/cafetera-chica.png\">"
   ]
  },
  {
   "cell_type": "markdown",
   "metadata": {},
   "source": [
    "## La propiedad ```object-fit```.\n",
    "\n",
    "La propiedad ```object-fit``` permite definir el modo en el que una imagen puede caber en dimensiones que no corresponden a su tamaño original.\n",
    "\n",
    "* ```fill```\n",
    "* ```contain```\n",
    "* ```cover``` va a colocar la imagen en el centro de la caja y pegará la imagen en tamaño original.\n",
    "* ```scale-down``` escala en el eje ```x```y el eje ```y``` para que toda la imagen abarque la totalidad del espacio.\n",
    "* ```none``\n",
    "\n",
    "https://www.w3schools.com/csS/css3_object-fit.asp"
   ]
  },
  {
   "cell_type": "code",
   "execution_count": null,
   "metadata": {
    "scrolled": true
   },
   "outputs": [],
   "source": [
    "%%html\n",
    "<img id=\"ejemplo_8-1\" src=\"imagenes/cafetera-chica.png\">"
   ]
  },
  {
   "cell_type": "code",
   "execution_count": null,
   "metadata": {},
   "outputs": [],
   "source": [
    "%%html\n",
    "<style>\n",
    "    #ejemplo_8-1 {\n",
    "    width: 100px;\n",
    "    height: 100px;\n",
    "    background-color:grey;\n",
    "    object-fit: scale-down;\n",
    "    }\n",
    "</stye>"
   ]
  },
  {
   "cell_type": "code",
   "execution_count": null,
   "metadata": {},
   "outputs": [],
   "source": [
    "%%html\n",
    "<style>\n",
    "    #ejemplo_8-1 {\n",
    "    object-fit: cover;\n",
    "    }\n",
    "</stye>"
   ]
  },
  {
   "cell_type": "code",
   "execution_count": null,
   "metadata": {},
   "outputs": [],
   "source": [
    "%%html\n",
    "<style>\n",
    "    #ejemplo_8-1 {\n",
    "    object-fit: fill;\n",
    "    }\n",
    "</stye>"
   ]
  },
  {
   "cell_type": "code",
   "execution_count": null,
   "metadata": {},
   "outputs": [],
   "source": [
    "%%html\n",
    "<style>\n",
    "    #ejemplo_8-1 {\n",
    "    object-fit: contain;\n",
    "    }\n",
    "</stye>"
   ]
  },
  {
   "cell_type": "markdown",
   "metadata": {},
   "source": [
    "## El atributo ```object-position``` .\n",
    "\n",
    "Este atributo permite mover la imagen en el eje de las ```x``` y en eje de las ```y```, tomando como origne el centro de la caja."
   ]
  },
  {
   "cell_type": "code",
   "execution_count": null,
   "metadata": {},
   "outputs": [],
   "source": [
    "%%html\n",
    "<img id=\"ejemplo_8-2\" src=\"imagenes/cafetera-chica.png\">"
   ]
  },
  {
   "cell_type": "code",
   "execution_count": null,
   "metadata": {},
   "outputs": [],
   "source": [
    "%%html\n",
    "<style>\n",
    "    #ejemplo_8-2 {\n",
    "    width: 100px;\n",
    "    height: 100px;\n",
    "    background-color:grey;\n",
    "    object-fit: none;\n",
    "    object-position: 10px 10px;\n",
    "    }\n",
    "</stye>"
   ]
  },
  {
   "cell_type": "code",
   "execution_count": null,
   "metadata": {},
   "outputs": [],
   "source": [
    "%%html\n",
    "<style>\n",
    "    #ejemplo_8-2 {\n",
    "    object-position: -60px -30px;\n",
    "    }\n",
    "</stye>"
   ]
  },
  {
   "cell_type": "markdown",
   "metadata": {},
   "source": [
    "<p style=\"text-align: center\"><a rel=\"license\" href=\"http://creativecommons.org/licenses/by/4.0/\"><img alt=\"Licencia Creative Commons\" style=\"border-width:0\" src=\"https://i.creativecommons.org/l/by/4.0/80x15.png\" /></a><br />Esta obra está bajo una <a rel=\"license\" href=\"http://creativecommons.org/licenses/by/4.0/\">Licencia Creative Commons Atribución 4.0 Internacional</a>.</p>\n",
    "<p style=\"text-align: center\">&copy; José Luis Chiquete Valdivieso. 2019.</p>"
   ]
  }
 ],
 "metadata": {
  "kernelspec": {
   "display_name": "Python 3",
   "language": "python",
   "name": "python3"
  },
  "language_info": {
   "codemirror_mode": {
    "name": "ipython",
    "version": 3
   },
   "file_extension": ".py",
   "mimetype": "text/x-python",
   "name": "python",
   "nbconvert_exporter": "python",
   "pygments_lexer": "ipython3",
   "version": "3.6.9"
  }
 },
 "nbformat": 4,
 "nbformat_minor": 2
}
