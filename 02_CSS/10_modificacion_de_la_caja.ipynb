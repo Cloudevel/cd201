{
 "cells": [
  {
   "cell_type": "markdown",
   "metadata": {},
   "source": [
    "[![imagenes/pythonista.png](imagenes/pythonista.png)](https://pythonista.io)"
   ]
  },
  {
   "cell_type": "markdown",
   "metadata": {},
   "source": []
  },
  {
   "cell_type": "markdown",
   "metadata": {},
   "source": []
  },
  {
   "cell_type": "code",
   "execution_count": 14,
   "metadata": {},
   "outputs": [
    {
     "data": {
      "text/html": [
       "\n",
       "<div id=\"ejemplo_10-1\">Lorem ipsum dolor sit amet, consectetur adipiscing elit,\n",
       "sed do eiusmod tempor incididunt ut labore et dolore magna aliqua.</br>\n",
       "Euismod elementum nisi quis eleifend quam adipiscing vitae proin.</br>\n",
       "Dictumst vestibulum rhoncus est pellentesque.<br/>\n",
       "Urna neque viverra justo nec. Dictum fusce ut placerat orci nulla \n",
       "pellentesque dignissim enim sit.</div>"
      ],
      "text/plain": [
       "<IPython.core.display.HTML object>"
      ]
     },
     "metadata": {},
     "output_type": "display_data"
    }
   ],
   "source": [
    "%%html\n",
    "\n",
    "<div id=\"ejemplo_10-1\">Lorem ipsum dolor sit amet, consectetur adipiscing elit,\n",
    "sed do eiusmod tempor incididunt ut labore et dolore magna aliqua.</br>\n",
    "Euismod elementum nisi quis eleifend quam adipiscing vitae proin.</br>\n",
    "Dictumst vestibulum rhoncus est pellentesque.<br/>\n",
    "Urna neque viverra justo nec. Dictum fusce ut placerat orci nulla \n",
    "pellentesque dignissim enim sit.</div>"
   ]
  },
  {
   "cell_type": "code",
   "execution_count": 15,
   "metadata": {},
   "outputs": [
    {
     "data": {
      "text/html": [
       "<style>\n",
       "    #ejemplo_10-1 {\n",
       "        \n",
       "        width: 100px;\n",
       "        height: 100px;\n",
       "        overflow: auto;\n",
       "        resize: both;\n",
       "    }"
      ],
      "text/plain": [
       "<IPython.core.display.HTML object>"
      ]
     },
     "metadata": {},
     "output_type": "display_data"
    }
   ],
   "source": [
    "%%html\n",
    "<style>\n",
    "    #ejemplo_10-1 {\n",
    "        \n",
    "        width: 100px;\n",
    "        height: 100px;\n",
    "        overflow: auto;\n",
    "        resize: both;\n",
    "    }"
   ]
  },
  {
   "cell_type": "code",
   "execution_count": null,
   "metadata": {},
   "outputs": [],
   "source": []
  },
  {
   "cell_type": "code",
   "execution_count": null,
   "metadata": {},
   "outputs": [],
   "source": []
  },
  {
   "cell_type": "code",
   "execution_count": null,
   "metadata": {},
   "outputs": [],
   "source": []
  },
  {
   "cell_type": "code",
   "execution_count": null,
   "metadata": {},
   "outputs": [],
   "source": []
  },
  {
   "cell_type": "code",
   "execution_count": null,
   "metadata": {},
   "outputs": [],
   "source": []
  },
  {
   "cell_type": "code",
   "execution_count": null,
   "metadata": {},
   "outputs": [],
   "source": []
  },
  {
   "cell_type": "code",
   "execution_count": null,
   "metadata": {},
   "outputs": [],
   "source": []
  },
  {
   "cell_type": "code",
   "execution_count": null,
   "metadata": {},
   "outputs": [],
   "source": []
  },
  {
   "cell_type": "markdown",
   "metadata": {},
   "source": [
    "## Diseño estático.\n",
    "\n",
    "Es una técnica que implica que las unidades que se utilzan son fijas, tales como:\n",
    "\n",
    "* *px*.\n",
    "* *pts*, *picas*.\n",
    "\n",
    "Nos permite crear diseños que siempre van a desplegarse igual.\n"
   ]
  },
  {
   "cell_type": "markdown",
   "metadata": {},
   "source": [
    "## Diseño líquido.\n",
    "\n",
    "Permite que las dimensiones de los contenidos se ajusten a las dimensiones de la ventana en la que se despliega el contenido.\n",
    "\n",
    "Es una técnica que implica utilizar unidades relativas tales como:\n",
    "\n",
    "* procentajes *%*.\n",
    "* *em*.\n",
    "\n",
    "Del mismo modo, permite definir dimensiones límite con los prefijos:\n",
    "\n",
    "* *max*\n",
    "* *min*.\n",
    "\n",
    "E incluso es posible indicar al navegador que calcule la dimensión óptima con:\n",
    "* *auto*."
   ]
  },
  {
   "cell_type": "markdown",
   "metadata": {},
   "source": [
    "<p style=\"text-align: center\"><a rel=\"license\" href=\"http://creativecommons.org/licenses/by/4.0/\"><img alt=\"Licencia Creative Commons\" style=\"border-width:0\" src=\"https://i.creativecommons.org/l/by/4.0/80x15.png\" /></a><br />Esta obra está bajo una <a rel=\"license\" href=\"http://creativecommons.org/licenses/by/4.0/\">Licencia Creative Commons Atribución 4.0 Internacional</a>.</p>\n",
    "<p style=\"text-align: center\">&copy; José Luis Chiquete Valdivieso. 2019.</p>"
   ]
  }
 ],
 "metadata": {
  "kernelspec": {
   "display_name": "Python 3",
   "language": "python",
   "name": "python3"
  },
  "language_info": {
   "codemirror_mode": {
    "name": "ipython",
    "version": 3
   },
   "file_extension": ".py",
   "mimetype": "text/x-python",
   "name": "python",
   "nbconvert_exporter": "python",
   "pygments_lexer": "ipython3",
   "version": "3.6.5"
  }
 },
 "nbformat": 4,
 "nbformat_minor": 2
}
