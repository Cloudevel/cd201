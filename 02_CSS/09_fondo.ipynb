{
 "cells": [
  {
   "cell_type": "markdown",
   "metadata": {},
   "source": [
    "[![imagenes/cloudevel.png](imagenes/cloudevel.png)](https://cloudevel.com)"
   ]
  },
  {
   "cell_type": "markdown",
   "metadata": {},
   "source": [
    "# Propiedades del fondo."
   ]
  },
  {
   "cell_type": "markdown",
   "metadata": {},
   "source": [
    "## Imágenes de fondo.\n",
    "\n",
    "CSS permite utilizar imágenes como fondo de un elemento."
   ]
  },
  {
   "cell_type": "markdown",
   "metadata": {},
   "source": [
    "### Selección de imagen.\n",
    "\n",
    "Para designar una imagen como fondo de un elemento se utiliza la propiedad ```background-image``` con la siguiente sintaxis:\n",
    "\n",
    "```\n",
    "background-image: url(\"(URL de la imagen)\");\n",
    "```\n"
   ]
  },
  {
   "cell_type": "code",
   "execution_count": null,
   "metadata": {},
   "outputs": [],
   "source": [
    "%%html\n",
    "<div id=\"ejemplo_9-1\"></div>"
   ]
  },
  {
   "cell_type": "code",
   "execution_count": null,
   "metadata": {},
   "outputs": [],
   "source": [
    "%%html\n",
    "<style>\n",
    "    #ejemplo_9-1 {\n",
    "        width: 100px;\n",
    "        height:100px;\n",
    "        background-color: grey;\n",
    "        background-image: url(\"imagenes/cafetera-chica.png\")\n",
    "        }\n",
    "</style>"
   ]
  },
  {
   "cell_type": "markdown",
   "metadata": {},
   "source": [
    "### Repetición de la imagen de fondo.\n",
    "\n",
    "\n",
    "Para indicar la forma en la que imagen se repite en el fondo se utiliza la propiedad ```background-repeat``` con los siguiente valores:\n",
    "\n",
    "* ```repeat``` se repite vertical y horizontalmente.\n",
    "* ```repeat-x``` se repite horizontalmente.\n",
    "* ```repeat-y```  se repite verticalmente.\n",
    "* ```no-repeat``` no se repite.\n",
    "\n"
   ]
  },
  {
   "cell_type": "code",
   "execution_count": null,
   "metadata": {},
   "outputs": [],
   "source": [
    "%%html\n",
    "<div id=\"ejemplo_9-2\"></div>"
   ]
  },
  {
   "cell_type": "code",
   "execution_count": null,
   "metadata": {},
   "outputs": [],
   "source": [
    "%%html\n",
    "<style>\n",
    "    #ejemplo_9-2 {\n",
    "        background-color: azure;\n",
    "        width: 300px;\n",
    "        height:300px;\n",
    "        background-image: url(\"imagenes/cafetera-chica.png\");\n",
    "        background-repeat: repeat-x;\n",
    "        }\n",
    "</style>"
   ]
  },
  {
   "cell_type": "code",
   "execution_count": null,
   "metadata": {},
   "outputs": [],
   "source": [
    "%%html\n",
    "<style>\n",
    "    #ejemplo_9-2 {\n",
    "        background-repeat: repeat-y;\n",
    "        }\n",
    "</style>"
   ]
  },
  {
   "cell_type": "code",
   "execution_count": null,
   "metadata": {},
   "outputs": [],
   "source": [
    "%%html\n",
    "<style>\n",
    "    #ejemplo_9-2 {\n",
    "        background-repeat: no-repeat;\n",
    "        }\n",
    "</style>"
   ]
  },
  {
   "cell_type": "code",
   "execution_count": null,
   "metadata": {},
   "outputs": [],
   "source": [
    "%%html\n",
    "<style>\n",
    "    #ejemplo_9-2 {\n",
    "        background-repeat: repeat;\n",
    "        }\n",
    "</style>"
   ]
  },
  {
   "cell_type": "markdown",
   "metadata": {},
   "source": [
    "### Tamaño de la imagen de fondo.\n",
    "\n",
    "La propiedad ```background-size``` permite definir el tamaño de una imagen utilizando las unidades conocidas o los siguientes valores.\n",
    "\n",
    "* ```auto```\n",
    "* ```length```.\n",
    "* ```contain```.\n",
    "* ```cover```.\n",
    "* ```percentage```."
   ]
  },
  {
   "cell_type": "code",
   "execution_count": null,
   "metadata": {},
   "outputs": [],
   "source": [
    "%%html\n",
    "<style>\n",
    "    #ejemplo_9-3 {\n",
    "        background-color: azure;\n",
    "        width: 100px;\n",
    "        height:100px;\n",
    "        background-image: url(\"imagenes/cafetera-chica.png\");\n",
    "        background-size: 150px; \n",
    "        }\n",
    "</style>"
   ]
  },
  {
   "cell_type": "code",
   "execution_count": null,
   "metadata": {
    "scrolled": true
   },
   "outputs": [],
   "source": [
    "%%html\n",
    "<div id=\"ejemplo_9-3\"></div>"
   ]
  },
  {
   "cell_type": "code",
   "execution_count": null,
   "metadata": {},
   "outputs": [],
   "source": [
    "%%html\n",
    "<style>\n",
    "    #ejemplo_9-3 {background-size: cover}\n",
    "</style>"
   ]
  },
  {
   "cell_type": "code",
   "execution_count": null,
   "metadata": {},
   "outputs": [],
   "source": [
    "%%html\n",
    "<style>\n",
    "    #ejemplo_9-3 {background-size: contain}\n",
    "</style>"
   ]
  },
  {
   "cell_type": "code",
   "execution_count": null,
   "metadata": {},
   "outputs": [],
   "source": [
    "%%html\n",
    "<style>\n",
    "    #ejemplo_9-3 {background-size: 50px}\n",
    "</style>"
   ]
  },
  {
   "cell_type": "code",
   "execution_count": null,
   "metadata": {},
   "outputs": [],
   "source": [
    "%%html\n",
    "<style>\n",
    "    #ejemplo_9-3 {background-size: 50% 35%}\n",
    "</style>"
   ]
  },
  {
   "cell_type": "markdown",
   "metadata": {},
   "source": [
    "### Posición de la imagen de fondo.\n",
    "\n",
    "La propiedad ```background-position``` permite indicar la posición en la que se situará la imagen. Además de las unidades conocidas tales como ```px``` y los procentajes es posible utilizar los siguientes valores.\n",
    "\n",
    "* ```left top```\n",
    "* ```left center```\n",
    "* ```left bottom```\n",
    "* ```center top```\n",
    "* ```center center```\n",
    "* ```center bottom```\n",
    "* ```right top```\n",
    "* ```right center```\n",
    "* ```right bottom```\n"
   ]
  },
  {
   "cell_type": "code",
   "execution_count": null,
   "metadata": {},
   "outputs": [],
   "source": [
    "%%html\n",
    "<div id=\"ejemplo_9-4\">\n",
    "Lorem ipsum dolor sit amet consectetur adipiscing elit est ultrices eu sociosqu, \n",
    "justo sagittis imperdiet eros fermentum rutrum vehicula inceptos facilisi vestibulum \n",
    "metus, ridiculus ornare potenti blandit massa mattis feugiat cubilia posuere neque. \n",
    "Congue urna mauris dictumst cubilia torquent curabitur integer mollis, turpis porttitor \n",
    "duis non montes orci rutrum nam tempus, ultricies tempor cras massa gravida molestie \n",
    "lectus. Cursus non euismod lacus litora dui a sodales nisl, accumsan consequat molestie \n",
    "maecenas senectus vulputate ad fusce, curae pellentesque eros cubilia hac tempor rutrum. \n",
    "Ultrices mauris nunc faucibus egestas at morbi tempor, mi vulputate urna quam rutrum \n",
    "elementum, ut volutpat curae laoreet dis vivamus. Torquent nec consequat dictumst \n",
    "parturient facilisi nullam turpis purus nascetur, malesuada accumsan himenaeos a magnis \n",
    "tortor fermentum et, potenti augue natoque orci egestas molestie felis justo. \n",
    "Placerat sollicitudin sagittis felis condimentum nam augue nascetur, neque curabitur \n",
    "diam porttitor fringilla justo, erat montes fames elementum pulvinar mi.\n",
    "</div>"
   ]
  },
  {
   "cell_type": "code",
   "execution_count": null,
   "metadata": {},
   "outputs": [],
   "source": [
    "%%html\n",
    "<style>\n",
    "    #ejemplo_9-4 {\n",
    "        width: 300px;\n",
    "        height: 300px;\n",
    "        overflow: scroll;\n",
    "        background-image: url(\"imagenes/cafetera-chica.png\");\n",
    "        background-repeat: no-repeat;\n",
    "        background-position: center center;\n",
    "    }    \n",
    "</style>"
   ]
  },
  {
   "cell_type": "code",
   "execution_count": null,
   "metadata": {},
   "outputs": [],
   "source": [
    "%%html\n",
    "<style>\n",
    "    #ejemplo_9-4 {background-position: center bottom;}    \n",
    "</style>"
   ]
  },
  {
   "cell_type": "markdown",
   "metadata": {},
   "source": [
    "### Origen de la imagen de fondo.\n",
    "\n",
    "\n",
    "La propiedad ```background-origin``` permite indicar el punto de origen a partir del cual se desplegará la imagen del fondo.\n",
    "\n",
    "* ```content-box```\n",
    "* ```margin-box```\n",
    "* ```padding-box```"
   ]
  },
  {
   "cell_type": "code",
   "execution_count": null,
   "metadata": {},
   "outputs": [],
   "source": [
    "%%html\n",
    "<style>\n",
    "    #ejemplo_9-5a {\n",
    "        width: 250px;\n",
    "        height: 250px;\n",
    "        background-color: blue;\n",
    "    }   \n",
    "    \n",
    "    #ejemplo_9-5b {\n",
    "        width: 200px;\n",
    "        height: 200px;\n",
    "        background-color: azure;\n",
    "        background-image: url(\"imagenes/cafetera-chica.png\");\n",
    "        background-size: cover;\n",
    "        margin: 25px 25px 25px 25px;\n",
    "        padding: 25px 25px 25px 25px;\n",
    "        border: 25px transparent blue;\n",
    "        overflow: scroll;\n",
    "    }    \n",
    "</style>\n",
    "\n",
    "\n",
    "<div id=\"ejemplo_9-5a\">\n",
    "    <div id=\"ejemplo_9-5b\">Lorem ipsum dolor sit amet consectetur adipiscing elit est ultrices eu sociosqu, \n",
    "justo sagittis imperdiet eros fermentum rutrum vehicula inceptos facilisi vestibulum \n",
    "metus, ridiculus ornare potenti blandit massa mattis feugiat cubilia posuere neque.</div>"
   ]
  },
  {
   "cell_type": "code",
   "execution_count": null,
   "metadata": {},
   "outputs": [],
   "source": [
    "%%html\n",
    "<style>\n",
    "    #ejemplo_9-5b {background-origin: content-box}\n",
    "</style>"
   ]
  },
  {
   "cell_type": "code",
   "execution_count": null,
   "metadata": {},
   "outputs": [],
   "source": [
    "%%html\n",
    "<style>\n",
    "    #ejemplo_9-5a {background-origin: border-box}\n",
    "</style>"
   ]
  },
  {
   "cell_type": "code",
   "execution_count": null,
   "metadata": {},
   "outputs": [],
   "source": [
    "%%html\n",
    "<style>\n",
    "    #ejemplo_9-5b {background-origin: padding-box}\n",
    "</style>"
   ]
  },
  {
   "cell_type": "markdown",
   "metadata": {},
   "source": [
    "### Fijado de la imagen.\n",
    "\n",
    "Para indicar la forma en la que una imagen de fondo permanecerá o no  en la misma posición de la pantalla se utiliza ```background-attachment``` con los siguientes valores:\n",
    "\n",
    "* ```fixed``` lo que hace que la imagen se quede fija en el fondo.\n",
    "* ```scroll``` lo que hace que la imagen suba o baje junto con el resto de los elementos de la página."
   ]
  },
  {
   "cell_type": "code",
   "execution_count": null,
   "metadata": {},
   "outputs": [],
   "source": [
    "%%html\n",
    "<style>\n",
    "    body {\n",
    "        background-image: url(\"imagenes/cafetera-chica.png\");\n",
    "        background-position: right center;\n",
    "        background-repeat: no-repeat;\n",
    "        background-attachment: fixed;\n",
    "    }\n",
    "    \n",
    "</style>"
   ]
  },
  {
   "cell_type": "code",
   "execution_count": null,
   "metadata": {},
   "outputs": [],
   "source": [
    "%%html\n",
    "<style>\n",
    "    body {\n",
    "        background-image: url(\"imagenes/cafetera-chica.png\");\n",
    "        background-position: right bottom;\n",
    "        background-repeat: no-repeat;\n",
    "        background-attachment: fixed;\n",
    "    }\n",
    "    \n",
    "</style>"
   ]
  },
  {
   "cell_type": "markdown",
   "metadata": {},
   "source": [
    "## Gradientes.\n",
    "\n",
    "https://www.w3schools.com/css/css3_gradients.asp"
   ]
  },
  {
   "cell_type": "markdown",
   "metadata": {},
   "source": [
    "* Además de asignar colores e imágenes, CSS permite también definir gradientes de colores mediante el uso de funciones.\n",
    "\n",
    "* ```linear-gradient()```\n",
    "* ``` repeating-linear-gradient()```\n",
    "*  ```radial-gradient()```\n",
    "\n",
    "    Estas funciones generarán de forma automática una imagen que contiene un gradiente de color que ser'asignado a la propiedad ```background-image```.\n",
    "    \n",
    "    "
   ]
  },
  {
   "cell_type": "markdown",
   "metadata": {},
   "source": [
    "### Gradientes lineales.\n",
    "\n",
    "La función ```linear-gradient()``` permite definir gradientes lineales con una sintaxis como la siguiente:\n",
    "\n",
    "```\n",
    "background-image: linear-gradient((color 1), (color 2), ..., color n)\n",
    "```"
   ]
  },
  {
   "cell_type": "code",
   "execution_count": null,
   "metadata": {},
   "outputs": [],
   "source": [
    "%%html\n",
    "<div id=\"ejemplo_9-6\">\n",
    "</div>"
   ]
  },
  {
   "cell_type": "code",
   "execution_count": null,
   "metadata": {},
   "outputs": [],
   "source": [
    "%%html\n",
    "<style>\n",
    "\n",
    "    #ejemplo_9-6 {\n",
    "        width: 250px;\n",
    "        height: 250px;\n",
    "        background-image: linear-gradient(white, grey, blue, orange);\n",
    "    } \n",
    "\n",
    "</style>"
   ]
  },
  {
   "cell_type": "markdown",
   "metadata": {},
   "source": [
    "#### Derfinición de ángulos.\n",
    "\n",
    "El gradiente se despliega por defecto de forma horiontal, pero es posible definir un ángulo dado en:\n",
    "    \n",
    "* ```deg``` para grados.\n",
    "* ```rad``` para radianes.\n",
    "* ```grad``` para gradianes."
   ]
  },
  {
   "cell_type": "code",
   "execution_count": null,
   "metadata": {},
   "outputs": [],
   "source": [
    "%%html\n",
    "<div id=\"ejemplo_9-7\">\n",
    "</div>"
   ]
  },
  {
   "cell_type": "code",
   "execution_count": null,
   "metadata": {},
   "outputs": [],
   "source": [
    "%%html\n",
    "<style>\n",
    "\n",
    "    #ejemplo_9-7 {\n",
    "        width: 250px;\n",
    "        height: 250px;\n",
    "        background-image: linear-gradient( 60deg, white, grey, blue, orange);\n",
    "    } \n",
    "\n",
    "</style>"
   ]
  },
  {
   "cell_type": "markdown",
   "metadata": {},
   "source": [
    "### Gradientes lineales que se repiten."
   ]
  },
  {
   "cell_type": "code",
   "execution_count": null,
   "metadata": {},
   "outputs": [],
   "source": [
    "%%html\n",
    "<div id=\"ejemplo_9-8\">\n",
    "</div>"
   ]
  },
  {
   "cell_type": "code",
   "execution_count": null,
   "metadata": {},
   "outputs": [],
   "source": [
    "%%html\n",
    "<style>\n",
    "\n",
    "    #ejemplo_9-8 {\n",
    "        width: 250px;\n",
    "        height: 250px;\n",
    "        background-image: repeating-linear-gradient( 60deg, black 10% , grey 1%, blue 5%, orange 15%);\n",
    "    } \n",
    "\n",
    "</style>"
   ]
  },
  {
   "cell_type": "markdown",
   "metadata": {},
   "source": [
    "### Gradientes radiales."
   ]
  },
  {
   "cell_type": "code",
   "execution_count": null,
   "metadata": {},
   "outputs": [],
   "source": [
    "%%html\n",
    "<div id=\"ejemplo_9-9\">\n",
    "</div>"
   ]
  },
  {
   "cell_type": "code",
   "execution_count": null,
   "metadata": {},
   "outputs": [],
   "source": [
    "%%html\n",
    "<style>\n",
    "\n",
    "    #ejemplo_9-9 {\n",
    "        width: 250px;\n",
    "        height: 100px;\n",
    "        background-image: radial-gradient(red 5%, yellow 15%, green 60%);\n",
    "    } \n",
    "\n",
    "</style>"
   ]
  },
  {
   "cell_type": "code",
   "execution_count": null,
   "metadata": {},
   "outputs": [],
   "source": [
    "#### Formas."
   ]
  },
  {
   "cell_type": "code",
   "execution_count": null,
   "metadata": {},
   "outputs": [],
   "source": [
    "%%html\n",
    "<div id=\"ejemplo_9-10\">\n",
    "</div>"
   ]
  },
  {
   "cell_type": "code",
   "execution_count": null,
   "metadata": {},
   "outputs": [],
   "source": [
    "%%html\n",
    "<style>\n",
    "\n",
    "    #ejemplo_9-10 {\n",
    "        width: 250px;\n",
    "        height: 100px;\n",
    "        background-image: radial-gradient(red 5%, yellow 15%, green 60%);\n",
    "    } \n",
    "\n",
    "</style>"
   ]
  },
  {
   "cell_type": "code",
   "execution_count": null,
   "metadata": {},
   "outputs": [],
   "source": [
    "%%html\n",
    "<style>\n",
    "    #ejemplo_9-10 {background-image: radial-gradient(circle, red 5%, yellow 15%, green 60%)} \n",
    "</style>"
   ]
  },
  {
   "cell_type": "markdown",
   "metadata": {},
   "source": [
    "<p style=\"text-align: center\"><a rel=\"license\" href=\"http://creativecommons.org/licenses/by/4.0/\"><img alt=\"Licencia Creative Commons\" style=\"border-width:0\" src=\"https://i.creativecommons.org/l/by/4.0/80x15.png\" /></a><br />Esta obra está bajo una <a rel=\"license\" href=\"http://creativecommons.org/licenses/by/4.0/\">Licencia Creative Commons Atribución 4.0 Internacional</a>.</p>\n",
    "<p style=\"text-align: center\">&copy; José Luis Chiquete Valdivieso. 2019.</p>"
   ]
  }
 ],
 "metadata": {
  "kernelspec": {
   "display_name": "Python 3",
   "language": "python",
   "name": "python3"
  },
  "language_info": {
   "codemirror_mode": {
    "name": "ipython",
    "version": 3
   },
   "file_extension": ".py",
   "mimetype": "text/x-python",
   "name": "python",
   "nbconvert_exporter": "python",
   "pygments_lexer": "ipython3",
   "version": "3.6.9"
  }
 },
 "nbformat": 4,
 "nbformat_minor": 2
}
