{
 "cells": [
  {
   "cell_type": "markdown",
   "metadata": {},
   "source": [
    "[![imagenes/cloudevel.png](imagenes/cloudevel.png)](https://cloudevel.com)"
   ]
  },
  {
   "cell_type": "markdown",
   "metadata": {},
   "source": [
    "# Elementos *HTML*."
   ]
  },
  {
   "cell_type": "markdown",
   "metadata": {},
   "source": [
    "Un documento de *HTML* está compuesto por una estructura de elementos.\n",
    "\n",
    "Un elemento es una porción de código y texto delimitada por etiquetas. \n",
    "\n",
    "*HTML*, al igual que otros lenguajes como *XML* y utiliza \"etiquetas\" o \"tags\"  para delimitar los elementos dentro de un documento.\n"
   ]
  },
  {
   "cell_type": "markdown",
   "metadata": {},
   "source": [
    "\n",
    "\n",
    "**NOTA: PRELIMINAR** Debido a que los documentos HTML utilizan los símbolos ```<``` y ```>``` para conformar las etiquetas, en esta sección se utilizarán los paréntesis ```(``` ```)``` para denotar elementos que no son literales al ejemplificar las construcciones sintácticas."
   ]
  },
  {
   "cell_type": "markdown",
   "metadata": {},
   "source": [
    "##  Componentes de un elemento de *HTML*.\n",
    "\n",
    "\n",
    "Un elemento de *HTML* puede estar conformado por:\n",
    "\n",
    "* Etiquetas.\n",
    "* Atributos.\n",
    "* Texto.\n",
    "* Otros elementos *HTML*.\n",
    "\n",
    "Por lo general un elemento está delimitado por una etiqueta de apertura y una de cierre.\n",
    "\n",
    "Dentro de la etiqueta de apertura se pueden definir los atributos de un elemento.\n",
    "\n",
    "La sintaxis es como la siguiente:\n",
    "\n",
    "```\n",
    "<(tipo de elemento) (atributos)> (texto y otros elementos) </(tipo de elemento)>\n",
    "```\n",
    "\n",
    "En algunos otros casos, el elemento no contiene texto ni algún otro elemento, por lo que sólo se requiere de una etiqueta con la siguente sintaxis: \n",
    "\n",
    "```\n",
    "<(tipo de elemento)/>\n",
    "```\n",
    "\n",
    "### Atributos.\n",
    "\n",
    "Un elemento puede definir dentro de la etiqueta de inicio a uno o más atributos usando la siguiente sintaxis.\n",
    "\n",
    "```\n",
    "(nombre 1)=\"(valor 1)\" (nombre 2)=\"(valor 2)\" ... (nonbre n)=\"(valor n)\"\n",
    "```\n",
    "\n",
    "Dependiendo de cada elemento existen nombres de atributos predefinidos que permiten describir una característica particular de de dicho elemento. Es\n",
    "posible consultar la lista de todos los atributos disponibles en https://www.w3schools.com/tags/ref_attributes.asp.\n",
    "\n",
    "Todos los elementos *HTML* comparten un conjunto común de atributos los cuales pueden ser consultados en https://www.w3schools.com/tags/ref_standardattributes.asp\n",
    "\n",
    "Además de los elmentos predefinidos, es posibe definir atributos propios."
   ]
  },
  {
   "cell_type": "markdown",
   "metadata": {},
   "source": [
    "**Ejemplos:**"
   ]
  },
  {
   "cell_type": "markdown",
   "metadata": {},
   "source": [
    "* El siguiente es un elemento de tipo ```<a>``` que define:\n",
    "   * El atributo ```href``` con valor igual a ```\"https://cloudevel.com```.\n",
    "   * El atributo ```id``` con valor igual a ```\"enlace\"```.\n",
    "   * El texto ```Página principal```.\n",
    "   \n",
    "``` html\n",
    "<a href=\"https://cloudevel.com\" id=\"enlace\">Página principal</a>\n",
    "```"
   ]
  },
  {
   "cell_type": "markdown",
   "metadata": {},
   "source": [
    "**Ejemplo:**"
   ]
  },
  {
   "cell_type": "markdown",
   "metadata": {},
   "source": [
    "*El código:* \n",
    "``` html\n",
    "<br/>\n",
    "```\n",
    "Es una etiqueta unitaria que da por resultado un retorno de línea."
   ]
  },
  {
   "cell_type": "markdown",
   "metadata": {},
   "source": [
    "**Ejemplo:**"
   ]
  },
  {
   "cell_type": "markdown",
   "metadata": {},
   "source": [
    "**Ejemplo:**"
   ]
  },
  {
   "cell_type": "markdown",
   "metadata": {},
   "source": [
    "*El código:*\n",
    "\n",
    "``` html\n",
    "<p>Este es un párrafo que incluye retornos de línea,<br/>\n",
    "<b>texto en negritas</b><br/>\n",
    "<sub>subíndices</sub> junto con <sup>superíndices</sup><br/>\n",
    "    y algunas cosas más.</p>\n",
    "```\n",
    "*Da por resultado:*\n",
    "\n",
    "<p>Este es un párrafo que incluye retornos de línea,<br/>\n",
    "<b>texto en negritas</b><br/>\n",
    "<sub>subíndices</sub> junto con <sup>superíndices</sup><br/>\n",
    "    y algunas cosas más.</p>"
   ]
  },
  {
   "cell_type": "markdown",
   "metadata": {},
   "source": [
    "## Legibilidad.\n",
    "\n",
    "Los navegadores no reconocen los caracteres de retorno de línea, por lo que es posible crear un documento *HTML* completo en una sola línea. Sin embargo, eso no es muy legible para un ser humano por lo que se recomienda el uso de saltos de línea e indentación."
   ]
  },
  {
   "cell_type": "markdown",
   "metadata": {},
   "source": [
    "## Comentarios.\n",
    "\n",
    "HTML permite crear comentarios mediante la siguiente sintaxis:\n",
    "\n",
    "``` html\n",
    "<!-- (Comentario) -->\n",
    "```\n"
   ]
  },
  {
   "cell_type": "markdown",
   "metadata": {},
   "source": [
    "<p style=\"text-align: center\"><a rel=\"license\" href=\"http://creativecommons.org/licenses/by/4.0/\"><img alt=\"Licencia Creative Commons\" style=\"border-width:0\" src=\"https://i.creativecommons.org/l/by/4.0/80x15.png\" /></a><br />Esta obra está bajo una <a rel=\"license\" href=\"http://creativecommons.org/licenses/by/4.0/\">Licencia Creative Commons Atribución 4.0 Internacional</a>.</p>\n",
    "<p style=\"text-align: center\">&copy; José Luis Chiquete Valdivieso. 2019.</p>"
   ]
  }
 ],
 "metadata": {
  "kernelspec": {
   "display_name": "Python 3",
   "language": "python",
   "name": "python3"
  },
  "language_info": {
   "codemirror_mode": {
    "name": "ipython",
    "version": 3
   },
   "file_extension": ".py",
   "mimetype": "text/x-python",
   "name": "python",
   "nbconvert_exporter": "python",
   "pygments_lexer": "ipython3",
   "version": "3.6.5"
  }
 },
 "nbformat": 4,
 "nbformat_minor": 2
}
