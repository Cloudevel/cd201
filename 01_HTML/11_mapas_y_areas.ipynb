{
 "cells": [
  {
   "cell_type": "markdown",
   "metadata": {},
   "source": [
    "[![imagenes/cloudevel.png](imagenes/cloudevel.png)](https://cloudevel.com)"
   ]
  },
  {
   "cell_type": "markdown",
   "metadata": {},
   "source": [
    "# Mapas y  áreas.\n",
    "\n",
    "*HTML* Permite delimitar una o más superficies dentro de una imagen de tal forma que cada región esté ligada a un hipervínculo, el cual será accedido al seleccionar un punto dentro de dichas regiones.\n",
    "\n",
    "A la imagen se le conoce como \"mapa\" y a las regiones delimitadas de la imagen se les conoce como áreas."
   ]
  },
  {
   "cell_type": "markdown",
   "metadata": {},
   "source": [
    "## El atributo ```usemap```  en los elementos ```<img>```.\n",
    "\n",
    "Los elementos de tipo ```<img>``` cuentan con el atributo ```usemap```,  el cual indica que la imagen en cuestión puede ser usada con un mapa, la que se le asigna un nombre.\n",
    "\n",
    "```\n",
    "<img (atributos) usemap=\"#(nombre)\">\n",
    "```"
   ]
  },
  {
   "cell_type": "markdown",
   "metadata": {},
   "source": [
    "## El elemento ```<map>```.\n",
    "\n",
    "El elemento map es un contenedor de áreas y debe de estar ligado a un elemento ```<img>``` mediante el identificador definido en su atributo ```usemap```.\n",
    "\n",
    "```\n",
    "<map name=\"(valor del atributo usemap de una imagen)\">\n",
    "   (definicion de secciones con elementos <area>) \n",
    "</map>\n",
    "```"
   ]
  },
  {
   "cell_type": "markdown",
   "metadata": {},
   "source": [
    "## El elemento ```<area>```.\n",
    "\n",
    "Los elementos ```<area>``` permiten delimitar una supeficie dentro de una imagen de la siguiente manera.  \n",
    "\n",
    "\n",
    "```\n",
    "<area shape=\"(forma)\" coords=\"(coordenadas)\", href=\"(URL)\"> \n",
    "```\n",
    "\n",
    "Donde:\n",
    "\n",
    "* ```(forma)``` es un valor que puede ser:\n",
    "    * ```default```, para definir toda la superficie del mapa.\n",
    "    * ```rectangle```, para definir una superficie rectangular.\n",
    "    * ```circle```, para definir una superficie circular.\n",
    "    * ```poly```, para definir un polígono cerrado de múltiples aristas.\n",
    "* ```(coordenadas)``` corresponde a las coordenadas que definen las dimensiones de la superficie delimitada.\n",
    "    * En caso de que ```shape=\"rectangle\"```, las coordenadas corresponden 4 número enteros que definen las coordenadas que corresponden a 2 esquinas opuestas del rectángulo de la forma ```x1, y1, x2, y2```.\n",
    "    * En caso de que ```shape=\"circle\"```, las coordenadas corresponden a 3 números enteros en los que se definen las coordenadas del centro del cícrulo y el radio de este de la forma ```x, y, r```. \n",
    "     * En caso de que ```shape=\"poly\"```, las coordenadas corresponden una serie de puntos en los que se encuentra cada vértice del polígono de la forma ```x1 y1,x2,y2, ... ,xn,yn```.\n",
    "* ```(URL)```es la *URL* a la que apunta la superficie delimitada.\n",
    "     \n",
    "### Referencias de las coordenadas:\n",
    "\n",
    "* Las coordenadas tienen como origen la esquina superior izquierda de la imagen.\n",
    "* El eje de las ```x``` se extiende horizontalmente hacia la derecha.\n",
    "* El eje de las ```y``` se extiende verticalmente hacia abajo.\n",
    "* Las unidades corresponden a pixeles."
   ]
  },
  {
   "cell_type": "markdown",
   "metadata": {},
   "source": [
    "**Ejemplo:**\n",
    "\n",
    "* El siguiente código despelgará la imagen ```ejemplos/ejemplo_mapa.png``` y definirá las superfices de un rectángulo, un círculo y un polígono, los cuales están ligados a un hipervínculo.\n",
    "\n",
    "``` html\n",
    "<img src=\"ejemplos/ejemplo_mapa.png\" usemap=\"#mapa\">\n",
    "<map name=\"mapa\">\n",
    "    <area shape=\"rect\" coords=\"23,9,165,89\" alt=\"Repositorio\" href=\"https://github.com/cloudevel/\">\n",
    "    <area shape=\"circle\" coords=\"242,49,42\" href=\"https://github.com/cloudevel/cd201\" alt=\"Curso\">\n",
    "    <area shape=\"poly\" coords=\"148,99,76,187,222,187\" href=\"https://github.com/Cloudevel/cd201/tree/master/01_HTML\" alt=\"Sección\">\n",
    "</map>\n",
    "```\n",
    "*El resultado:*\n",
    "\n",
    "<img src=\"ejemplos/ejemplo_mapa.png\" usemap=\"#mapa\">\n",
    "<map name=\"mapa\">\n",
    "    <area shape=\"rect\" coords=\"23,9,165,89\" alt=\"Repositorio\" href=\"https://github.com/cloudevel/\">\n",
    "    <area shape=\"circle\" coords=\"242,49,42\" href=\"https://github.com/cloudevel/cd201\" alt=\"Curso\">\n",
    "    <area shape=\"poly\" coords=\"148,99,76,187,222,187\" href=\"https://github.com/Cloudevel/cd201/tree/master/01_HTML\" alt=\"Sección\">\n",
    "</map>"
   ]
  },
  {
   "cell_type": "markdown",
   "metadata": {},
   "source": [
    "<p style=\"text-align: center\"><a rel=\"license\" href=\"http://creativecommons.org/licenses/by/4.0/\"><img alt=\"Licencia Creative Commons\" style=\"border-width:0\" src=\"https://i.creativecommons.org/l/by/4.0/80x15.png\" /></a><br />Esta obra está bajo una <a rel=\"license\" href=\"http://creativecommons.org/licenses/by/4.0/\">Licencia Creative Commons Atribución 4.0 Internacional</a>.</p>\n",
    "<p style=\"text-align: center\">&copy; José Luis Chiquete Valdivieso. 2020.</p>"
   ]
  }
 ],
 "metadata": {
  "kernelspec": {
   "display_name": "Python 3",
   "language": "python",
   "name": "python3"
  },
  "language_info": {
   "codemirror_mode": {
    "name": "ipython",
    "version": 3
   },
   "file_extension": ".py",
   "mimetype": "text/x-python",
   "name": "python",
   "nbconvert_exporter": "python",
   "pygments_lexer": "ipython3",
   "version": "3.6.9"
  }
 },
 "nbformat": 4,
 "nbformat_minor": 2
}
