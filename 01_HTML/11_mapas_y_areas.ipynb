{
 "cells": [
  {
   "cell_type": "markdown",
   "metadata": {},
   "source": [
    "[![imagenes/cloudevel.png](imagenes/cloudevel.png)](https://cloudevel.com)"
   ]
  },
  {
   "cell_type": "markdown",
   "metadata": {},
   "source": [
    "# Mapas y  áreas."
   ]
  },
  {
   "cell_type": "markdown",
   "metadata": {},
   "source": [
    "## El atributo ```usemap``` de los elementos ```<img>```.\n",
    "\n",
    "```\n",
    "<img (atributos) usemap=\"#(nombre)\">\n",
    "```"
   ]
  },
  {
   "cell_type": "markdown",
   "metadata": {},
   "source": [
    "## El elemento ```<map>```.\n",
    "\n",
    "```\n",
    "<map name=\"(nombre de la imagen)\">\n",
    "   (definicion de secciones con elementos <area>) \n",
    "</map>\n",
    "```"
   ]
  },
  {
   "cell_type": "markdown",
   "metadata": {},
   "source": [
    "## El elemento ```<area>```.\n",
    "\n",
    "```\n",
    "<area shape=\"(forma)\" coords=\"(coordenadas)\", href=\"(URL)\"> \n",
    "```"
   ]
  },
  {
   "cell_type": "markdown",
   "metadata": {},
   "source": [
    "### Valores del atributo ```shape```.\n",
    "\n",
    "* ```\"default\"```.\n",
    "* ```\"rectangle\"```.\n",
    "* ```\"circle```.\n",
    "* ```\"poly\"```."
   ]
  },
  {
   "cell_type": "markdown",
   "metadata": {},
   "source": [
    "``` html\n",
    "<img src=\"ejemplos/ejemplo_mapa.png\" width=\"300\"  alt=\"Mapa\" usemap=\"#mapa\">\n",
    "<map name=\"mapa\">\n",
    "    <area shape=\"rect\" coords=\"23,9,165,89\" alt=\"Repositorio\" href=\"https://github.com/cloudevel/\">\n",
    "    <area shape=\"circle\" coords=\"242,49,42\" href=\"https://github.com/cloudevel/cd201\" alt=\"Curso\">\n",
    "    <area shape=\"poly\" coords=\"148,99,76,187,222,187\" href=\"https://github.com/cloudevel/cd201/HTML\" alt=\"Sección\">\n",
    "</map>\n",
    "```\n",
    "\n",
    "<img src=\"ejemplos/ejemplo_mapa.png\" width=\"300\"  alt=\"Mapa\" usemap=\"#mapa\">\n",
    "<map name=\"mapa\">\n",
    "    <area shape=\"rect\" coords=\"23,9,165,89\" alt=\"Repositorio\" href=\"https://github.com/cloudevel/\">\n",
    "    <area shape=\"circle\" coords=\"242,49,42\" href=\"https://github.com/cloudevel/cd201\" alt=\"Curso\">\n",
    "    <area shape=\"poly\" coords=\"148,99,76,187,222,187\" href=\"https://github.com/cloudevel/cd201/HTML\" alt=\"Sección\">\n",
    "</map>"
   ]
  },
  {
   "cell_type": "markdown",
   "metadata": {},
   "source": [
    "<p style=\"text-align: center\"><a rel=\"license\" href=\"http://creativecommons.org/licenses/by/4.0/\"><img alt=\"Licencia Creative Commons\" style=\"border-width:0\" src=\"https://i.creativecommons.org/l/by/4.0/80x15.png\" /></a><br />Esta obra está bajo una <a rel=\"license\" href=\"http://creativecommons.org/licenses/by/4.0/\">Licencia Creative Commons Atribución 4.0 Internacional</a>.</p>\n",
    "<p style=\"text-align: center\">&copy; José Luis Chiquete Valdivieso. 2020.</p>"
   ]
  }
 ],
 "metadata": {
  "kernelspec": {
   "display_name": "Python 3",
   "language": "python",
   "name": "python3"
  },
  "language_info": {
   "codemirror_mode": {
    "name": "ipython",
    "version": 3
   },
   "file_extension": ".py",
   "mimetype": "text/x-python",
   "name": "python",
   "nbconvert_exporter": "python",
   "pygments_lexer": "ipython3",
   "version": "3.6.9"
  }
 },
 "nbformat": 4,
 "nbformat_minor": 2
}
