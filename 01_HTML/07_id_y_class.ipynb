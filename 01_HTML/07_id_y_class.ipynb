{
 "cells": [
  {
   "cell_type": "markdown",
   "metadata": {},
   "source": [
    "[![imagenes/pythonista.png](imagenes/pythonista.png)](https://pythonista.io)"
   ]
  },
  {
   "cell_type": "markdown",
   "metadata": {},
   "source": [
    "## Atributos de identificación *id* y *class*."
   ]
  },
  {
   "cell_type": "markdown",
   "metadata": {},
   "source": [
    "<style>\n",
    "    #parrafo\n",
    "    {\n",
    "        font-size: 1.5em;\n",
    "        font-style: bold;\n",
    "        color: red;\n",
    "    }\n",
    "    .estilo\n",
    "    {\n",
    "        font-style: italic;\n",
    "        color: green;\n",
    "    }\n",
    "</style>\n",
    "<p>Este es un ejemplo del uso de los atributos <em>id</em> y <em>class</em>.</p>\n",
    "<h2> Ejemplo de uso del attributo <em>id</em>.</h2>\n",
    "<p>El elemento &lt;id&gt; permite asignar un nombre único a un elemento de HTML.</p>\n",
    "<p id=\"parrafo\">Puede diferenciar a un elemento de otros.</p>\n",
    "<h2>Ejemplo de uso del atributo <em>id</em>.</h2>\n",
    "<p>\n",
    "    El atributo <em>class</em> puede asignar un identificador a más de un elemento de HTML.<br/>\n",
    "    Esto es útil para.\n",
    "</p>\n",
    "<ul>\n",
    "    <li class=\"estilo\">Homogenizar los atributos de grupos de elementos en un documento.</li>\n",
    "    <li>Permitir recopilar imformación de dichos elementos a partir del código.</li>\n",
    "</ul>\n",
    "<p class=\"estilo\">El atributo class puede ser utilizado incluso en elementos de tipo distinto.</p>"
   ]
  },
  {
   "cell_type": "code",
   "execution_count": 1,
   "metadata": {},
   "outputs": [
    {
     "data": {
      "text/html": [
       "<style>\n",
       "    #parrafo\n",
       "    {\n",
       "        font-size: 1.5em;\n",
       "        font-style: bold;\n",
       "        color: red;\n",
       "    }\n",
       "    .estilo\n",
       "    {\n",
       "        font-style: italic;\n",
       "        color: green;\n",
       "    }\n",
       "</style>\n",
       "<p>Este es un ejemplo del uso de los atributos <em>id</em> y <em>class</em>.</p>\n",
       "<h2> Ejemplo de uso del attributo <em>id</em>.</h2>\n",
       "<p>El elemento &lt;id&gt; permite asignar un nombre único a un elemento de HTML.</p>\n",
       "<p id=\"parrafo\">Puede diferenciar a un elemento de otros.</p>\n",
       "<h2>Ejemplo de uso del atributo <em>id</em>.</h2>\n",
       "<p>\n",
       "    El atributo <em>class</em> puede asignar un identificador a más de un elemento de HTML.<br/>\n",
       "    Esto es útil para.\n",
       "</p>\n",
       "<ul>\n",
       "    <li class=\"estilo\">Homogenizar los atributos de grupos de elementos en un documento.</li>\n",
       "    <li>Permitir recopilar imformación de dichos elementos a partir del código.</li>\n",
       "</ul>\n",
       "<p class=\"estilo\">El atributo class puede ser utilizado incluso en elementos de tipo distinto.</p>"
      ],
      "text/plain": [
       "<IPython.core.display.HTML object>"
      ]
     },
     "metadata": {},
     "output_type": "display_data"
    }
   ],
   "source": [
    "%%html\n",
    "<style>\n",
    "    #parrafo\n",
    "    {\n",
    "        font-size: 1.5em;\n",
    "        font-style: bold;\n",
    "        color: red;\n",
    "    }\n",
    "    .estilo\n",
    "    {\n",
    "        font-style: italic;\n",
    "        color: green;\n",
    "    }\n",
    "</style>\n",
    "<p>Este es un ejemplo del uso de los atributos <em>id</em> y <em>class</em>.</p>\n",
    "<h2> Ejemplo de uso del attributo <em>id</em>.</h2>\n",
    "<p>El elemento &lt;id&gt; permite asignar un nombre único a un elemento de HTML.</p>\n",
    "<p id=\"parrafo\">Puede diferenciar a un elemento de otros.</p>\n",
    "<h2>Ejemplo de uso del atributo <em>id</em>.</h2>\n",
    "<p>\n",
    "    El atributo <em>class</em> puede asignar un identificador a más de un elemento de HTML.<br/>\n",
    "    Esto es útil para.\n",
    "</p>\n",
    "<ul>\n",
    "    <li class=\"estilo\">Homogenizar los atributos de grupos de elementos en un documento.</li>\n",
    "    <li>Permitir recopilar imformación de dichos elementos a partir del código.</li>\n",
    "</ul>\n",
    "<p class=\"estilo\">El atributo class puede ser utilizado incluso en elementos de tipo distinto.</p>"
   ]
  },
  {
   "cell_type": "markdown",
   "metadata": {},
   "source": [
    "<p style=\"text-align: center\"><a rel=\"license\" href=\"http://creativecommons.org/licenses/by/4.0/\"><img alt=\"Licencia Creative Commons\" style=\"border-width:0\" src=\"https://i.creativecommons.org/l/by/4.0/80x15.png\" /></a><br />Esta obra está bajo una <a rel=\"license\" href=\"http://creativecommons.org/licenses/by/4.0/\">Licencia Creative Commons Atribución 4.0 Internacional</a>.</p>\n",
    "<p style=\"text-align: center\">&copy; José Luis Chiquete Valdivieso. 2018.</p>"
   ]
  }
 ],
 "metadata": {
  "kernelspec": {
   "display_name": "Python 3",
   "language": "python",
   "name": "python3"
  },
  "language_info": {
   "codemirror_mode": {
    "name": "ipython",
    "version": 3
   },
   "file_extension": ".py",
   "mimetype": "text/x-python",
   "name": "python",
   "nbconvert_exporter": "python",
   "pygments_lexer": "ipython3",
   "version": "3.6.5"
  }
 },
 "nbformat": 4,
 "nbformat_minor": 2
}
