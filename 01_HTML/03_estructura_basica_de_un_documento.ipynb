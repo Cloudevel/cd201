{
 "cells": [
  {
   "cell_type": "markdown",
   "metadata": {},
   "source": [
    "[![imagenes/pythonista.png](imagenes/pythonista.png)](https://pythonista.io)"
   ]
  },
  {
   "cell_type": "markdown",
   "metadata": {},
   "source": [
    "## Definición y delimitación de un documento HTML5.\n",
    "\n",
    "Un documento HTML5 está compuesto por:\n",
    "\n",
    "* El *DOCTYPE*, el cual indica el tipo y versión de documento. \n",
    "    * En el caso de un documento HTML5 es  *&lt;!DOCTYPE=\"html\"&gt;*\n",
    "* El documento delimitado por la etiqueta *&lt;html&gt;*.\n",
    "\n",
    "A su vez, el documento tiene una \"cabeza\" identificada como  *&lt;head&gt;* y un \"cuerpo\" identificado como  *&lt;body&gt;*."
   ]
  },
  {
   "cell_type": "markdown",
   "metadata": {},
   "source": [
    "## La cabeza de un documento HTML5.\n",
    "\n",
    "Este segmento define las características generales del documento. Puede contener los siguentes elementos.\n",
    "\n",
    "* *&lt;title&gt;* que corresponde a la cadena de caracteres despelgada en la pestaña del navagador.\n",
    "* *&lt;base&gt;* que corresponde a la ruta apartir de la cual se utilizarán las referncias relativas de los hiperenlaces.\n",
    "* *&lt;link&gt;* que corresponde a algún recurso que se desee cargar al documento.\n",
    "* *&lt;script&gt;* que corresponde a un script que puede ser cargado al documento.\n",
    "* *&lt;style&gt;* que corresponde a una definición de estilos del documento.\n",
    "* *&lt;meta&gt;* que corresponde a algún metadato que defina las características del documento. Puede consultar la referencia de los posibles metadatos en https://developer.mozilla.org/es/docs/Web/HTML/Elemento/meta\n",
    "\n",
    "Es posible crear documentos HTML que no cuenten con cabeza."
   ]
  },
  {
   "cell_type": "markdown",
   "metadata": {},
   "source": [
    "## El cuerpo de un documento HTML5.\n",
    "\n",
    "Este segmento es el que posee el contenido de un documento que es despelgado en la ventana de un navegador web.\n",
    "\n"
   ]
  },
  {
   "cell_type": "markdown",
   "metadata": {},
   "source": [
    "**ADVERTENCIA:** Cada navegador web puede presentar de forma distinta los elementos de un documento HTML. Incluso, en ciertos casos, algunos elementos no son soportados por algún navegador en una versión específica de este.\n",
    "\n",
    "Se recomienda contar con las versiones más recientes de varios navegadores y probar el modo en el que los distintos navegadores despliegan el contenido de un documento HTML."
   ]
  },
  {
   "cell_type": "markdown",
   "metadata": {},
   "source": [
    " ## Ejemplo de un documento HTML.\n",
    " \n",
    " El siguiente código corresponde a un documento HTML5 muy sencillo que tiene como título \"*Hola, mundo*\" y despliega un párrafo con el mismo mensaje.\n",
    " \n",
    " ``` html\n",
    " <!DOCTYPE html>\n",
    " <html>\n",
    "     <head>\n",
    "         <title>Hola, mundo</title>\n",
    "         <meta charset=\"UTF-8\">\n",
    "         <meta name=\"description\" content=\"Apuntes Pythonista\">\n",
    "         <meta autor=\"josech\">\n",
    "     </head>\n",
    "     <body>\n",
    "         <h1>Hola, mundo.</h1>\n",
    "     </body>\n",
    " </html>\n",
    "```\n",
    "\n",
    "El archivo localizado en [HTML/hola_mundo.html](HTML/hola_mundo.html) contiene el código descrito."
   ]
  },
  {
   "cell_type": "markdown",
   "metadata": {},
   "source": [
    "<p style=\"text-align: center\"><a rel=\"license\" href=\"http://creativecommons.org/licenses/by/4.0/\"><img alt=\"Licencia Creative Commons\" style=\"border-width:0\" src=\"https://i.creativecommons.org/l/by/4.0/80x15.png\" /></a><br />Esta obra está bajo una <a rel=\"license\" href=\"http://creativecommons.org/licenses/by/4.0/\">Licencia Creative Commons Atribución \n",
    "4.0 Internacional</a>.</p>\n",
    "<p style=\"text-align: center\">&copy; José Luis Chiquete Valdivieso. 2018.</p>"
   ]
  }
 ],
 "metadata": {
  "kernelspec": {
   "display_name": "Python 3",
   "language": "python",
   "name": "python3"
  },
  "language_info": {
   "codemirror_mode": {
    "name": "ipython",
    "version": 3
   },
   "file_extension": ".py",
   "mimetype": "text/x-python",
   "name": "python",
   "nbconvert_exporter": "python",
   "pygments_lexer": "ipython3",
   "version": "3.6.5"
  }
 },
 "nbformat": 4,
 "nbformat_minor": 2
}
