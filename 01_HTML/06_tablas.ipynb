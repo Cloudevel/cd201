{
 "cells": [
  {
   "cell_type": "markdown",
   "metadata": {},
   "source": [
    "[![imagenes/pythonista.png](imagenes/pythonista.png)](https://pythonista.io)"
   ]
  },
  {
   "cell_type": "markdown",
   "metadata": {},
   "source": [
    "## Tablas.\n",
    "\n",
    "Definidas por *&lt;table&gt;*.\n",
    "\n",
    "Se define una sucesión de renglones con *&lt;tr&gt;*, los cuales a su vez contienen celdas definidas por *&lt;td&gt;*."
   ]
  },
  {
   "cell_type": "markdown",
   "metadata": {},
   "source": [
    "<table>\n",
    " <tr>\n",
    "  <td>1</td> <td>2</td> <td>3</td>\n",
    " </tr>\n",
    " <tr>\n",
    "  <td>4</td> <td>5</td> <td>6</td>\n",
    " </tr>\n",
    " <tr>\n",
    "  <td>7</td> <td>8</td> <td>9</td>\n",
    " </tr>\n",
    " <tr>\n",
    "  <td>10</td> <td>11</td> <td>12</td>\n",
    " </tr>\n",
    "</table>"
   ]
  },
  {
   "cell_type": "markdown",
   "metadata": {},
   "source": [
    "<table>\n",
    " <tr>\n",
    " <td>1</td> <td/> <td>3</td>\n",
    " </tr>\n",
    " <tr>\n",
    "  <td>4</td> <td>5</td> <td>6</td>\n",
    " </tr>\n",
    " <tr>\n",
    "  <td>7</td> <td>8</td> <td>9</td>\n",
    " </tr>\n",
    " <tr>\n",
    "  <td>10</td> <td>11</td> <td>12</td>\n",
    " </tr>\n",
    "</table>"
   ]
  },
  {
   "cell_type": "markdown",
   "metadata": {},
   "source": [
    "<table>\n",
    " <tr>\n",
    "  <td>1</td>  <td>3</td>\n",
    " </tr>\n",
    " <tr>\n",
    "  <td>4</td> <td>5</td> <td>6</td>\n",
    " </tr>\n",
    " <tr>\n",
    "  <td>7</td> <td>8</td> <td>9</td>\n",
    " </tr>\n",
    " <tr>\n",
    "  <td>10</td> <td>11</td> <td>12</td> <td>13</td> <td>14</td>\n",
    " </tr>\n",
    "</table>"
   ]
  },
  {
   "cell_type": "markdown",
   "metadata": {},
   "source": [
    "## Encabezados con *&lt;th&gt;*."
   ]
  },
  {
   "cell_type": "markdown",
   "metadata": {},
   "source": [
    "<table>\n",
    " <tr>\n",
    "     <th>Primera</th> <th>Segunda</th> <th>Tercera</th> \n",
    " </tr>\n",
    " <tr>\n",
    " <td>1</td> <td/> <td>3</td>\n",
    " </tr>\n",
    " <tr>\n",
    "  <td>4</td> <td>5</td> <td>6</td>\n",
    " </tr>\n",
    " <tr>\n",
    "  <td>7</td> <td>8</td> <td>9</td>\n",
    " </tr>\n",
    " <tr>\n",
    "  <td>10</td> <td>11</td> <td>12</td>\n",
    " </tr>\n",
    "</table>"
   ]
  },
  {
   "cell_type": "markdown",
   "metadata": {},
   "source": [
    "<table>\n",
    " <tr>\n",
    "     <td/><th>Primera</th> <th>Segunda</th> <th>Tercera</th> \n",
    " </tr>\n",
    " <tr>\n",
    " <th>A</th><td>1</td> <td/> <td>3</td>\n",
    " </tr>\n",
    " <tr>\n",
    "  <th>B</th><td>4</td> <td>5</td> <td>6</td>\n",
    " </tr>\n",
    " <tr>\n",
    "  <th>C</th><td>7</td> <td>8</td> <td>9</td>\n",
    " </tr>\n",
    " <tr>\n",
    "  <th>D</th><td>10</td> <td>11</td> <td>12</td>\n",
    " </tr>\n",
    "</table>"
   ]
  },
  {
   "cell_type": "markdown",
   "metadata": {},
   "source": [
    "### Atributo colspan, rowspan."
   ]
  },
  {
   "cell_type": "markdown",
   "metadata": {},
   "source": [
    "<table>\n",
    " <tr>\n",
    "     <td/><th>Primera</th> <th>Segunda</th> <th>Tercera</th> \n",
    " </tr>\n",
    " <tr>\n",
    "     <th>A</th><td colspan=\"2\">1</td> <td>3</td>\n",
    " </tr>\n",
    " <tr>\n",
    "     <th>B</th><td rowspan=\"3\">4<br/>extendido</td> <td>5</td> <td>6</td>\n",
    " </tr>\n",
    " <tr>\n",
    "     <th>C</th> <td>8</td> <td>9</td>\n",
    " </tr>\n",
    " <tr>\n",
    "    <th>D</th> <td>11</td> <td>12</td>\n",
    " </tr>\n",
    "</table>"
   ]
  },
  {
   "cell_type": "markdown",
   "metadata": {},
   "source": [
    "Encabezados extendidos con *&lt;thead&gt;*, *&lt;tbody&gt;* *&lt;tfoot&gt;*."
   ]
  },
  {
   "cell_type": "markdown",
   "metadata": {},
   "source": [
    "<table>\n",
    " <thead>\n",
    "<tr>\n",
    " <th>Encabezado 1</th> <th>Encabezado 2</th>\n",
    "</tr>\n",
    " </thead>\n",
    " <tbody>\n",
    " <tr>\n",
    " <td>1</td> <td>2</td>\n",
    " </tr>\n",
    " <tr>\n",
    " <td>3</td> <td>4</td>\n",
    " </tr>\n",
    " <tr>\n",
    " <td>5</td> <td>6</td>\n",
    " </tr>\n",
    " <tr>\n",
    " <td>7</td> <td>8</td>\n",
    " </tr>\n",
    " <tr>\n",
    " <td>9</td> <td>10</td>\n",
    " </tr>\n",
    " <tr>\n",
    " <td>11</td> <td>12</td>\n",
    " </tr>\n",
    " <tr>\n",
    " <td>13</td> <td>14</td>\n",
    " </tr>\n",
    " <tr>\n",
    " <td>15</td> <td>16</td>\n",
    " </tr>\n",
    " <tr>\n",
    " <td>17</td> <td>18</td>\n",
    " </tr>\n",
    " <tr>\n",
    " <td>19</td> <td>20</td>\n",
    " </tr>\n",
    " <tr>\n",
    " <td>21</td> <td>22</td>\n",
    " </tr>\n",
    " </tbody>\n",
    " <tfoot>\n",
    "<tr>\n",
    " <th>Pie 1</th> <th>Pie 2</th>\n",
    "</tr>\n",
    " </tfoot>\n",
    "</table>"
   ]
  },
  {
   "cell_type": "markdown",
   "metadata": {},
   "source": [
    "<p style=\"text-align: center\"><a rel=\"license\" href=\"http://creativecommons.org/licenses/by/4.0/\"><img alt=\"Licencia Creative Commons\" style=\"border-width:0\" src=\"https://i.creativecommons.org/l/by/4.0/80x15.png\" /></a><br />Esta obra está bajo una <a rel=\"license\" href=\"http://creativecommons.org/licenses/by/4.0/\">Licencia Creative Commons Atribución 4.0 Internacional</a>.</p>\n",
    "<p style=\"text-align: center\">&copy; José Luis Chiquete Valdivieso. 2018.</p>"
   ]
  }
 ],
 "metadata": {
  "kernelspec": {
   "display_name": "Python 3",
   "language": "python",
   "name": "python3"
  },
  "language_info": {
   "codemirror_mode": {
    "name": "ipython",
    "version": 3
   },
   "file_extension": ".py",
   "mimetype": "text/x-python",
   "name": "python",
   "nbconvert_exporter": "python",
   "pygments_lexer": "ipython3",
   "version": "3.6.5"
  }
 },
 "nbformat": 4,
 "nbformat_minor": 2
}
