{
 "cells": [
  {
   "cell_type": "markdown",
   "metadata": {},
   "source": [
    "[![imagenes/cloudevel.png](imagenes/cloudevel.png)](https://cloudevel.com)"
   ]
  },
  {
   "cell_type": "markdown",
   "metadata": {},
   "source": [
    "# Introducción a estilos.\n",
    "\n",
    "Aún cuando en este curso existe una sección de varios capítulos dedicada a los estilos de cascada (*CSS*), es importante hacer referencia a los elementos ```<style>``` dentro de un documento *HTML*."
   ]
  },
  {
   "cell_type": "markdown",
   "metadata": {},
   "source": [
    "## El elemento ```<style>```.\n",
    "\n",
    "Este elemento permite definir el estilo de ciertos elementos dentro de un documento *HTML* identificándolos mediante el uso de \"selectores\".\n",
    "\n",
    "La sintaxis es similar a:\n",
    "\n",
    "```\n",
    "<style>\n",
    "    (selector 1) {\n",
    "        (reglas)\n",
    "    }\n",
    "    (selector 2) {\n",
    "        (reglas)\n",
    "    }\n",
    "    ...\n",
    "    (selector n {\n",
    "        (reglas)\n",
    "    }\n",
    "    \n",
    "</style>\n",
    "```"
   ]
  },
  {
   "cell_type": "markdown",
   "metadata": {},
   "source": [
    "## Reglas de estilo.\n",
    "\n",
    "Una regla de estilo es una línea que define el valor de un atributo particular.\n",
    "\n",
    "```\n",
    "(atributo): (valor 1) (valor 2) ... (valor n); \n",
    "```\n",
    "#### El atributo ```background-color```.\n",
    "Para este capítulo sólo utilizaremos el atributo ```background-color```, el cual define el color de fondo de un elemento.\n",
    "\n",
    "``` css\n",
    "background-color: (color);\n",
    "```\n",
    "\n",
    "Para seleccionar colores por su nombre se puede consultar: https://www.w3schools.com/colors/colors_names.asp"
   ]
  },
  {
   "cell_type": "markdown",
   "metadata": {},
   "source": [
    "## Selectores.\n",
    "\n",
    "Los selectores son expresiones que permiten identificar uno o varios elementos dentro de un documento HTML e incluso algunos eventos.\n",
    "\n",
    "Los selectores son un elemento clave de las reglas de estilo, pero su aplicación va más allá de este ámbito. Los selectores también son muy uitlizados para el desarrollo de aplicaciones web.\n",
    "\n",
    "Para conocer más sobre la sintaxis de de selectores es posible consultar la siguiente liga:\n",
    "\n",
    "https://www.w3schools.com/cssref/css_selectors.asp"
   ]
  },
  {
   "cell_type": "markdown",
   "metadata": {},
   "source": [
    "### Selectores de elementos.\n",
    "\n",
    "Los selectores de elementos permiten identificar a todos los elementos de cierto tipo en un documento *HTML* por el nombre de las etiquetas.\n",
    "\n",
    "Para seleccionar a todos los elementos de un documento se utiliza el selector ```*```.\n",
    "\n",
    "* El selector para todos los elementos ```<p>``` es ```p```.\n",
    "* El selector para todos los elementos ```<a>``` es ```a```.\n",
    "* El selector para todos los elementos ```<ol>``` es ```ol```.\n",
    "* El selector para todos los elementos ```<li>``` es ```li```.\n",
    "* El selector para todos los elementos ```<body>``` es ```body```."
   ]
  },
  {
   "cell_type": "markdown",
   "metadata": {},
   "source": [
    "**Ejemplo:**\n",
    "\n",
    "Las siguientes celdas incluyen el comando mágico de *Jupyter* ```%%html```, el cual permite ejecutar codigo *HTML*, el cual es deplegado en la salida de dicha celda."
   ]
  },
  {
   "cell_type": "markdown",
   "metadata": {},
   "source": [
    "* Se creará un par de elementos ```<h1>``` y ```<p>```, los cuales serán afectados por el contenido de un elemento ```<style> ```."
   ]
  },
  {
   "cell_type": "code",
   "execution_count": null,
   "metadata": {},
   "outputs": [],
   "source": [
    "%%html\n",
    "<h1>Este es un ejemplo del uso de selectores.</h1>\n",
    "<p>Hola, amigos.</p>"
   ]
  },
  {
   "cell_type": "markdown",
   "metadata": {},
   "source": [
    "* El elemento ```<style>``` de la siguiente celda contiene reglas para los elementos ```<p>``` y ```<h1> ```. Al ejecutarse, dichas reglas afectarán a todos los elementos correspondientes en la notebook."
   ]
  },
  {
   "cell_type": "code",
   "execution_count": null,
   "metadata": {},
   "outputs": [],
   "source": [
    "%%html\n",
    "<style>\n",
    "  p {\n",
    "      background-color: gold;\n",
    "  }\n",
    "  h1 {\n",
    "      background-color: azure;\n",
    "  }\n",
    "</style>"
   ]
  },
  {
   "cell_type": "markdown",
   "metadata": {},
   "source": [
    "<p style=\"text-align: center\"><a rel=\"license\" href=\"http://creativecommons.org/licenses/by/4.0/\"><img alt=\"Licencia Creative Commons\" style=\"border-width:0\" src=\"https://i.creativecommons.org/l/by/4.0/80x15.png\" /></a><br />Esta obra está bajo una <a rel=\"license\" href=\"http://creativecommons.org/licenses/by/4.0/\">Licencia Creative Commons Atribución 4.0 Internacional</a>.</p>\n",
    "<p style=\"text-align: center\">&copy; José Luis Chiquete Valdivieso. 2020.</p>"
   ]
  }
 ],
 "metadata": {
  "kernelspec": {
   "display_name": "Python 3",
   "language": "python",
   "name": "python3"
  },
  "language_info": {
   "codemirror_mode": {
    "name": "ipython",
    "version": 3
   },
   "file_extension": ".py",
   "mimetype": "text/x-python",
   "name": "python",
   "nbconvert_exporter": "python",
   "pygments_lexer": "ipython3",
   "version": "3.6.9"
  }
 },
 "nbformat": 4,
 "nbformat_minor": 2
}
