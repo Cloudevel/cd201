{
 "cells": [
  {
   "cell_type": "markdown",
   "metadata": {},
   "source": [
    "[![imagenes/cloudevel.png](imagenes/cloudevel.png)](https://cloudevel.com)"
   ]
  },
  {
   "cell_type": "markdown",
   "metadata": {},
   "source": [
    "Una de las características más relevantes de *HTML* son los hipervínculos o hiperenlaces, los cuales permiten crear referencias dentro de un documento a otros recursos publicados en la web mediante su *URL*."
   ]
  },
  {
   "cell_type": "markdown",
   "metadata": {},
   "source": [
    "## Hipervínculos mediante el elemento ```<a>```.\n",
    "\n",
    "Este elemento apunta a una *URL* ligándola al atributo ```href```. El hipervínculo se activa al hacer click sobre el contenido ```inline``` comprendido entre las etiquetas del elemento.\n",
    "\n",
    "```html\n",
    "<a href=\"(URL)\">(contenido inline)</a>\n",
    "\n",
    "```"
   ]
  },
  {
   "cell_type": "markdown",
   "metadata": {},
   "source": [
    "### *URL* absoluta.\n",
    "\n",
    "Una *URL* absoluta define la localización exacta de un recurso en la web. \n",
    "\n",
    "**Ejemplo:**\n",
    "\n",
    "*El código:*\n",
    "\n",
    "```html\n",
    "<a href=\"https://pythonista.io\">Mi sitio</a>.\n",
    "<a href=\"https://amazon.com.mx/s?k=python\">Python en <b>Amazon.</b></a>\n",
    "<a href=\"https://cloudevel.com\"><img src=\"imagenes/cloudevel.png\"><a>\n",
    "```\n",
    "*El resultado:*\n",
    "\n",
    "<a href=\"https://pythonista.io\">Mi sitio</a>.\n",
    "\n",
    "<a href=\"https://amazon.com.mx/s?k=python\">Python en <b>Amazon.</b></a>\n",
    "\n",
    "<a href=\"https://cloudevel.com\"><img src=\"imagenes/cloudevel.png\"><a>"
   ]
  },
  {
   "cell_type": "markdown",
   "metadata": {},
   "source": [
    "### *URL* relativa.\n",
    "\n",
    "Una *URL* relativa define una ruta en la que la referencia es la localización del documento *HTML*, permitiendo acceder a recursos alojados en el mismo sistema o servidor en el que se encuentra el documento. \n",
    "\n",
    "La ventaja del uso de las *URL* relativa es que los documentos son independientes de donde se encuentre el sitio web, lo que facilita el diseño de páginas web de forma local, las cuales serían publicadas posterioremente en un servidor sin afectar los enlaces.\n",
    "\n",
    "**Ejemplos:**\n",
    "\n",
    "\n",
    "* El siguiente código hace referencia al directorio de esta notebook denotado por el ```./``` y buscará al documento ```ejemplo_id_class.html``` en el directorio ```ejemplos```.\n",
    "\n",
    "```html\n",
    "<a href=\"./ejemplos/ejemplo_id_class.html\">Ejemplo de id y class.</a>\n",
    "```\n",
    "*El resultado:*\n",
    "\n",
    "<a href=\"./ejemplos/ejemplo_id_class.html\">Ejemplo de id y class.</a>\n",
    "\n",
    "* El siguiente código hace referencia al directorio superior de esta notebook denotado por el ```../``` y buscará al documento ```01_introduccion_a_http_y_html.ipynb``` en el subdirectorio ```01_HTML```.\n",
    "\n",
    "```html\n",
    "<a href=\"../01_HTML/01_introduccion_a_http_y_html.ipynb\">Intro.</a>\n",
    "```\n",
    "\n",
    "*El resultado:*\n",
    "\n",
    "<a href=\"../01_HTML/01_introduccion_a_http_y_html.ipynb\">Intro.</a>\n",
    "\n",
    "\n",
    "* El siguiente código hace referencia al 2 directorios por encima de esta notebook denotado por el ```../../``` y buscará a la imagen ```cloudevel.png``` en el subdirectorio ```cd201/01_HTML/imagenes```.\n",
    "\n",
    "\n",
    "```html\n",
    "<a href=\"../../cd201/01_HTML/imagenes/cloudevel.png\">Logo.</a>\n",
    "```\n",
    "*El resultado:*\n",
    "\n",
    "<a href=\"../../cd201/01_HTML/imagenes/cloudevel.png\">Logo.</a>"
   ]
  },
  {
   "cell_type": "markdown",
   "metadata": {},
   "source": [
    "## Anclas dentro de un documento *HTML*.\n",
    "\n",
    "Los elementos ```<a>``` peuden hacer referencia a un elemento dentro de un documento *HTML* que tenga un identificador específico defindo por el atributo ```id```, utilizando el signo ```#```.\n",
    "\n",
    "\n",
    "```\n",
    "<URL>#<identificador>\n",
    "```\n",
    "\n",
    "**Ejemplos:**\n",
    "\n",
    "* El siguiente código hace referencia al elemento con atributo ```id=\"ejemplo\"``` localizado en la *URL* ```./ejemplos/tablas.html```\n",
    "\n",
    "```html\n",
    "<a href=\"./ejemplos/tablas.html#ejemplo\">Ejemplo de tabla.</a>\n",
    "```\n",
    "*El resultado:*\n",
    "\n",
    "<a href=\"./ejemplos/tablas.html#ejemplo\">Ejemplo de tabla.</a>\n",
    "\n",
    "* El siguiente código hace referencia al elemento con atributo ```id=\"exception-hierarchy\"``` localizado en la *URL* ```https://docs.python.org/2/library/exceptions.html```\n",
    "```html\n",
    "<a href=\"https://docs.python.org/2/library/exceptions.html#exception-hierarchy\">Jerarquía de Excepciones.</a>\n",
    "```\n",
    "\n",
    "*El resultado:*\n",
    "\n",
    "<a href=\"https://docs.python.org/2/library/exceptions.html#exception-hierarchy\">Jerarquía de Excepciones.</a>    "
   ]
  },
  {
   "cell_type": "markdown",
   "metadata": {},
   "source": []
  },
  {
   "cell_type": "markdown",
   "metadata": {},
   "source": [
    "<p style=\"text-align: center\"><a rel=\"license\" href=\"http://creativecommons.org/licenses/by/4.0/\"><img alt=\"Licencia Creative Commons\" style=\"border-width:0\" src=\"https://i.creativecommons.org/l/by/4.0/80x15.png\" /></a><br />Esta obra está bajo una <a rel=\"license\" href=\"http://creativecommons.org/licenses/by/4.0/\">Licencia Creative Commons Atribución 4.0 Internacional</a>.</p>\n",
    "<p style=\"text-align: center\">&copy; José Luis Chiquete Valdivieso. 2020.</p>"
   ]
  }
 ],
 "metadata": {
  "kernelspec": {
   "display_name": "Python 3",
   "language": "python",
   "name": "python3"
  },
  "language_info": {
   "codemirror_mode": {
    "name": "ipython",
    "version": 3
   },
   "file_extension": ".py",
   "mimetype": "text/x-python",
   "name": "python",
   "nbconvert_exporter": "python",
   "pygments_lexer": "ipython3",
   "version": "3.6.9"
  }
 },
 "nbformat": 4,
 "nbformat_minor": 2
}
