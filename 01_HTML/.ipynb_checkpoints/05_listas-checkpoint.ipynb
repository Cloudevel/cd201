{
 "cells": [
  {
   "cell_type": "markdown",
   "metadata": {},
   "source": [
    "[![imagenes/pythonista.png](imagenes/pythonista.png)](https://pythonista.io)"
   ]
  },
  {
   "cell_type": "markdown",
   "metadata": {},
   "source": [
    "## Tipos de listas.\n",
    "\n",
    "* Listas ordenadas con *&lt;ol&gt;*.\n",
    "* Listas sin orden con *&lt;ul&gt;*."
   ]
  },
  {
   "cell_type": "markdown",
   "metadata": {},
   "source": [
    "### Elementos de una lista.\n",
    "Los elementos de la lista correspondenb a elementos *&lt;li&gt;*."
   ]
  },
  {
   "cell_type": "markdown",
   "metadata": {},
   "source": [
    "<ul type=\"square\">\n",
    "    <li>Pan</li>\n",
    "    <li>Leche</li>\n",
    "    <li>Huevos</li>\n",
    "</ul>"
   ]
  },
  {
   "cell_type": "markdown",
   "metadata": {},
   "source": [
    "<ol>\n",
    "    <li>Pan</li>\n",
    "    <li>Leche</li>\n",
    "    <li>Huevos</li>\n",
    "</ol>"
   ]
  },
  {
   "cell_type": "markdown",
   "metadata": {},
   "source": [
    "## Listas de descripciones *&lt;dl&gt;*, *&lt;dt&gt;* y *&lt;dd&gt;*.\n",
    "\n",
    "<dl>\n",
    "<dt><dfn>icono</dfn></dt>\n",
    " <dt><dfn>ícono</dfn></dt>\n",
    " <dd>Imagen sagrada.<dd>\n",
    " <dd>Retrato pintado sobre una tabla de madera.</dd>\n",
    " <dd>Pequeña imagen que se despliega en una pantalla.</dd>\n",
    " <dt><dfn>botón</dfn></dt>\n",
    " <dd>Dispositivo que al ser oprimido desencadena una acción.</dd>\n",
    " <dt><dfn>puntero</dfn></dt>\n",
    " <dt><dfn>apuntador</dfn></dt>\n",
    " <dd>Imagen que se despliega en una pantalla y que se mueve en respuesta a la acción análoga de un dispositivo.</dd>    \n",
    "</dl>"
   ]
  },
  {
   "cell_type": "markdown",
   "metadata": {},
   "source": [
    "<p style=\"text-align: center\"><a rel=\"license\" href=\"http://creativecommons.org/licenses/by/4.0/\"><img alt=\"Licencia Creative Commons\" style=\"border-width:0\" src=\"https://i.creativecommons.org/l/by/4.0/80x15.png\" /></a><br />Esta obra está bajo una <a rel=\"license\" href=\"http://creativecommons.org/licenses/by/4.0/\">Licencia Creative Commons Atribución 4.0 Internacional</a>.</p>\n",
    "<p style=\"text-align: center\">&copy; José Luis Chiquete Valdivieso. 2018.</p>"
   ]
  }
 ],
 "metadata": {
  "kernelspec": {
   "display_name": "Python 3",
   "language": "python",
   "name": "python3"
  },
  "language_info": {
   "codemirror_mode": {
    "name": "ipython",
    "version": 3
   },
   "file_extension": ".py",
   "mimetype": "text/x-python",
   "name": "python",
   "nbconvert_exporter": "python",
   "pygments_lexer": "ipython3",
   "version": "3.6.5"
  }
 },
 "nbformat": 4,
 "nbformat_minor": 2
}
