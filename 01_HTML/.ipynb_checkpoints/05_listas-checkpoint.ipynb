{
 "cells": [
  {
   "cell_type": "markdown",
   "metadata": {},
   "source": [
    "[![imagenes/pythonista.png](imagenes/pythonista.png)](https://pythonista.io)"
   ]
  },
  {
   "cell_type": "markdown",
   "metadata": {},
   "source": [
    "\n",
    "## El elemento *&lt;li&gt;*.\n",
    "Los documentos HTML permiten crear sucesiones de elementos en forma de listas. Cada uno de los elementos de una lista es de tipo *&lt;li&gt;*.\n",
    "\n",
    "A partir de este conjunto de elementos es posiblre crear dos tipos de listas."
   ]
  },
  {
   "cell_type": "markdown",
   "metadata": {},
   "source": [
    "## Listas sin ordenamiento con *&lt;ul&gt;*.\n",
    "\n",
    " El elemento *&lt;ul&gt;* permite crear listas con *bullets* cada bullet corresponde a un elemento *&lt;li&gt;*."
   ]
  },
  {
   "cell_type": "markdown",
   "metadata": {},
   "source": [
    "**Ejemplo:**\n",
    "Se creará una lista con 3 elementos."
   ]
  },
  {
   "cell_type": "markdown",
   "metadata": {},
   "source": [
    "*El código:*\n",
    "\n",
    "``` html\n",
    "<ul>\n",
    "    <li>Pan</li>\n",
    "    <li>Leche</li>\n",
    "    <li>Huevos</li>\n",
    "</ul>\n",
    "```"
   ]
  },
  {
   "cell_type": "markdown",
   "metadata": {},
   "source": [
    "*El resultado:*\n",
    "\n",
    "<ul>\n",
    "    <li>Pan</li>\n",
    "    <li>Leche</li>\n",
    "    <li>Huevos</li>\n",
    "</ul>"
   ]
  },
  {
   "cell_type": "markdown",
   "metadata": {},
   "source": [
    "### Selección del tipo de \"bullet\".\n",
    "\n",
    "El elemento &lt;ul&gt; cuenta con el atributo *type*, el cual permite selecciopnar las siguientes opciones.\n",
    "\n",
    "* *circle*.\n",
    "* *square*.\n",
    "* *disc*."
   ]
  },
  {
   "cell_type": "markdown",
   "metadata": {},
   "source": [
    "**Ejemplos:**"
   ]
  },
  {
   "cell_type": "markdown",
   "metadata": {},
   "source": [
    "*El código:*\n",
    "\n",
    "``` html\n",
    "<ul type=\"square\">\n",
    "    <li>Pan</li>\n",
    "    <li>Leche</li>\n",
    "    <li>Huevos</li>\n",
    "</ul>\n",
    "```"
   ]
  },
  {
   "cell_type": "markdown",
   "metadata": {},
   "source": [
    "* El resultado:*\n",
    "<ul type=\"square\">\n",
    "    <li>Pan</li>\n",
    "    <li>Leche</li>\n",
    "    <li>Huevos</li>\n",
    "</ul>"
   ]
  },
  {
   "cell_type": "markdown",
   "metadata": {},
   "source": [
    "*El código:*\n",
    "\n",
    "``` html\n",
    "<ul type=\"disc\">\n",
    "    <li>Pan</li>\n",
    "    <li>Leche</li>\n",
    "    <li>Huevos</li>\n",
    "</ul>\n",
    "```"
   ]
  },
  {
   "cell_type": "markdown",
   "metadata": {},
   "source": [
    "*El resultado:*\n",
    "<ul type=\"disc\">\n",
    "    <li>Pan</li>\n",
    "    <li>Leche</li>\n",
    "    <li>Huevos</li>\n",
    "</ul>"
   ]
  },
  {
   "cell_type": "markdown",
   "metadata": {},
   "source": [
    "*El código:*\n",
    "\n",
    "``` html\n",
    "<ul type=\"circle\">\n",
    "    <li>Pan</li>\n",
    "    <li>Leche</li>\n",
    "    <li>Huevos</li>\n",
    "</ul>\n",
    "```"
   ]
  },
  {
   "cell_type": "markdown",
   "metadata": {},
   "source": [
    "## Listas con ordenamiento con *&lt;ol&gt;*.\n",
    "\n",
    " El elemento *&lt;ol&gt;* permite crear listas que enumeren de forma sucesiva los elementos tipo *&lt;ol&gt;*."
   ]
  },
  {
   "cell_type": "markdown",
   "metadata": {},
   "source": []
  },
  {
   "cell_type": "code",
   "execution_count": null,
   "metadata": {},
   "outputs": [],
   "source": []
  },
  {
   "cell_type": "markdown",
   "metadata": {},
   "source": [
    "<ol>\n",
    "    <li>Pan</li>\n",
    "    <li>Leche</li>\n",
    "    <li>Huevos</li>\n",
    "</ul>"
   ]
  },
  {
   "cell_type": "code",
   "execution_count": null,
   "metadata": {},
   "outputs": [],
   "source": []
  },
  {
   "cell_type": "markdown",
   "metadata": {},
   "source": [
    "<ol>\n",
    "    <li>Pan</li>\n",
    "    <li>Leche</li>\n",
    "    <li>Huevos</li>\n",
    "</ol>"
   ]
  },
  {
   "cell_type": "markdown",
   "metadata": {},
   "source": [
    "## Listas de descripciones *&lt;dl&gt;*, *&lt;dt&gt;* y *&lt;dd&gt;*.\n",
    "\n",
    "<dl>\n",
    "<dt><dfn>icono</dfn></dt>\n",
    " <dt><dfn>ícono</dfn></dt>\n",
    " <dd>Imagen sagrada.<dd>\n",
    " <dd>Retrato pintado sobre una tabla de madera.</dd>\n",
    " <dd>Pequeña imagen que se despliega en una pantalla.</dd>\n",
    " <dt><dfn>botón</dfn></dt>\n",
    " <dd>Dispositivo que al ser oprimido desencadena una acción.</dd>\n",
    " <dt><dfn>puntero</dfn></dt>\n",
    " <dt><dfn>apuntador</dfn></dt>\n",
    " <dd>Imagen que se despliega en una pantalla y que se mueve en respuesta a la acción análoga de un dispositivo.</dd>    \n",
    "</dl>"
   ]
  },
  {
   "cell_type": "markdown",
   "metadata": {},
   "source": [
    "<p style=\"text-align: center\"><a rel=\"license\" href=\"http://creativecommons.org/licenses/by/4.0/\"><img alt=\"Licencia Creative Commons\" style=\"border-width:0\" src=\"https://i.creativecommons.org/l/by/4.0/80x15.png\" /></a><br />Esta obra está bajo una <a rel=\"license\" href=\"http://creativecommons.org/licenses/by/4.0/\">Licencia Creative Commons Atribución 4.0 Internacional</a>.</p>\n",
    "<p style=\"text-align: center\">&copy; José Luis Chiquete Valdivieso. 2018.</p>"
   ]
  }
 ],
 "metadata": {
  "kernelspec": {
   "display_name": "Python 3",
   "language": "python",
   "name": "python3"
  },
  "language_info": {
   "codemirror_mode": {
    "name": "ipython",
    "version": 3
   },
   "file_extension": ".py",
   "mimetype": "text/x-python",
   "name": "python",
   "nbconvert_exporter": "python",
   "pygments_lexer": "ipython3",
   "version": "3.6.5"
  }
 },
 "nbformat": 4,
 "nbformat_minor": 2
}
