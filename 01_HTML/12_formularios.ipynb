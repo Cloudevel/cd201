{
 "cells": [
  {
   "cell_type": "markdown",
   "metadata": {},
   "source": [
    "[![imagenes/cloudevel.png](imagenes/cloudevel.png)](https://cloudevel.com)"
   ]
  },
  {
   "cell_type": "markdown",
   "metadata": {},
   "source": [
    "# Formularios."
   ]
  },
  {
   "cell_type": "markdown",
   "metadata": {},
   "source": [
    "Los formularios son el recurso mas común en el que una página web puede recopilar, enviar o procesar información ingresada por el  usuario.\n",
    "\n",
    "El envío de una forma representa un evento que puede desencadenar una acción que por lo general implic:\n",
    "\n",
    "* Ejecutar un script utilizando los datos ingresados.\n",
    "* Enviar los datos a un servidor para que este los procese.\n",
    "\n",
    "Los formularios pueden contener una serie de elementos que deben de ser ingresados o seleccionados por el usuario."
   ]
  },
  {
   "cell_type": "markdown",
   "metadata": {},
   "source": [
    "## El elemento ```<form>```.\n",
    "\n",
    "Este elemento delimita y contiene a un formulario.\n",
    "\n",
    "```\n",
    "<form action=\"(acción)\" method=\"(método)\">\n",
    "...\n",
    "...\n",
    "</form>\n",
    "``` \n",
    "\n",
    "Los atributos de este elemento son:\n",
    "\n",
    "* ```action```, el cual puede contener una *URL* a la que la información sería enviada o el nombre de una función que sería ejecutada.\n",
    "* ```method```, el cual define el método *HTTP* que utilizará para el método *HTTP* que se utilizará para el envío de los datos. Las opciones son:\n",
    "    * ```GET```, en el que los datos enviados son parte de la *URL* mediante la sintaxis de parámetros.\n",
    "    * ```POST```, en el que los datos son enviados de forma \"encapsulada\" dentro de la petición al servidor.\n",
    "* ```name```, el cual le asigna un nomnbre a la forma.\n",
    "\n",
    "El método *HTTP* utilizado por defecto es ```GET```.\n",
    "\n",
    "En HTML5 no es obligatorio definir el atributo ```action```.\n",
    "\n",
    "**NOTA:** El modo en el que un servidor recibe y procesa los datos enviados por una forma está fuera del alcance de este curso, por lo que las formas vistas en este capítulo no tendrán acción alguna. Sin embargo, más adelante se explorará la interacción de las formas con los scripts de Javascript."
   ]
  },
  {
   "cell_type": "markdown",
   "metadata": {},
   "source": [
    "### Elementos aceptable dentro de ```<form>```.\n",
    "\n",
    "* El elemento ```<input>```.\n",
    "* El elemento ```<textarea>```.\n",
    "* El elemento ```<select>```."
   ]
  },
  {
   "cell_type": "markdown",
   "metadata": {},
   "source": [
    "## El elemento ```<input>```.\n",
    "Este elemento es el encargado de ofrecer al usuario del documento HTML una interfaz que le permita ingresar datos.\n",
    "\n",
    "```\n",
    "<input type=\"(tipo)\" value=\"(valor por defecto)\" name=\"(nombre)\">\n",
    "```\n",
    "\n",
    "Los atributos principales de los elementos input son:\n",
    "\n",
    "* ```type```, el cual idica el tipo de entrada que se utilizará.\n",
    "* ```name```, que corresponde al nombre del dato que se ingresa. Este atributo permite en viar un par nombre:valor que permite identificar a cada dato ingresado.\n",
    "* ```value```, indica el valor por defecto que tendrá el dato.\n",
    "\n",
    "El elemento ```<input>``` cuenta con muchos atributos que pueden ser requeridos o no, dependiendo del tipo seleccionado, los cuales pueden ser consultados en https://www.w3schools.com/tags/tag_input.asp"
   ]
  },
  {
   "cell_type": "markdown",
   "metadata": {},
   "source": [
    "### Tipos de botón para ```<input>```."
   ]
  },
  {
   "cell_type": "markdown",
   "metadata": {},
   "source": [
    "#### Botón de envío con ```type=\"submit\"```."
   ]
  },
  {
   "cell_type": "code",
   "execution_count": null,
   "metadata": {
    "scrolled": true
   },
   "outputs": [],
   "source": [
    "%%html\n",
    "<input type=\"submit\">"
   ]
  },
  {
   "cell_type": "markdown",
   "metadata": {},
   "source": [
    "#### Botón de restablecer con ```type=\"reset\"```."
   ]
  },
  {
   "cell_type": "code",
   "execution_count": null,
   "metadata": {
    "scrolled": true
   },
   "outputs": [],
   "source": [
    "%%html\n",
    "<input type=\"reset\">"
   ]
  },
  {
   "cell_type": "markdown",
   "metadata": {},
   "source": [
    "#### Botón de imagen con ```type=\"image\"```.\n",
    "\n",
    "Este tipo de botón permite definir una imagen mediante el atributo ```src```. "
   ]
  },
  {
   "cell_type": "code",
   "execution_count": null,
   "metadata": {},
   "outputs": [],
   "source": [
    "%%html\n",
    "<input type=\"image\" src=\"ejemplos/boton_continuar.png\" width=\"80\">"
   ]
  },
  {
   "cell_type": "markdown",
   "metadata": {},
   "source": [
    "#### Botón genérico con ```type=\"button\"```."
   ]
  },
  {
   "cell_type": "code",
   "execution_count": null,
   "metadata": {},
   "outputs": [],
   "source": [
    "%%html\n",
    "<input type=\"button\" value=\"De acuerdo\">"
   ]
  },
  {
   "cell_type": "markdown",
   "metadata": {},
   "source": [
    "### Tipos de entrada de texto para ```<input>```.\n",
    "\n",
    "Las entradas de texto permiten definir e tipo de texto que se ingresará. De este modo se facilita validar los datos que se ingresan dependiendo del tipo."
   ]
  },
  {
   "cell_type": "markdown",
   "metadata": {},
   "source": [
    "#### Texto normal con ```type=\"text\"```."
   ]
  },
  {
   "cell_type": "code",
   "execution_count": null,
   "metadata": {
    "scrolled": false
   },
   "outputs": [],
   "source": [
    "%%html\n",
    "<input type=\"text\">"
   ]
  },
  {
   "cell_type": "markdown",
   "metadata": {},
   "source": [
    "#### Correo electrónico con ```type=\"email\"```."
   ]
  },
  {
   "cell_type": "code",
   "execution_count": null,
   "metadata": {
    "scrolled": true
   },
   "outputs": [],
   "source": [
    "%%html\n",
    "<input type=\"email\">"
   ]
  },
  {
   "cell_type": "markdown",
   "metadata": {},
   "source": [
    "#### Contraseñas con ```type=\"password\"```."
   ]
  },
  {
   "cell_type": "code",
   "execution_count": null,
   "metadata": {
    "scrolled": true
   },
   "outputs": [],
   "source": [
    "%%html\n",
    "<input type=\"password\">"
   ]
  },
  {
   "cell_type": "markdown",
   "metadata": {},
   "source": [
    "#### Búsquedas con ```type=\"search\"```."
   ]
  },
  {
   "cell_type": "code",
   "execution_count": null,
   "metadata": {
    "scrolled": false
   },
   "outputs": [],
   "source": [
    "%%html\n",
    "<input type=\"search\">"
   ]
  },
  {
   "cell_type": "markdown",
   "metadata": {},
   "source": [
    "#### *URL*s con ```type=\"url\"```."
   ]
  },
  {
   "cell_type": "code",
   "execution_count": null,
   "metadata": {
    "scrolled": false
   },
   "outputs": [],
   "source": [
    "%%html\n",
    "<input type=\"url\">"
   ]
  },
  {
   "cell_type": "markdown",
   "metadata": {},
   "source": [
    "#### Teléfonos con ```type=\"tel\"```."
   ]
  },
  {
   "cell_type": "code",
   "execution_count": null,
   "metadata": {
    "scrolled": true
   },
   "outputs": [],
   "source": [
    "%%html\n",
    "<input type=\"tel\">"
   ]
  },
  {
   "cell_type": "markdown",
   "metadata": {},
   "source": [
    "### Entradas numéricas:\n",
    "\n",
    "Las entradas numéricas cuentan con los atributos:\n",
    "\n",
    "* ```min``` para definir el valor mínimo cuyo valor por defecto es ```0```.\n",
    "* ```max``` para definor el valor máximo, cuyo valor por deceto es ```100```. "
   ]
  },
  {
   "cell_type": "markdown",
   "metadata": {},
   "source": [
    "#### Ingreso de un número com ```type=\"number\"```."
   ]
  },
  {
   "cell_type": "code",
   "execution_count": null,
   "metadata": {
    "scrolled": true
   },
   "outputs": [],
   "source": [
    "%%html\n",
    "<input type=\"number\" min=\"-12\" max=\"12\" value='0'>"
   ]
  },
  {
   "cell_type": "markdown",
   "metadata": {},
   "source": [
    "#### Ingreso de un rango numérico con ```type=\"range\"```.\n",
    "\n",
    "Este tipo despliega una barra horizontal que representa un rango.\n",
    "\n",
    "El atributo ```step``` define los intervalos del rango."
   ]
  },
  {
   "cell_type": "code",
   "execution_count": null,
   "metadata": {
    "scrolled": false
   },
   "outputs": [],
   "source": [
    "%%html\n",
    "<input type=\"range\" min=\"5\" max=\"20\" step=\"5\" value=\"12.5\">"
   ]
  },
  {
   "cell_type": "markdown",
   "metadata": {},
   "source": [
    "### Tipo de seleccion de color para el elemento ```<input>```.\n",
    "#### Plantilla de color con ```type=\"color\"```\n",
    "\n",
    "Este tipo depliega una plantoilla selectora de color."
   ]
  },
  {
   "cell_type": "code",
   "execution_count": null,
   "metadata": {},
   "outputs": [],
   "source": [
    "%%html\n",
    "<input type=\"color\" name=\"color\">"
   ]
  },
  {
   "cell_type": "markdown",
   "metadata": {},
   "source": [
    "### Tipos de entradas de selección para el elemento ```<input>```."
   ]
  },
  {
   "cell_type": "markdown",
   "metadata": {},
   "source": [
    "####  Tipo ```checkbox```.\n",
    "\n",
    "Me permite seleccionar una o mas opciones."
   ]
  },
  {
   "cell_type": "code",
   "execution_count": null,
   "metadata": {},
   "outputs": [],
   "source": [
    "%%html\n",
    "<label for=\"café\">Café</label>\n",
    "<input type=\"checkbox\" name=\"bebida\" value=\"café\">\n",
    "<label for=\"té\">Té</label>\n",
    "<input type=\"checkbox\" name=\"bebida\" value=\"té\">\n",
    "<label for=\"jugo\">Jugo</label>\n",
    "<input type=\"checkbox\" name=\"bebida\" value=\"jugo\">"
   ]
  },
  {
   "cell_type": "markdown",
   "metadata": {},
   "source": [
    "#### Tipo ```radio```.\n",
    "\n",
    "Permite escoger solo una opción."
   ]
  },
  {
   "cell_type": "code",
   "execution_count": null,
   "metadata": {},
   "outputs": [],
   "source": [
    "%%html\n",
    "<label for=\"café\">Café</label>\n",
    "<input type=\"radio\" name=\"bebida\" value=\"café\">\n",
    "<label for=\"té\">Té</label>\n",
    "<input type=\"radio\" name=\"bebida\" value=\"té\">\n",
    "<label for=\"jugo\">Jugo</label>\n",
    "<input type=\"radio\" name=\"bebida\" value=\"jugo\">"
   ]
  },
  {
   "cell_type": "markdown",
   "metadata": {},
   "source": [
    "### Entradas de tiempo:\n",
    "* ```time```\n",
    "* ```date```\n",
    "* ```datetime-local```\n",
    "* ```week```\n",
    "* ```month```"
   ]
  },
  {
   "cell_type": "markdown",
   "metadata": {},
   "source": [
    "### Entradas de archivos:\n",
    "* ```file```"
   ]
  },
  {
   "cell_type": "code",
   "execution_count": null,
   "metadata": {},
   "outputs": [],
   "source": [
    "%%html\n",
    "<input type=\"file\" name=\"archivo\" > "
   ]
  },
  {
   "cell_type": "markdown",
   "metadata": {},
   "source": [
    "### Entrada escondida:\n",
    "* ```hidden```"
   ]
  },
  {
   "cell_type": "code",
   "execution_count": null,
   "metadata": {},
   "outputs": [],
   "source": [
    "%%html\n",
    "<input type=\"hidden\" name=\"token\" value=\"42342342342\"> "
   ]
  },
  {
   "cell_type": "markdown",
   "metadata": {},
   "source": [
    "### Elementos ```<input>```con el atributo ```list```.\n",
    "\n",
    "El atributo ```list``` indica que se creará una lista desplegable.\n",
    "\n",
    "Utliza los elementos:\n",
    "\n",
    "* ```<datalist>```, el cual es el contendor de la lista.\n",
    "* ```<option>```. los cuales corresponden a cada valor de la lista. El valor se define con el atributo ```value```."
   ]
  },
  {
   "cell_type": "code",
   "execution_count": null,
   "metadata": {},
   "outputs": [],
   "source": [
    "%%html\n",
    "<input list=\"sobrinos\">\n",
    "    <datalist id=\"sobrinos\">\n",
    "        <option value=\"Hugo\">\n",
    "        <option value=\"Paco\">\n",
    "        <option value=\"Luis\">\n",
    "    </datalist>\n",
    "</input>"
   ]
  },
  {
   "cell_type": "markdown",
   "metadata": {},
   "source": [
    "## El elemento ```<textarea>```."
   ]
  },
  {
   "cell_type": "code",
   "execution_count": null,
   "metadata": {},
   "outputs": [],
   "source": [
    "%%html\n",
    "<textarea name=\"texto\">"
   ]
  },
  {
   "cell_type": "markdown",
   "metadata": {},
   "source": [
    "## Menús desplegables con ```<select>``` y ```<option>``` .\n",
    "\n",
    "### El elemento ```<select>```.\n",
    "Este elemento puede contener uno o más elementos ```<option>``` y cuentan con el atributo ```name```.\n",
    "\n",
    "### Otra forma del  elemento ```<option>```.\n",
    "Este elemento representa una opción y cuenta con el atributo ```value```.\n",
    "\n",
    "Estos elemento permiten desplegar un menu de opciones. El atributo ```value``` del elemento  ```<option>``` será asociado con el atributo  ```name``` del elemento ```<select>```."
   ]
  },
  {
   "cell_type": "code",
   "execution_count": null,
   "metadata": {},
   "outputs": [],
   "source": [
    "%%html\n",
    "<select name=\"seleccion\">\n",
    "    <option value=\"1\">Hugo</option>\n",
    "    <option value=\"2\">Paco</option>\n",
    "    <option value=\"3\">Luis</option>\n",
    "</select>"
   ]
  },
  {
   "cell_type": "markdown",
   "metadata": {},
   "source": [
    "## Documentos de ejemplo:"
   ]
  },
  {
   "cell_type": "markdown",
   "metadata": {},
   "source": [
    "El documento [ejemplos/forma_texto.html](ejemplos/forma_texto.html) contiene una forma con entradas de texto.\n",
    "\n",
    "``` html\n",
    "<!DOCTYPE html>\n",
    "<html>\n",
    "    <head>\n",
    "        <title>formas con formato de texto</title>\n",
    "        <meta charset=\"UTF-8\">\n",
    "    </head>\n",
    "    <body>\n",
    "        <h1>Ejemplo de entradas de texto.</h1>\n",
    "        <p>Se seleccionará una fecha y/o hora a partir de opciones de calendario.</p>\n",
    "        <form>\n",
    "            <h2>Tipo \"text\".</h2>\n",
    "            <p>\n",
    "                Ingrese un texto. <br>\n",
    "                <input type=\"texto\" name=\"texto\" value=\"texto\">\n",
    "            </p>\n",
    "            <h2>Tipo \"password\".</h2>\n",
    "            <p>\n",
    "                Ingrese una contraseña de hasta 8 caracteres.<br>\n",
    "                <input type=\"password\" name=\"contraseña\" maxlength=\"8\">\n",
    "            </p>\n",
    "            <h2>Tipo \"email\".</h2>\n",
    "            <p>\n",
    "                Ingrese un correo electrónico.<br>\n",
    "                <input type=\"email\" name=\"correo\" value=\"Ingrese un correo válido\">\n",
    "            </p>\n",
    "            <h2>Tipo \"search\".</h2>\n",
    "            <p>\n",
    "                Ingrese el texto de búsqueda.<br>\n",
    "                <input type=\"búsqueda\" name=\"búsqueda\">\n",
    "            </p>\n",
    "            <h2>Tipo \"url\".</h2>\n",
    "            <input type=\"url\" name=\"URL\" value=\"https://pythonista.io\">\n",
    "            <input type=\"submit\">\n",
    "            <input type=\"reset\">\n",
    "        </form>\n",
    "    </body>\n",
    "</html>\n",
    "```"
   ]
  },
  {
   "cell_type": "markdown",
   "metadata": {},
   "source": [
    "El documento [ejemplos/forma_numero.html](ejemplos/forma_numero.html) contiene una forma con entradas numéricas. \n",
    "``` html\n",
    "<!DOCTYPE html>\n",
    "<html>\n",
    "    <head>\n",
    "        <title>formas con formato numérico</title>\n",
    "        <meta charset=\"UTF-8\">\n",
    "    </head>\n",
    "    <body>\n",
    "    <h1>Ejemplo de entradas con formato numérico.</h1>\n",
    "    <p>Se seleccionará una fecha y/o hora a partir de opciones de calendario.</p>\n",
    "    <form>\n",
    "        <h2>Tipo \"number\".</h2>\n",
    "        <p>Se debe ingresar un número dentro del rango definido por los atributos min y max en caso de que se definan.</p>\n",
    "        <p>\n",
    "            Ingresa un número del 0 al 10.<br>\n",
    "            <input type=\"number\" min=\"0\" max=\"10\" value=\"5\">\n",
    "        </p>\n",
    "        <h2>Tipo \"number\".</h2>\n",
    "        <p>Se debe seleccionar un número dentro del rango definido por los atributos min y max y en su caso en los intervalos definidos por step.</p>\n",
    "        <p>\n",
    "            Ingresa un número del 0 al 10.<br>\n",
    "            <input type=\"range\" min=\"0\" max=\"30\" step=\"2\"value=\"16\">\n",
    "        </p>\n",
    "        <input type=\"submit\">\n",
    "        <input type=\"reset\"></form>\n",
    "    </body>\n",
    "</html>\n",
    "```"
   ]
  },
  {
   "cell_type": "markdown",
   "metadata": {},
   "source": [
    "El documento [ejemplos/forma_especiales.html](ejemplos/forma_especiales.html) contiene una forma con entradas numéricas.\n",
    "\n",
    "``` html\n",
    "<!DOCTYPE html>\n",
    "<html>\n",
    "    <head>\n",
    "        <title>formas especiales</title>\n",
    "        <meta charset=\"UTF-8\">\n",
    "    </head>\n",
    "    <body>\n",
    "        <h1>Ejemplos de tipos especiales.</h1>\n",
    "        <form>\n",
    "            <h2>Ejemplo de selección de un color.</h2>\n",
    "            <p>\n",
    "                Seleccione un color a partir de la paleta de colores.<br>\n",
    "                <input type=\"color\" name=\"color\">\n",
    "            </p>\n",
    "            <h2>Ejemplo de la subida de un archivo</h2>\n",
    "            <p>\n",
    "                Añada un archivo:<br>\n",
    "                <input type=\"file\" name=\"archivo\">\n",
    "            </p>\n",
    "            <h2>Inserción de información que no requiere ser ingresada por el usuario.</h2>\n",
    "            <p>\n",
    "                A continuación se añadirá la información name=\"version\" y value=\"3.4\". El usuario no necesita capturarla ni verla.\n",
    "                <input type=\"hidden\" name=\"version\" value=\"3.4\">\n",
    "            </p>\n",
    "            <input type=\"image\" src=\"boton_continuar.png\" width=\"100\">\n",
    "        </form>\n",
    "    </body>\n",
    "</html>\n",
    "```"
   ]
  },
  {
   "cell_type": "markdown",
   "metadata": {},
   "source": [
    "El documento [ejemplos/forma_fecha.html](ejemplos/forma_fecha.html) contiene una forma con entradas de fecha.\n",
    "\n",
    "``` html\n",
    "<!DOCTYPE html>\n",
    "<html>\n",
    "    <head>\n",
    "    <title>formas con formato de fecha y tiempo</title>\n",
    "    <meta charset=\"UTF-8\">\n",
    "    </head>\n",
    "    <body>\n",
    "        <h1>Ejemplo de entradas de fecha.</h1>\n",
    "        <p>Se seleccionará una fecha y/o hora a partir de opciones de calendario.</p>\n",
    "        <form>\n",
    "            <h2>Tipo \"date\".</h2>\n",
    "            <input type=\"date\" name=\"fecha1\">\n",
    "            <h2>Tipo \"datetime-local\".</h2>\n",
    "            <input type=\"datetime-local\" name=\"fecha2\">\n",
    "            <h2>Tipo \"month\".</h2>\n",
    "            <input type=\"month\" name=\"fecha3\">\n",
    "            <h2>Tipo \"time\".</h2>\n",
    "            <input type=\"time\" name=\"fecha4\">\n",
    "            <h2>Tipo \"week\".</h2>\n",
    "            <input type=\"week\" name=\"fecha5\">\n",
    "            <p/>\n",
    "            <input type=\"submit\">\n",
    "            <input type=\"reset\">\n",
    "        </form>\n",
    "    </body>\n",
    "</html>\n",
    "\n",
    "```"
   ]
  },
  {
   "cell_type": "markdown",
   "metadata": {},
   "source": [
    "El documento [ejemplos/forma_selecciones.html](ejemplos/forma_selecciones.html) contiene una forma con entradas seleccionables.\n",
    "\n",
    "``` html\n",
    "<!DOCTYPE html>\n",
    "<html> \n",
    "    <head>\n",
    "        <title>Formas con opciones múltiples.</title>\n",
    "        <meta charset=\"UTF-8\">\n",
    "    </head>\n",
    "    <body>\n",
    "        <h2>Ejemplo de la entradas con múltiples opciones.</h2>\n",
    "        <p>Se seleccionará una opción a partir de la selección de la(s) cajita(s) al lado del texto.</p>\n",
    "        <form>\n",
    "            <p>\n",
    "                Seleccione una o más de las opciones siguientes:<br>\n",
    "                <input type=\"checkbox\" name=\"prenda\" value=\"camisa\"> Camisa<br>\n",
    "                <input type=\"checkbox\" name=\"prenda\" value=\"playera\"> Playera<br>\n",
    "                <input type=\"checkbox\" name=\"interior\" value=\"camiseta\" checked=\"False\">Camiseta<br>\n",
    "            </p>\n",
    "            <h2>Ejemplo de entradas con el tipo radio.</h2>\n",
    "            <p>Seleccione una opcion por cada enunciado:</p>\n",
    "            <p>\n",
    "                Género.<br>\n",
    "                <input type=\"radio\" name=\"genero\" value=\"M\" checked=\"checked\">Masculino<br>\n",
    "                <input type=\"radio\" name=\"genero\" value=\"F\">Femenino\n",
    "            </p>\n",
    "            <p>\n",
    "                Nacionalidad.<br>\n",
    "                <input type=\"radio\" name=\"origen\" value=\"N\">Nacional<br>\n",
    "                <input type=\"radio\" name=\"origen\" value=\"E\">Extranjero\n",
    "            </p>\n",
    "            <h2>Ejemplo de menu desplegable.</h2>\n",
    "            <p>\n",
    "                Puesto.<br>\n",
    "                <select name=\"puesto\">\n",
    "                    <option value=\"socio\">Socio</option>\n",
    "                    <option value=\"consejo\">Miembro del Consejo</option>\n",
    "                    <option value=\"director\">Director</option>\n",
    "                    <option value=\"area\">Jefe de área</option>\n",
    "                </select>\n",
    "            </p>    \n",
    "            <input type=\"submit\">\n",
    "            <input type=\"reset\">\n",
    "        </form>\n",
    "    </body>\n",
    "</html>\n",
    "```"
   ]
  },
  {
   "cell_type": "markdown",
   "metadata": {},
   "source": [
    "<p style=\"text-align: center\"><a rel=\"license\" href=\"http://creativecommons.org/licenses/by/4.0/\"><img alt=\"Licencia Creative Commons\" style=\"border-width:0\" src=\"https://i.creativecommons.org/l/by/4.0/80x15.png\" /></a><br />Esta obra está bajo una <a rel=\"license\" href=\"http://creativecommons.org/licenses/by/4.0/\">Licencia Creative Commons Atribución 4.0 Internacional</a>.</p>\n",
    "<p style=\"text-align: center\">&copy; José Luis Chiquete Valdivieso. 2019.</p>"
   ]
  }
 ],
 "metadata": {
  "kernelspec": {
   "display_name": "Python 3",
   "language": "python",
   "name": "python3"
  },
  "language_info": {
   "codemirror_mode": {
    "name": "ipython",
    "version": 3
   },
   "file_extension": ".py",
   "mimetype": "text/x-python",
   "name": "python",
   "nbconvert_exporter": "python",
   "pygments_lexer": "ipython3",
   "version": "3.6.9"
  }
 },
 "nbformat": 4,
 "nbformat_minor": 2
}
