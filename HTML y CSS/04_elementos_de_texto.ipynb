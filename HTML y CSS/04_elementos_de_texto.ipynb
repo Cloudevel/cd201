{
 "cells": [
  {
   "cell_type": "markdown",
   "metadata": {},
   "source": [
    "[![imagenes/pythonista.png](imagenes/pythonista.png)](https://pythonista.io)"
   ]
  },
  {
   "cell_type": "code",
   "execution_count": null,
   "metadata": {},
   "outputs": [],
   "source": []
  },
  {
   "cell_type": "markdown",
   "metadata": {},
   "source": [
    "## Párrafos con *&lt;p&gt;*.\n",
    "\n",
    "``` html\n",
    "<p>Párrafo 1</p>\n",
    "<p>Párrafo 2</p>\n",
    "<p>Párrafo 3</p>\n",
    "```"
   ]
  },
  {
   "cell_type": "markdown",
   "metadata": {},
   "source": [
    "<p>Párrafo 1</p>\n",
    "<p>Párrafo 2</p>\n",
    "<p>Párrafo 3</p>"
   ]
  },
  {
   "cell_type": "markdown",
   "metadata": {},
   "source": [
    "## Encabezados.\n",
    "\n",
    "``` html\n",
    "<h1>Encabezado 1</h1>\n",
    "<h2>Encabezado 2</h2>\n",
    "<h3>Encabezado 3</h3>\n",
    "<h4>Encabezado 3</h4>\n",
    "```"
   ]
  },
  {
   "cell_type": "markdown",
   "metadata": {},
   "source": [
    "<h1>Encabezado 1</h1>\n",
    "<h2>Encabezado 2</h2>\n",
    "<h3>Encabezado 3</h3>\n",
    "<h4>Encabezado 3</h4>"
   ]
  },
  {
   "cell_type": "markdown",
   "metadata": {},
   "source": [
    "## Contenido dentro de líneas (inline)."
   ]
  },
  {
   "cell_type": "markdown",
   "metadata": {},
   "source": [
    "### Retorno de línea *&lt;br/&gt;*.\n",
    "\n",
    "``` html\n",
    "<h4>Encabezado <br/> con retorno de línea.</h4>\n",
    "```"
   ]
  },
  {
   "cell_type": "markdown",
   "metadata": {},
   "source": [
    "<h4>Encabezado <br/> con retorno de línea.</h4>"
   ]
  },
  {
   "cell_type": "markdown",
   "metadata": {},
   "source": [
    "### Itálicas con *&lt;i&gt;*  y énfasis con *&lt;em&gt;* ."
   ]
  },
  {
   "cell_type": "markdown",
   "metadata": {},
   "source": [
    "``` html\n",
    "<p>En este caso <i>itálica</i> es el estilo y <em>énfasis</em> el efecto.</p>\n",
    "```"
   ]
  },
  {
   "cell_type": "markdown",
   "metadata": {},
   "source": [
    "<p>En este caso <i>itálicas</i> es el estilo y <em>énfasis</em> el efecto.</p>"
   ]
  },
  {
   "cell_type": "markdown",
   "metadata": {},
   "source": [
    "### Bold con con *&lt;b&gt;*  y fuerte con *&lt;strong&gt;* ."
   ]
  },
  {
   "cell_type": "markdown",
   "metadata": {},
   "source": [
    "``` html\n",
    "<p>En este caso  <b>bold</b> es el estilo y <strong>fuerte</strong> el efecto.</p>\n",
    "```"
   ]
  },
  {
   "cell_type": "markdown",
   "metadata": {},
   "source": [
    "<p>En este caso  <b>bold</b> es el estilo y <strong>fuerte</strong> el efecto.</p>"
   ]
  },
  {
   "cell_type": "markdown",
   "metadata": {},
   "source": [
    "### Superíndice &lt;sup&gt; y subíndice &lt;sub&gt;."
   ]
  },
  {
   "cell_type": "markdown",
   "metadata": {},
   "source": [
    "### Abreviaturas con &lt;abbr&gt;.\n",
    "\n",
    "```html\n",
    "<p>El <abbr title=\"World Wide Web Consortium\">W3C</abbr> emite el estándar de HTML.</p>\n",
    "```"
   ]
  },
  {
   "cell_type": "markdown",
   "metadata": {},
   "source": [
    "<p>El <abbr title=\"World Wide Web Consortium\">W3C</abbr> emite el estándar de HTML.</p>"
   ]
  },
  {
   "cell_type": "markdown",
   "metadata": {},
   "source": [
    "### Citas con &lt;q&gt; y &lt;cite&gt;.\n",
    "\n",
    "```html\n",
    "<p>La canción <cite>El Rey</cite> decía: <q>Pero sigo siendo el Rey...</q>.</p>\n",
    "```"
   ]
  },
  {
   "cell_type": "markdown",
   "metadata": {},
   "source": [
    "\n",
    "<p>La canción <cite>El Rey</cite> decía: <q>Pero sigo siendo el Rey...</q>.</p>"
   ]
  },
  {
   "cell_type": "markdown",
   "metadata": {},
   "source": [
    "dfn\n",
    "small\n",
    "\n",
    "code\n",
    "kbd\n",
    "samp\n",
    "var\n",
    "\n",
    "data\n",
    "time\n",
    "\n",
    "del\n",
    "s\n",
    "ins\n",
    "u\n",
    "mark"
   ]
  },
  {
   "cell_type": "markdown",
   "metadata": {},
   "source": [
    "<p>En este párrafo <mark>esta parte</mark> es la importante.</p>"
   ]
  },
  {
   "cell_type": "markdown",
   "metadata": {},
   "source": [
    "address \n",
    "details summary **IE no soportado**\n",
    "blockquote\n",
    "dl dd y dt\n",
    "pre\n",
    "hr"
   ]
  },
  {
   "cell_type": "markdown",
   "metadata": {},
   "source": [
    "<blockquote>\n",
    " <p>\"Yo nunca dije eso.\"</p>\n",
    " <p><b>Albert Einstein.</b></p>\n",
    "</blockquote>"
   ]
  },
  {
   "cell_type": "markdown",
   "metadata": {},
   "source": [
    "<p style=\"text-align: center\"><a rel=\"license\" href=\"http://creativecommons.org/licenses/by/4.0/\"><img alt=\"Licencia Creative Commons\" style=\"border-width:0\" src=\"https://i.creativecommons.org/l/by/4.0/80x15.png\" /></a><br />Esta obra está bajo una <a rel=\"license\" href=\"http://creativecommons.org/licenses/by/4.0/\">Licencia Creative Commons Atribución 4.0 Internacional</a>.</p>\n",
    "<p style=\"text-align: center\">&copy; José Luis Chiquete Valdivieso. 2018.</p>"
   ]
  }
 ],
 "metadata": {
  "kernelspec": {
   "display_name": "Python 3",
   "language": "python",
   "name": "python3"
  },
  "language_info": {
   "codemirror_mode": {
    "name": "ipython",
    "version": 3
   },
   "file_extension": ".py",
   "mimetype": "text/x-python",
   "name": "python",
   "nbconvert_exporter": "python",
   "pygments_lexer": "ipython3",
   "version": "3.6.5"
  }
 },
 "nbformat": 4,
 "nbformat_minor": 2
}
