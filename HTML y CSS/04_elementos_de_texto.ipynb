{
 "cells": [
  {
   "cell_type": "markdown",
   "metadata": {},
   "source": [
    "[![imagenes/pythonista.png](imagenes/pythonista.png)](https://pythonista.io)"
   ]
  },
  {
   "cell_type": "markdown",
   "metadata": {},
   "source": [
    "Existen múltiples elementos dedicados a mostrar contenidos de texto de distintas formas incluyendo estilos y datos adicionales."
   ]
  },
  {
   "cell_type": "markdown",
   "metadata": {},
   "source": [
    "## Codificación y códigos."
   ]
  },
  {
   "cell_type": "markdown",
   "metadata": {},
   "source": [
    "https://www.ascii.cl/htmlcodes.htm"
   ]
  },
  {
   "cell_type": "markdown",
   "metadata": {},
   "source": [
    "## Elementos de bloque (block) y dentro de línea (inline).\n",
    "\n",
    "En general, HTML permite utilizar elementos que, dependiendo de su extensión y aplicación pueden afectar elementos dentro de una línea (inline) o que pueden comprender al menos una línea completa considerándose como un bloque de contenido (block). "
   ]
  },
  {
   "cell_type": "markdown",
   "metadata": {},
   "source": [
    "## Elementos de texto de bloque."
   ]
  },
  {
   "cell_type": "markdown",
   "metadata": {},
   "source": [
    "### Párrafos con *&lt;p&gt;*."
   ]
  },
  {
   "cell_type": "markdown",
   "metadata": {},
   "source": [
    "**Ejemplo:**"
   ]
  },
  {
   "cell_type": "markdown",
   "metadata": {},
   "source": [
    "``` html\n",
    "<p>Párrafo 1</p>\n",
    "<p>Párrafo 2</p>\n",
    "<p>Párrafo 3</p>\n",
    "```"
   ]
  },
  {
   "cell_type": "markdown",
   "metadata": {},
   "source": [
    "<p>Párrafo 1</p>\n",
    "<p>Párrafo 2</p>\n",
    "<p>Párrafo 3</p>"
   ]
  },
  {
   "cell_type": "markdown",
   "metadata": {},
   "source": [
    "### Encabezados con *&lt;h1&gt;* - *&lt;h6&gt;*.\n"
   ]
  },
  {
   "cell_type": "markdown",
   "metadata": {},
   "source": [
    "**Ejemplo:**"
   ]
  },
  {
   "cell_type": "markdown",
   "metadata": {},
   "source": [
    "``` html\n",
    "<h1>Encabezado 1</h1>\n",
    "<h2>Encabezado 2</h2>\n",
    "<h3>Encabezado 3</h3>\n",
    "<h4>Encabezado 4</h4>\n",
    "<h5>Encabezado 5</h5>\n",
    "<h6>Encabezado 6</h6>\n",
    "```"
   ]
  },
  {
   "cell_type": "markdown",
   "metadata": {},
   "source": [
    "<h1>Encabezado 1</h1>\n",
    "<h2>Encabezado 2</h2>\n",
    "<h3>Encabezado 3</h3>\n",
    "<h4>Encabezado 4</h4>\n",
    "<h5>Encabezado 5</h5>\n",
    "<h6>Encabezado 6</h6>"
   ]
  },
  {
   "cell_type": "markdown",
   "metadata": {},
   "source": [
    "### Citas de texto completas con *&lt;blockquote&gt;*."
   ]
  },
  {
   "cell_type": "markdown",
   "metadata": {},
   "source": [
    "**Ejemplo:**"
   ]
  },
  {
   "cell_type": "markdown",
   "metadata": {},
   "source": [
    "``` html\n",
    "<blockquote>\n",
    " <p>\"Yo nunca dije eso.\"</p>\n",
    " <p><b>Albert Einstein.</b></p>\n",
    "</blockquote>\n",
    "```"
   ]
  },
  {
   "cell_type": "markdown",
   "metadata": {},
   "source": [
    "<blockquote>\n",
    " <p>\"Yo nunca dije eso.\"</p>\n",
    " <p><b>Albert Einstein.</b></p>\n",
    "</blockquote>"
   ]
  },
  {
   "cell_type": "markdown",
   "metadata": {},
   "source": [
    "### Bloques de texto con espaciados y retornos predefinidos con *&lt;pre&gt;*. "
   ]
  },
  {
   "cell_type": "markdown",
   "metadata": {},
   "source": [
    "**Ejemplo:**"
   ]
  },
  {
   "cell_type": "markdown",
   "metadata": {},
   "source": [
    "``` html\n",
    "<pre>\n",
    "for i in range(1,2):\n",
    "    print(i)\n",
    "</pre>\n",
    "```"
   ]
  },
  {
   "cell_type": "markdown",
   "metadata": {},
   "source": [
    "<pre>\n",
    "for i in range(1,2):\n",
    "    print(i)\n",
    "</pre>"
   ]
  },
  {
   "cell_type": "markdown",
   "metadata": {},
   "source": [
    "### Direcciones con *&lt;address&gt;*."
   ]
  },
  {
   "cell_type": "markdown",
   "metadata": {},
   "source": [
    "``` html\n",
    "<address>\n",
    "    <p>742 Avenida, Siempreviva, Springfield, EEUU.</p>\n",
    "    <p> 1 -555-555-5000</p>\n",
    "</address>\n",
    "```"
   ]
  },
  {
   "cell_type": "markdown",
   "metadata": {},
   "source": [
    "<address>\n",
    "    <p>742 Avenida, Siempreviva, Springfield, EEUU.</p>\n",
    "    <p> 1 -555-555-5000</p>\n",
    "</address>"
   ]
  },
  {
   "cell_type": "markdown",
   "metadata": {},
   "source": [
    "### Descripción de términos con *&lt;dd&gt;* y  *&lt;dt&gt;*."
   ]
  },
  {
   "cell_type": "markdown",
   "metadata": {},
   "source": [
    "**Ejemplo:**"
   ]
  },
  {
   "cell_type": "markdown",
   "metadata": {},
   "source": [
    "``` html\n",
    "<dt>HTML5<dt>\n",
    "<dd>La especificación más reciente de W3C para creación de documentos HTML.<dd>\n",
    "```"
   ]
  },
  {
   "cell_type": "markdown",
   "metadata": {},
   "source": [
    "<dt>HTML5:<dt>\n",
    "<dd>La especificación más reciente de W3C para creación de documentos HTML.<dd>"
   ]
  },
  {
   "cell_type": "markdown",
   "metadata": {},
   "source": [
    "### Detalles extendidos con *&lt;details&gt;* y  *&lt;summary&gt;*.\n",
    "\n",
    "**ADVERTENCIA:** Este elemento no está soportado por IE."
   ]
  },
  {
   "cell_type": "markdown",
   "metadata": {},
   "source": [
    "**Ejemplo:**"
   ]
  },
  {
   "cell_type": "markdown",
   "metadata": {},
   "source": [
    "``` html\n",
    "<details>\n",
    "<summary>HTML5 + CSS3 + Javascript desde cero.</summary>\n",
    "<p>Taller en línea enfocado a sentar las bases de desarrollo de aplicaciones \n",
    "básicas en el navegador utilizando HTML5, CSS3 y Javascript.<p>\n",
    "</details>\n",
    "```"
   ]
  },
  {
   "cell_type": "markdown",
   "metadata": {},
   "source": [
    "<details>\n",
    "<summary>HTML5 + CSS3 + Javascript desde cero.</summary>\n",
    "<p>Taller en línea enfocado a sentar las bases de desarrollo de aplicaciones \n",
    "básicas en el navegador utilizando HTML5, CSS3 y Javascript.<p>\n",
    "</details>"
   ]
  },
  {
   "cell_type": "markdown",
   "metadata": {},
   "source": [
    "### Delimitador temático con *&lt;hr&gt;*."
   ]
  },
  {
   "cell_type": "markdown",
   "metadata": {},
   "source": [
    "**Ejemplo:**"
   ]
  },
  {
   "cell_type": "markdown",
   "metadata": {},
   "source": [
    "``` html\n",
    "<p>Este es un tema.</p>\n",
    "<hr/>\n",
    "<p> Este es otro tema.</p>\n",
    "```"
   ]
  },
  {
   "cell_type": "markdown",
   "metadata": {},
   "source": [
    "<p>Este es un tema.</p>\n",
    "<hr/>\n",
    "<p> Este es otro tema.</p>"
   ]
  },
  {
   "cell_type": "markdown",
   "metadata": {},
   "source": [
    "## Contenido dentro de líneas (inline)."
   ]
  },
  {
   "cell_type": "markdown",
   "metadata": {},
   "source": [
    "### Retorno de línea *&lt;br/&gt;*."
   ]
  },
  {
   "cell_type": "markdown",
   "metadata": {},
   "source": [
    "**Ejemplo:**"
   ]
  },
  {
   "cell_type": "markdown",
   "metadata": {},
   "source": [
    "``` html\n",
    "<p>Encabezado <br/> con retorno de línea.</p>\n",
    "```"
   ]
  },
  {
   "cell_type": "markdown",
   "metadata": {},
   "source": [
    "<p>Encabezado <br/> con retorno de línea.</p>"
   ]
  },
  {
   "cell_type": "markdown",
   "metadata": {},
   "source": [
    "### Itálicas con *&lt;i&gt;*  y énfasis con *&lt;em&gt;* ."
   ]
  },
  {
   "cell_type": "markdown",
   "metadata": {},
   "source": [
    "**Ejemplo:**"
   ]
  },
  {
   "cell_type": "markdown",
   "metadata": {},
   "source": [
    "``` html\n",
    "<p>En este caso <i>itálica</i> es el estilo y <em>énfasis</em> el efecto.</p>\n",
    "```"
   ]
  },
  {
   "cell_type": "markdown",
   "metadata": {},
   "source": [
    "<p>En este caso <i>itálicas</i> es el estilo y <em>énfasis</em> el efecto.</p>"
   ]
  },
  {
   "cell_type": "markdown",
   "metadata": {},
   "source": [
    "### Bold con con *&lt;b&gt;*  y fuerte con *&lt;strong&gt;* ."
   ]
  },
  {
   "cell_type": "markdown",
   "metadata": {},
   "source": [
    "**Ejemplo:**"
   ]
  },
  {
   "cell_type": "markdown",
   "metadata": {},
   "source": [
    "``` html\n",
    "<p>En este caso  <b>bold</b> es el estilo y <strong>fuerte</strong> el efecto.</p>\n",
    "```"
   ]
  },
  {
   "cell_type": "markdown",
   "metadata": {},
   "source": [
    "<p>En este caso  <b>bold</b> es el estilo y <strong>fuerte</strong> el efecto.</p>"
   ]
  },
  {
   "cell_type": "markdown",
   "metadata": {},
   "source": [
    "### Efectos con *&lt;ins&gt;*, *&lt;del&gt;*, *&lt;s&gt;*, *&lt;u&gt;* y *&lt;mark&gt;*."
   ]
  },
  {
   "cell_type": "markdown",
   "metadata": {},
   "source": [
    "**Ejemplo:**"
   ]
  },
  {
   "cell_type": "markdown",
   "metadata": {},
   "source": [
    "``` html\n",
    "<p> A veces es necesario <del>quitar</del><ins>corregir</ins> algunos textos o incluso <s>tacharlos</s>, o quizás <u>subrayarlos</u> pero preferentemente <mark>marcarlos</mark>.</p>\n",
    "```"
   ]
  },
  {
   "cell_type": "markdown",
   "metadata": {},
   "source": [
    "<p> A veces es necesario <del>quitar</del><ins>corregir</ins> algunos textos o incluso <s>tacharlos</s>, o quizás <u>subrayarlos</u> pero preferentemente <mark>marcarlos</mark>.</p>"
   ]
  },
  {
   "cell_type": "markdown",
   "metadata": {},
   "source": [
    "### Superíndice *&lt;sup&gt;*, subíndice *&lt;sub&gt;* y letras pequeñas *&lt;small&gt;*."
   ]
  },
  {
   "cell_type": "markdown",
   "metadata": {},
   "source": [
    "**Ejemplo:**"
   ]
  },
  {
   "cell_type": "markdown",
   "metadata": {},
   "source": [
    "``` html\n",
    "<p>En ciertos casos los <sub>subíndices</sub> y los <sup>superíndices</sup> junto con las <small>letras pequeñas</small> son de gran ayuda para entender un texto.<p>\n",
    "```"
   ]
  },
  {
   "cell_type": "markdown",
   "metadata": {},
   "source": [
    "<p>En ciertos casos los <sub>subíndices</sub> y los <sup>superíndices</sup> junto con las <small>letras pequeñas</small> son de gran ayuda para entender un texto.<p>"
   ]
  },
  {
   "cell_type": "markdown",
   "metadata": {},
   "source": [
    "### Abreviaturas con &lt;abbr&gt;.\n",
    "\n",
    "Este elemento incluye una breve descripción utilizando el atributo *title*."
   ]
  },
  {
   "cell_type": "markdown",
   "metadata": {},
   "source": [
    "**Ejemplo:**"
   ]
  },
  {
   "cell_type": "markdown",
   "metadata": {},
   "source": [
    "```html\n",
    "<p>El <abbr title=\"World Wide Web Consortium\">W3C</abbr> emite el estándar de HTML.</p>\n",
    "```"
   ]
  },
  {
   "cell_type": "markdown",
   "metadata": {},
   "source": [
    "<p>El <abbr title=\"World Wide Web Consortium\">W3C</abbr> emite el estándar de HTML.</p>"
   ]
  },
  {
   "cell_type": "markdown",
   "metadata": {},
   "source": [
    "### Definiciones en una línea con *&lt;dfn&gt;*.\n",
    "\n",
    "Este elemento incluye una breve descripción utilizando el atributo *title*."
   ]
  },
  {
   "cell_type": "markdown",
   "metadata": {},
   "source": [
    "**Ejemplos:**"
   ]
  },
  {
   "cell_type": "markdown",
   "metadata": {},
   "source": [
    "``` html\n",
    "<p><dfn>La web</dfn> no es <dfn title=\"Red de comunicaciones basadas en TCP/IP\">Internet.</dfn></p>\n",
    "```"
   ]
  },
  {
   "cell_type": "markdown",
   "metadata": {},
   "source": [
    "<p><dfn>La web</dfn> no es <dfn title=\"Red de comunicaciones basadas en TCP/IP\">Internet.</dfn></p>\n"
   ]
  },
  {
   "cell_type": "markdown",
   "metadata": {},
   "source": [
    "### Citas con *&lt;q&gt;* y *&lt;cite&gt;*.\n",
    "\n",
    "* El elemento *&lt;cite&gt;* se utiliza para citar a títulos de obras.\n",
    "* El elemento *&lt;q&gt;* se utiliza para citar fragmentos de una obra.\n",
    "\n",
    "```html\n",
    "<p>La canción <cite>El Rey</cite> decía: <q>Pero sigo siendo el Rey...</q>.</p>\n",
    "```"
   ]
  },
  {
   "cell_type": "markdown",
   "metadata": {},
   "source": [
    "\n",
    "<p>La canción <cite>El Rey</cite> decía: <q>Pero sigo siendo el Rey...</q>.</p>"
   ]
  },
  {
   "cell_type": "markdown",
   "metadata": {},
   "source": [
    "### Visualización de elementos que emulan código y entrada/salida de un programa."
   ]
  },
  {
   "cell_type": "markdown",
   "metadata": {},
   "source": [
    "* La etiqueta &lt;code&gt; se usa para despelgar código.\n",
    "* La etiqueta &lt;samp&gt; se usa para despelgar la salida de un programa.\n",
    "* La etiqueta &lt;kbd&gt; se usa para despelgar la entrada de un programa.\n",
    "* La etiqueta &lt;var&gt; se usa para despelgar una variable."
   ]
  },
  {
   "cell_type": "markdown",
   "metadata": {},
   "source": [
    "**Ejemplo:**"
   ]
  },
  {
   "cell_type": "markdown",
   "metadata": {},
   "source": [
    "``` html\n",
    "<p>El comando <code>print(nombre * 3)</code> da por resultado <samp>HolaHolaHola</samp> cuando se ingresa <kbd>Hola</kbd> a la variable <var>nombre</var>.</p>\n",
    "```"
   ]
  },
  {
   "cell_type": "markdown",
   "metadata": {},
   "source": [
    "<p>El comando <code>print(nombre * 3)</code> da por resultado <samp>HolaHolaHola</samp> cuando se ingresa <kbd>Hola</kbd> a la variable <var>nombre</var>.</p>"
   ]
  },
  {
   "cell_type": "markdown",
   "metadata": {},
   "source": [
    "### Elementos que incluyen datos no visibles."
   ]
  },
  {
   "cell_type": "markdown",
   "metadata": {},
   "source": [
    "#### El elemento *&lt;data&gt;*.\n",
    "\n",
    "Este elemento incluye el atributo *value*, el cual no es visible para el usuario, pero sí para las aplicaciones."
   ]
  },
  {
   "cell_type": "markdown",
   "metadata": {},
   "source": [
    "**Ejemplo:**"
   ]
  },
  {
   "cell_type": "markdown",
   "metadata": {},
   "source": [
    "```html\n",
    "<p><data value=12345>Cable de cobre de calibre 0.</data></p>\n",
    "<p><data value=12346>Cable de cobre de calibre 1.</data></p>\n",
    "<p><data value=12347>Cable de cobre de calibre 2.</data></p>\n",
    "```"
   ]
  },
  {
   "cell_type": "markdown",
   "metadata": {},
   "source": [
    "<p><data value=12345>Cable de cobre de calibre 0.</data></p>\n",
    "<p><data value=12346>Cable de cobre de calibre 1.</data></p>\n",
    "<p><data value=12347>Cable de cobre de calibre 2.</data></p>"
   ]
  },
  {
   "cell_type": "markdown",
   "metadata": {},
   "source": [
    "#### El elemento *&lt;time&gt;*.\n",
    "\n",
    "Este elemento indica que el texto se trata de una hora o una fecha.\n",
    "\n",
    "Si este elemento se utiiza sin atributos, el texto debe de corresponder a una hora específica utilizando un formato de 24 horas o un intervalo de tiempo medido en horas y minutos.\n",
    "\n",
    "Ell atributo *datetime*, el cual no es visible para el usuario, pero sí para las aplicaciones permite indicar una fecha con diversos niveles de precisión. Para conocer las fechas aceptadas por este atributo puede consultar en https://www.w3schools.com/Tags/att_time_datetime.asp"
   ]
  },
  {
   "cell_type": "markdown",
   "metadata": {},
   "source": [
    "<p>El inicio de inscripciones será el día <time datetime=\"2018-10-07\"> 7 de octubre</time>.</p>\n",
    "\n",
    "<p>Habrá una sesión informativa a las <time>10:00</time> con una duración <time>1h 30m</time>.</p>"
   ]
  },
  {
   "cell_type": "markdown",
   "metadata": {},
   "source": [
    "<p>El inicio de inscripciones será el día <time datetime=\"2018-10-07\"> 7 de agosto</time>.</p>\n",
    "\n",
    "<p>The concert starts at <time>20:00</time> and you'll be able to enjoy the band for at least <time>2h 30m</time>.</p>"
   ]
  },
  {
   "cell_type": "markdown",
   "metadata": {},
   "source": [
    "<p style=\"text-align: center\"><a rel=\"license\" href=\"http://creativecommons.org/licenses/by/4.0/\"><img alt=\"Licencia Creative Commons\" style=\"border-width:0\" src=\"https://i.creativecommons.org/l/by/4.0/80x15.png\" /></a><br />Esta obra está bajo una <a rel=\"license\" href=\"http://creativecommons.org/licenses/by/4.0/\">Licencia Creative Commons Atribución 4.0 Internacional</a>.</p>\n",
    "<p style=\"text-align: center\">&copy; José Luis Chiquete Valdivieso. 2018.</p>"
   ]
  }
 ],
 "metadata": {
  "kernelspec": {
   "display_name": "Python 3",
   "language": "python",
   "name": "python3"
  },
  "language_info": {
   "codemirror_mode": {
    "name": "ipython",
    "version": 3
   },
   "file_extension": ".py",
   "mimetype": "text/x-python",
   "name": "python",
   "nbconvert_exporter": "python",
   "pygments_lexer": "ipython3",
   "version": "3.6.5"
  }
 },
 "nbformat": 4,
 "nbformat_minor": 2
}
